{
  "nbformat": 4,
  "nbformat_minor": 0,
  "metadata": {
    "colab": {
      "provenance": [],
      "authorship_tag": "ABX9TyPPQttM0nHq1VNkuZxzc+oO",
      "include_colab_link": true
    },
    "kernelspec": {
      "name": "python3",
      "display_name": "Python 3"
    },
    "language_info": {
      "name": "python"
    }
  },
  "cells": [
    {
      "cell_type": "markdown",
      "metadata": {
        "id": "view-in-github",
        "colab_type": "text"
      },
      "source": [
        "<a href=\"https://colab.research.google.com/github/Diyaash/Data-Structures/blob/main/Data_Structures.ipynb\" target=\"_parent\"><img src=\"https://colab.research.google.com/assets/colab-badge.svg\" alt=\"Open In Colab\"/></a>"
      ]
    },
    {
      "cell_type": "code",
      "execution_count": null,
      "metadata": {
        "id": "iO9sWqHMlTto"
      },
      "outputs": [],
      "source": []
    },
    {
      "cell_type": "code",
      "source": [
        "DS = [5, 10, 15, 20, 25, 30]\n",
        "TDS = list(map(lambda x: x**3 + 10, DS))\n",
        "print(TDS)"
      ],
      "metadata": {
        "colab": {
          "base_uri": "https://localhost:8080/"
        },
        "id": "IK0Bz8TAnZZ4",
        "outputId": "556ac0d6-d7d2-4283-8940-9d2fd9425ddc"
      },
      "execution_count": null,
      "outputs": [
        {
          "output_type": "stream",
          "name": "stdout",
          "text": [
            "[135, 1010, 3385, 8010, 15635, 27010]\n"
          ]
        }
      ]
    },
    {
      "cell_type": "code",
      "source": [
        "def user():\n",
        "  dd=['yatharth','amit','sahil']\n",
        "  a=str(input('Enter the user name'))\n",
        "  if a in dd:\n",
        "    if a==dd[0]:\n",
        "      b=int(input('Enter paaword'))\n",
        "      if b==1234:\n",
        "        print('Login Succesful')\n",
        "      else:\n",
        "        print('Wrong Password')\n",
        "    if a==dd[1]:\n",
        "      b=int(input('Enter paaword'))\n",
        "      if b==234:\n",
        "        print('Login Succesful')\n",
        "      else:\n",
        "        print('Wrong Password')\n",
        "    if a==dd[2]:\n",
        "      b=int(input('Enter paaword'))\n",
        "      if b==34:\n",
        "        print('Login Succesful')\n",
        "      else:\n",
        "        print('Wrong Password')\n",
        "    else:\n",
        "      print('You are not a user in our company')\n",
        "user()"
      ],
      "metadata": {
        "colab": {
          "base_uri": "https://localhost:8080/"
        },
        "id": "6G3_DKxsomWe",
        "outputId": "39e5f68e-3514-4c25-dd35-3c147ecd3076"
      },
      "execution_count": null,
      "outputs": [
        {
          "name": "stdout",
          "output_type": "stream",
          "text": [
            "Enter the user namesahi\n"
          ]
        }
      ]
    },
    {
      "cell_type": "code",
      "source": [
        "#CALCULATOR\n",
        "\n",
        "def calculator():\n",
        "  a=int(input('enter first number'))\n",
        "  b=int(input('enter second number'))\n",
        "  c=str(input('enter the operation[+,-,*,//]'))\n",
        "  if c == '+':\n",
        "    print(a+b)\n",
        "  elif c=='-':\n",
        "    print(a-b)\n",
        "  elif c=='*':\n",
        "    print(a*b)\n",
        "  elif c==\"//\":\n",
        "    print(a//b)\n",
        "  else:\n",
        "    print('invalid operation chosen')\n",
        "calculator()\n",
        "\n"
      ],
      "metadata": {
        "colab": {
          "base_uri": "https://localhost:8080/"
        },
        "id": "OpM_ejFYphDP",
        "outputId": "e1ae8499-9b8c-4a42-beb9-82d15783388c"
      },
      "execution_count": null,
      "outputs": [
        {
          "output_type": "stream",
          "name": "stdout",
          "text": [
            "enter first number2\n",
            "enter second number3\n",
            "enter the operation[+,-,*,//]//\n",
            "0\n"
          ]
        }
      ]
    },
    {
      "cell_type": "markdown",
      "source": [
        "***DATA STRUCTURE***\n",
        "**LISTS** - mutable and ordered\n",
        "has 2-D list- list inside a list\n",
        "we can create an empty list also\n",
        "\n",
        "**TUPLES** - immutable and ordered\n",
        "\n",
        "enumerate =\n",
        "\n",
        "\n"
      ],
      "metadata": {
        "id": "wnklFwfF3J2J"
      }
    },
    {
      "cell_type": "code",
      "source": [
        "empty_list = []\n",
        "print(\"empty_list\", empty_list)\n",
        "\n",
        "numeric_list = [122, 443, 243]\n",
        "\n",
        "mixed_list = [1, 'one', 3.9,]\n",
        "\n",
        "for i in (mixed_list):\n",
        "  print(i)"
      ],
      "metadata": {
        "colab": {
          "base_uri": "https://localhost:8080/"
        },
        "id": "lsiH68gKx_CU",
        "outputId": "efd35d5a-a24e-42c2-b8aa-7cc5722bb9e5"
      },
      "execution_count": null,
      "outputs": [
        {
          "output_type": "stream",
          "name": "stdout",
          "text": [
            "empty_list []\n",
            "1\n",
            "one\n",
            "3.9\n"
          ]
        }
      ]
    },
    {
      "cell_type": "code",
      "source": [
        "1+2"
      ],
      "metadata": {
        "id": "a3tV8s0r5OoU"
      },
      "execution_count": null,
      "outputs": []
    },
    {
      "cell_type": "code",
      "source": [
        "\n",
        "numeric_list = [122, 443, 243]\n",
        "\n",
        "mixed_list = [1, 'one', 3.9,]\n",
        "\n",
        "for i,j in enumerate(mixed_list):\n",
        "  print(i,j)"
      ],
      "metadata": {
        "colab": {
          "base_uri": "https://localhost:8080/"
        },
        "id": "CpoMlzhO5UIM",
        "outputId": "1047ab04-0190-413c-b85a-c1d607fcfb6c"
      },
      "execution_count": null,
      "outputs": [
        {
          "output_type": "stream",
          "name": "stdout",
          "text": [
            "0 1\n",
            "1 one\n",
            "2 3.9\n"
          ]
        }
      ]
    },
    {
      "cell_type": "code",
      "source": [
        "\n",
        "numeric_list = [122, 443, 243]\n",
        "\n",
        "mixed_list = [1, 'one', 3.9,]\n",
        "\n",
        "for p,q in enumerate(numeric_list):\n",
        "  for i,j in enumerate(mixed_list):\n",
        "    print(i,j,p,q)"
      ],
      "metadata": {
        "colab": {
          "base_uri": "https://localhost:8080/"
        },
        "id": "9uwmbK_75j9o",
        "outputId": "dffc4fd6-bd0a-4f05-95b1-9dc88de6b676"
      },
      "execution_count": null,
      "outputs": [
        {
          "output_type": "stream",
          "name": "stdout",
          "text": [
            "0 1 0 122\n",
            "1 one 0 122\n",
            "2 3.9 0 122\n",
            "0 1 1 443\n",
            "1 one 1 443\n",
            "2 3.9 1 443\n",
            "0 1 2 243\n",
            "1 one 2 243\n",
            "2 3.9 2 243\n"
          ]
        }
      ]
    },
    {
      "cell_type": "code",
      "source": [],
      "metadata": {
        "id": "ik8b50nz6WCZ"
      },
      "execution_count": null,
      "outputs": []
    },
    {
      "cell_type": "markdown",
      "source": [
        "APPEND COMMAND- adds an element to the end of the list\n",
        "\n",
        "EXTEND COMMAND - adds elements of another list to the end of the list\n",
        "\n",
        "INSERT-insrts an element at a specified position in the list"
      ],
      "metadata": {
        "id": "jdf8XUwl6dwS"
      }
    },
    {
      "cell_type": "code",
      "source": [
        "list1 = [1, 2, 3]\n",
        "list2 = [4, 5, 6]\n",
        "list1.append(list2) #append creates a 2-D list\n",
        "print(list1)"
      ],
      "metadata": {
        "colab": {
          "base_uri": "https://localhost:8080/"
        },
        "id": "vpUQ3Sse6r3S",
        "outputId": "27c6fdfc-f210-4f79-ec70-ed48e9a3b9cd"
      },
      "execution_count": null,
      "outputs": [
        {
          "output_type": "stream",
          "name": "stdout",
          "text": [
            "[1, 2, 3, [4, 5, 6]]\n"
          ]
        }
      ]
    },
    {
      "cell_type": "code",
      "source": [
        "list1 = [1, 2, 3]\n",
        "list2 = [4, 5, 6]\n",
        "list1.extend(list2) #extend creates a 1-D list- ideal way to add multiple values\n",
        "print(list1)"
      ],
      "metadata": {
        "colab": {
          "base_uri": "https://localhost:8080/"
        },
        "id": "FQINfAaK8lF3",
        "outputId": "9cf0061f-57e0-4ee1-9e6e-176c07f4f830"
      },
      "execution_count": null,
      "outputs": [
        {
          "output_type": "stream",
          "name": "stdout",
          "text": [
            "[1, 2, 3, 4, 5, 6]\n"
          ]
        }
      ]
    },
    {
      "cell_type": "code",
      "source": [],
      "metadata": {
        "id": "y5yw23G-7Ead"
      },
      "execution_count": null,
      "outputs": []
    },
    {
      "cell_type": "markdown",
      "source": [
        "REMOVE COMMANDS\n",
        "\n",
        "REMOVE() - removes the first occurence of a specified value from the list\n",
        "\n",
        "pop()- removes and returns the element at a specified index\n",
        "\n",
        "de() - deete the element at a specified index"
      ],
      "metadata": {
        "id": "C8gVuZSF7XH0"
      }
    },
    {
      "cell_type": "code",
      "source": [
        "list1= [1, 2, 3, 5, 4]\n",
        "popped = list1.pop(3) #removes only one element specified at an index\n",
        "print(list1)"
      ],
      "metadata": {
        "colab": {
          "base_uri": "https://localhost:8080/"
        },
        "id": "KfnC7ywC7jeU",
        "outputId": "58027b0b-0352-4b80-e894-97ccc64008b1"
      },
      "execution_count": null,
      "outputs": [
        {
          "output_type": "stream",
          "name": "stdout",
          "text": [
            "[1, 2, 3, 4]\n"
          ]
        }
      ]
    },
    {
      "cell_type": "code",
      "source": [
        "list1= [1, 2, 3, 5, 4, 5]\n",
        "popped = list1.remove(5) #removes one element specified in the () only the first occurence.\n",
        "print(list1)"
      ],
      "metadata": {
        "colab": {
          "base_uri": "https://localhost:8080/"
        },
        "id": "NrAyu-uz9oNN",
        "outputId": "0ddbdc26-d370-4f75-a04c-9df37a2c6c68"
      },
      "execution_count": null,
      "outputs": [
        {
          "output_type": "stream",
          "name": "stdout",
          "text": [
            "[1, 2, 3, 4, 5]\n"
          ]
        }
      ]
    },
    {
      "cell_type": "code",
      "source": [
        "list1= [1, 2, 3, 5, 4]\n",
        "del list1[2:5] #removes only one element or a slicer specified at an index\n",
        "print(list1)"
      ],
      "metadata": {
        "colab": {
          "base_uri": "https://localhost:8080/"
        },
        "id": "s4DpFc9K-CXy",
        "outputId": "4c6e0596-688c-46bf-cd7a-4c54922c2ddc"
      },
      "execution_count": null,
      "outputs": [
        {
          "output_type": "stream",
          "name": "stdout",
          "text": [
            "[1, 2]\n"
          ]
        }
      ]
    },
    {
      "cell_type": "markdown",
      "source": [
        "if we wan to remove mltiple elements from a list- we have to use remove command twice"
      ],
      "metadata": {
        "id": "RVat5lRe_v-Z"
      }
    },
    {
      "cell_type": "markdown",
      "source": [
        "REVERSING - REVERSE() - reverses the elements of a list\n",
        "\n",
        "COPY COMMAND- to manipulate.a list without altering the original list"
      ],
      "metadata": {
        "id": "MxUGWjyg_4oU"
      }
    },
    {
      "cell_type": "code",
      "source": [
        "list1= [3,2,1]\n",
        "list1.reverse()\n",
        "print(\"After reversing: \", list1)"
      ],
      "metadata": {
        "colab": {
          "base_uri": "https://localhost:8080/"
        },
        "id": "2U9TGYuv-dTB",
        "outputId": "77b520de-e2b6-4001-d0c0-53cbf1497548"
      },
      "execution_count": null,
      "outputs": [
        {
          "output_type": "stream",
          "name": "stdout",
          "text": [
            "After reversing:  [1, 2, 3]\n"
          ]
        }
      ]
    },
    {
      "cell_type": "code",
      "source": [
        "list1= [3,2,1]\n",
        "list2= list1.copy()\n",
        "print(list2)"
      ],
      "metadata": {
        "colab": {
          "base_uri": "https://localhost:8080/"
        },
        "id": "fL2ZT46IAT0e",
        "outputId": "dd99b213-9139-4a0a-ad27-0a8d748d0825"
      },
      "execution_count": null,
      "outputs": [
        {
          "output_type": "stream",
          "name": "stdout",
          "text": [
            "[3, 2, 1]\n"
          ]
        }
      ]
    },
    {
      "cell_type": "markdown",
      "source": [
        "SLICING-\n",
        "\n",
        "POSITIVE SLICING- left to right [0,1,2...]\n",
        "\n",
        "NEGATIVE SLICING-right to left [-1, -2, -3...]"
      ],
      "metadata": {
        "id": "8Q6k_KL1BMbV"
      }
    },
    {
      "cell_type": "code",
      "source": [
        "a= [1, \"python\", 34, 4, \"kia\"]\n",
        "b= a[1:3]\n",
        "print(b)"
      ],
      "metadata": {
        "colab": {
          "base_uri": "https://localhost:8080/"
        },
        "id": "3b3LpJjkA_s6",
        "outputId": "22441366-dc57-4245-94dc-83b262846139"
      },
      "execution_count": null,
      "outputs": [
        {
          "output_type": "stream",
          "name": "stdout",
          "text": [
            "['python', 34]\n"
          ]
        }
      ]
    },
    {
      "cell_type": "code",
      "source": [
        "a= [1, \"python\", 34, 4, \"kia\"]\n",
        "b= a[-4:-2] #always the smaller number first\n",
        "print(b)"
      ],
      "metadata": {
        "colab": {
          "base_uri": "https://localhost:8080/"
        },
        "id": "YUft3WvrCGWa",
        "outputId": "1519ad12-a765-4972-fc29-adbe5bd8aeb0"
      },
      "execution_count": null,
      "outputs": [
        {
          "output_type": "stream",
          "name": "stdout",
          "text": [
            "['python', 34]\n"
          ]
        }
      ]
    },
    {
      "cell_type": "code",
      "source": [
        "a= [1, \"python\", 34, 4, \"kia\"]\n",
        "b= a[-3:-5:-1]\n",
        "print(b)"
      ],
      "metadata": {
        "colab": {
          "base_uri": "https://localhost:8080/"
        },
        "id": "rIaBF5SkCNro",
        "outputId": "b98e9410-526b-4703-fd01-e0bfb127190a"
      },
      "execution_count": null,
      "outputs": [
        {
          "output_type": "stream",
          "name": "stdout",
          "text": [
            "[34, 'python']\n"
          ]
        }
      ]
    },
    {
      "cell_type": "code",
      "source": [
        "a= [[1,2,3], [4,5,6], [7,8,9]]\n",
        "print(sublist for sublist in a)"
      ],
      "metadata": {
        "colab": {
          "base_uri": "https://localhost:8080/"
        },
        "id": "p3fg8uibDYT4",
        "outputId": "7bf36653-5a4e-4260-d183-02a78f08c3ac"
      },
      "execution_count": null,
      "outputs": [
        {
          "output_type": "stream",
          "name": "stdout",
          "text": [
            "<generator object <genexpr> at 0x7c9f8547f680>\n"
          ]
        }
      ]
    },
    {
      "cell_type": "markdown",
      "source": [
        "elipses(...) - used in multidimensional lists to represent\n",
        "\n",
        "LIST COMPREHENSION -\n",
        "\n",
        "\n",
        "** % is modulo which means remainder**"
      ],
      "metadata": {
        "id": "5e4nc-fmDeot"
      }
    },
    {
      "cell_type": "code",
      "source": [
        "squares = [x**2 for x in range(5)] #printing squares til range 5\n",
        "print(squares)"
      ],
      "metadata": {
        "colab": {
          "base_uri": "https://localhost:8080/"
        },
        "id": "A54btC35FA-e",
        "outputId": "399a8329-0edc-4aa1-9e09-f2da8633395f"
      },
      "execution_count": null,
      "outputs": [
        {
          "output_type": "stream",
          "name": "stdout",
          "text": [
            "[0, 1, 4, 9, 16]\n"
          ]
        }
      ]
    },
    {
      "cell_type": "code",
      "source": [
        "#printing even sqaures\n",
        "even_sq = [x**2 if x % 2 == 0 else x**3 for x in range(6)]\n",
        "print(even_sq)"
      ],
      "metadata": {
        "colab": {
          "base_uri": "https://localhost:8080/"
        },
        "id": "S-pAsTctFSZ0",
        "outputId": "f419dc71-a979-489d-ab1f-2aa5032c4836"
      },
      "execution_count": null,
      "outputs": [
        {
          "output_type": "stream",
          "name": "stdout",
          "text": [
            "[0, 1, 4, 27, 16, 125]\n"
          ]
        }
      ]
    },
    {
      "cell_type": "code",
      "source": [
        "odd_num = [x for x in range(10) if x % 2 != 0]\n",
        "print(odd_num) #!= is unequals to"
      ],
      "metadata": {
        "colab": {
          "base_uri": "https://localhost:8080/"
        },
        "id": "cZy9Dx3_Fu7_",
        "outputId": "00ee19b0-63cc-4864-f946-c9331704b4c5"
      },
      "execution_count": null,
      "outputs": [
        {
          "output_type": "stream",
          "name": "stdout",
          "text": [
            "[1, 3, 5, 7, 9]\n"
          ]
        }
      ]
    },
    {
      "cell_type": "markdown",
      "source": [
        "NESTED LIST-"
      ],
      "metadata": {
        "id": "LQlw_jniGX2t"
      }
    },
    {
      "cell_type": "code",
      "source": [
        "#nested LISTS\n",
        "a= [[1,2,3],[4,5,6], [7,8,9]]\n",
        "filtered_squared= [x**2 for row in a for x in row if x % 2 ==0]\n",
        "print(filtered_squared)\n",
        "  # trying to access list inside list- if we want to work with element inside a nested list\n"
      ],
      "metadata": {
        "colab": {
          "base_uri": "https://localhost:8080/"
        },
        "id": "Dtwo84j7GKul",
        "outputId": "a5cf4665-c31c-470d-e7d0-d8c579856421"
      },
      "execution_count": null,
      "outputs": [
        {
          "output_type": "stream",
          "name": "stdout",
          "text": [
            "[4, 16, 36, 64]\n"
          ]
        }
      ]
    },
    {
      "cell_type": "markdown",
      "source": [
        "SAME NESTED LIST OPEration IN ANOTHER WAY"
      ],
      "metadata": {
        "id": "eZiH5F_JJK3H"
      }
    },
    {
      "cell_type": "code",
      "source": [
        "a= [[1,2,3],[4,5,6], [7,8,9]] #2D list\n",
        "for big_element in a:\n",
        "  for inner_element in big_element: #thats why 2 for loops needed\n",
        "    if inner_element % 2 == 0: #if loop at the end because first we access that element\n",
        "      print(inner_element**2)"
      ],
      "metadata": {
        "colab": {
          "base_uri": "https://localhost:8080/"
        },
        "id": "L0QjIJPUIXVl",
        "outputId": "d8516757-e883-4b81-9781-f6fc145d5e7e"
      },
      "execution_count": null,
      "outputs": [
        {
          "output_type": "stream",
          "name": "stdout",
          "text": [
            "4\n",
            "16\n",
            "36\n",
            "64\n"
          ]
        }
      ]
    },
    {
      "cell_type": "markdown",
      "source": [
        "**TUPLES** - (), immutable -cant change later\n",
        "\n",
        "operations with tuples : below\n",
        "support the len() function to determine the number of elements."
      ],
      "metadata": {
        "id": "jECNm93GJvOb"
      }
    },
    {
      "cell_type": "code",
      "source": [],
      "metadata": {
        "id": "R5bj9F30Kmyr"
      },
      "execution_count": null,
      "outputs": []
    },
    {
      "cell_type": "code",
      "source": [
        "li = [1,2,3]\n",
        "li2 = [2,3,4]\n",
        "\n",
        "li + (li2*2) #give li2 elements twice"
      ],
      "metadata": {
        "colab": {
          "base_uri": "https://localhost:8080/"
        },
        "id": "86rfS4NcJG8W",
        "outputId": "400a47da-b2c2-4f93-f386-02afe25a14c3"
      },
      "execution_count": null,
      "outputs": [
        {
          "output_type": "execute_result",
          "data": {
            "text/plain": [
              "[1, 2, 3, 2, 3, 4, 2, 3, 4]"
            ]
          },
          "metadata": {},
          "execution_count": 79
        }
      ]
    },
    {
      "cell_type": "code",
      "source": [
        "t1 = (1,2,3)\n",
        "t2 = (4,5,6)\n",
        "\n",
        "t1 + (t1*2) #CONCATENATION OF TUPLES"
      ],
      "metadata": {
        "colab": {
          "base_uri": "https://localhost:8080/"
        },
        "id": "kzqnTICgKMGO",
        "outputId": "b70e32e3-ea4e-44e0-bdb9-f7e4312d00e9"
      },
      "execution_count": null,
      "outputs": [
        {
          "output_type": "execute_result",
          "data": {
            "text/plain": [
              "(1, 2, 3, 1, 2, 3, 1, 2, 3)"
            ]
          },
          "metadata": {},
          "execution_count": 81
        }
      ]
    },
    {
      "cell_type": "code",
      "source": [
        "t1 = [1,2,3]\n",
        "t2 = tuple(t1) #type casting - changing the type\n",
        "print(t2)"
      ],
      "metadata": {
        "colab": {
          "base_uri": "https://localhost:8080/"
        },
        "id": "6O5yjdUCLfyy",
        "outputId": "2ddf454a-0e5a-4bdb-af34-4a8b94eb05d1"
      },
      "execution_count": null,
      "outputs": [
        {
          "output_type": "stream",
          "name": "stdout",
          "text": [
            "(1, 2, 3)\n"
          ]
        }
      ]
    },
    {
      "cell_type": "code",
      "source": [],
      "metadata": {
        "id": "d8PD0GO3MZzR"
      },
      "execution_count": null,
      "outputs": []
    }
  ]
}