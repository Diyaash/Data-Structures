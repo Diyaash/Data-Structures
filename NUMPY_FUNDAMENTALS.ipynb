{
  "cells": [
    {
      "cell_type": "markdown",
      "metadata": {
        "id": "view-in-github",
        "colab_type": "text"
      },
      "source": [
        "<a href=\"https://colab.research.google.com/github/Diyaash/Data-Structures/blob/main/NUMPY_FUNDAMENTALS.ipynb\" target=\"_parent\"><img src=\"https://colab.research.google.com/assets/colab-badge.svg\" alt=\"Open In Colab\"/></a>"
      ]
    },
    {
      "cell_type": "markdown",
      "id": "855f4353-1836-4468-bf3b-362e4ab95ec6",
      "metadata": {
        "id": "855f4353-1836-4468-bf3b-362e4ab95ec6"
      },
      "source": [
        "# Introduction to Numpy"
      ]
    },
    {
      "cell_type": "markdown",
      "id": "02a5e619-566f-4450-b623-495649f6bcb7",
      "metadata": {
        "id": "02a5e619-566f-4450-b623-495649f6bcb7"
      },
      "source": [
        "NumPy (Numerical Python) is a fundamental library in Python for numerical and scientific computing.\n",
        "It provides support for arrays, matrices, and a wide range of mathematical functions to work efficiently with large datasets and perform various mathematical operations"
      ]
    },
    {
      "cell_type": "markdown",
      "id": "615238dc-1228-41ea-8795-1b55d7858d4c",
      "metadata": {
        "id": "615238dc-1228-41ea-8795-1b55d7858d4c"
      },
      "source": [
        "# Creating NumPy Array"
      ]
    },
    {
      "cell_type": "code",
      "source": [
        "import numpy as np\n",
        "arr = np.array([1,2,3,4,5])\n",
        "arr_2 = np.array({1,2,3,4,5})\n",
        "print(type(arr), type(arr_2))\n",
        "\n",
        "zeros_arr = np.zeros((3, 3))\n",
        "ones_arr = np.ones((5, 5))\n",
        "\n",
        "print(zeros_arr)\n",
        "print(ones_arr)\n",
        "import random\n",
        "\n",
        "arr = np.arange(0, 10, 2)  # Creates an array [0, 2, 4, 6, 8]\n",
        "arr_2 = np.linspace(1, 10, 10)  # Creates an array [0.  , 0.25, 0.5 , 0.75, 1.  ]\n",
        "print(arr, arr_2)\n",
        "\n",
        "rand_arr = np.random.rand(4, 4)\n",
        "print(rand_arr)\n",
        "\n",
        "arr = np.array([1,2,3,4], ndmin=4)\n",
        "print(arr)\n",
        "\n",
        "#16 = 8*2, 2*8, 4*4, 16*1, 1*16\n",
        "\n",
        "reshaped_array = rand_arr.reshape(2,8)\n",
        "print(reshaped_array)\n",
        "print(reshaped_array.shape)\n",
        "print(reshaped_array.ndim)\n",
        "\n",
        "print(reshaped_array.dtype)\n",
        "print(type(reshaped_array))\n",
        "\n",
        "\n",
        "arr = np.array([1,2,3,4], dtype='i')\n",
        "print(arr.dtype)\n",
        "\n",
        "#bits - fundamental unit -> 8 bit 1 bite -> KB, MB, GB, TB\n",
        "#1024 bytes = 1kb\n",
        "\n",
        "str_arr = np.array(['dogs','cats','horses'], dtype='S')  # to initalize with a specific datatype\n",
        "str_arr"
      ],
      "metadata": {
        "colab": {
          "base_uri": "https://localhost:8080/"
        },
        "id": "qvRqmCFUzxnS",
        "outputId": "189b9efd-0a3a-4f8c-a9bb-7f08e9d9ede7"
      },
      "id": "qvRqmCFUzxnS",
      "execution_count": null,
      "outputs": [
        {
          "output_type": "stream",
          "name": "stdout",
          "text": [
            "<class 'numpy.ndarray'> <class 'numpy.ndarray'>\n",
            "[[0. 0. 0.]\n",
            " [0. 0. 0.]\n",
            " [0. 0. 0.]]\n",
            "[[1. 1. 1. 1. 1.]\n",
            " [1. 1. 1. 1. 1.]\n",
            " [1. 1. 1. 1. 1.]\n",
            " [1. 1. 1. 1. 1.]\n",
            " [1. 1. 1. 1. 1.]]\n",
            "[0 2 4 6 8] [ 1.  2.  3.  4.  5.  6.  7.  8.  9. 10.]\n",
            "[[0.29331198 0.09444711 0.065431   0.61056814]\n",
            " [0.96024871 0.47991728 0.77571111 0.72997042]\n",
            " [0.97131453 0.75971199 0.58468999 0.76241238]\n",
            " [0.60076872 0.5892324  0.28047825 0.37987164]]\n",
            "[[[[1 2 3 4]]]]\n",
            "[[0.29331198 0.09444711 0.065431   0.61056814 0.96024871 0.47991728\n",
            "  0.77571111 0.72997042]\n",
            " [0.97131453 0.75971199 0.58468999 0.76241238 0.60076872 0.5892324\n",
            "  0.28047825 0.37987164]]\n",
            "(2, 8)\n",
            "2\n",
            "float64\n",
            "<class 'numpy.ndarray'>\n",
            "int32\n"
          ]
        },
        {
          "output_type": "execute_result",
          "data": {
            "text/plain": [
              "array([b'dogs', b'cats', b'horses'], dtype='|S6')"
            ]
          },
          "metadata": {},
          "execution_count": 28
        }
      ]
    },
    {
      "cell_type": "code",
      "source": [
        "#help(np.array)"
      ],
      "metadata": {
        "id": "zveBLhiu6wLX"
      },
      "id": "zveBLhiu6wLX",
      "execution_count": null,
      "outputs": []
    },
    {
      "cell_type": "code",
      "source": [
        "arr = np.array([[1, 2, 3], [4, 5, 6], [7, 8, 9]])\n",
        "\n",
        "print(arr[0,2])\n",
        "arr[0,2] = 44\n",
        "print(arr[0,2])\n",
        "\n",
        "print(arr[0:2,0:2])\n",
        "\n",
        "mask = arr > 5\n",
        "even_slicing = (arr % 2 == 0)\n",
        "#print(even_slicing)\n",
        "sliced_array_with_bool = arr[even_slicing]\n",
        "#print(sliced_array_with_bool)\n",
        "\n",
        "a = np.array([[1,2,3,4], [5,6,7,8], [9,10,11,12]])\n",
        "#?a.shape\n"
      ],
      "metadata": {
        "colab": {
          "base_uri": "https://localhost:8080/"
        },
        "id": "ijv-6hA79amu",
        "outputId": "c19fe796-d9f3-4881-e3fe-234a9c55c7aa"
      },
      "id": "ijv-6hA79amu",
      "execution_count": null,
      "outputs": [
        {
          "output_type": "stream",
          "name": "stdout",
          "text": [
            "3\n",
            "44\n"
          ]
        }
      ]
    },
    {
      "cell_type": "code",
      "source": [
        "arr1 = np.array([1, 2, 3])\n",
        "arr2 = np.array([4, 5, 6])\n",
        "\n",
        "k = 5\n",
        "\n",
        "print(arr1 ** 2)\n",
        "print(arr1 * k)\n",
        "print(arr1 * 77)\n",
        "print(arr1 + arr2)\n",
        "print(arr1 * arr2)\n",
        "\n",
        "mean = np.mean(arr1)\n",
        "std_dev = np.std(arr2)\n",
        "print('mean:',mean,'std_dev:' ,std_dev)\n",
        "\n",
        "\n",
        "print(arr2.max())\n",
        "print(arr2.min())\n",
        "print(arr2.sum())\n"
      ],
      "metadata": {
        "colab": {
          "base_uri": "https://localhost:8080/"
        },
        "id": "keN3x6DCB__0",
        "outputId": "28a4a9d2-a9cc-4482-cd88-7079bdc3b1d0"
      },
      "id": "keN3x6DCB__0",
      "execution_count": null,
      "outputs": [
        {
          "output_type": "stream",
          "name": "stdout",
          "text": [
            "[1 4 9]\n",
            "[ 5 10 15]\n",
            "[ 77 154 231]\n",
            "[5 7 9]\n",
            "[ 4 10 18]\n",
            "mean: 2.0 std_dev: 0.816496580927726\n",
            "6\n",
            "4\n",
            "15\n"
          ]
        }
      ]
    },
    {
      "cell_type": "markdown",
      "source": [
        "# Pandas Dataframe"
      ],
      "metadata": {
        "id": "4m5epNczGPAY"
      },
      "id": "4m5epNczGPAY"
    },
    {
      "cell_type": "code",
      "source": [
        "import pandas as pd\n",
        "\n",
        "\n",
        "data = {'Name': ['Alice', 'Bob', 'Charlie'], 'Age': [25, 30, 35]}\n",
        "df_from_dict = pd.DataFrame(data)\n",
        "\n",
        "df_from_dict"
      ],
      "metadata": {
        "colab": {
          "base_uri": "https://localhost:8080/",
          "height": 143
        },
        "id": "SDsV2B3dFdJh",
        "outputId": "b91aff43-5efa-4cd5-c62d-f4ac15010c53"
      },
      "id": "SDsV2B3dFdJh",
      "execution_count": null,
      "outputs": [
        {
          "output_type": "execute_result",
          "data": {
            "text/plain": [
              "      Name  Age\n",
              "0    Alice   25\n",
              "1      Bob   30\n",
              "2  Charlie   35"
            ],
            "text/html": [
              "\n",
              "  <div id=\"df-cedbcf33-6245-4b6f-88cd-b0fe90b8d446\" class=\"colab-df-container\">\n",
              "    <div>\n",
              "<style scoped>\n",
              "    .dataframe tbody tr th:only-of-type {\n",
              "        vertical-align: middle;\n",
              "    }\n",
              "\n",
              "    .dataframe tbody tr th {\n",
              "        vertical-align: top;\n",
              "    }\n",
              "\n",
              "    .dataframe thead th {\n",
              "        text-align: right;\n",
              "    }\n",
              "</style>\n",
              "<table border=\"1\" class=\"dataframe\">\n",
              "  <thead>\n",
              "    <tr style=\"text-align: right;\">\n",
              "      <th></th>\n",
              "      <th>Name</th>\n",
              "      <th>Age</th>\n",
              "    </tr>\n",
              "  </thead>\n",
              "  <tbody>\n",
              "    <tr>\n",
              "      <th>0</th>\n",
              "      <td>Alice</td>\n",
              "      <td>25</td>\n",
              "    </tr>\n",
              "    <tr>\n",
              "      <th>1</th>\n",
              "      <td>Bob</td>\n",
              "      <td>30</td>\n",
              "    </tr>\n",
              "    <tr>\n",
              "      <th>2</th>\n",
              "      <td>Charlie</td>\n",
              "      <td>35</td>\n",
              "    </tr>\n",
              "  </tbody>\n",
              "</table>\n",
              "</div>\n",
              "    <div class=\"colab-df-buttons\">\n",
              "\n",
              "  <div class=\"colab-df-container\">\n",
              "    <button class=\"colab-df-convert\" onclick=\"convertToInteractive('df-cedbcf33-6245-4b6f-88cd-b0fe90b8d446')\"\n",
              "            title=\"Convert this dataframe to an interactive table.\"\n",
              "            style=\"display:none;\">\n",
              "\n",
              "  <svg xmlns=\"http://www.w3.org/2000/svg\" height=\"24px\" viewBox=\"0 -960 960 960\">\n",
              "    <path d=\"M120-120v-720h720v720H120Zm60-500h600v-160H180v160Zm220 220h160v-160H400v160Zm0 220h160v-160H400v160ZM180-400h160v-160H180v160Zm440 0h160v-160H620v160ZM180-180h160v-160H180v160Zm440 0h160v-160H620v160Z\"/>\n",
              "  </svg>\n",
              "    </button>\n",
              "\n",
              "  <style>\n",
              "    .colab-df-container {\n",
              "      display:flex;\n",
              "      gap: 12px;\n",
              "    }\n",
              "\n",
              "    .colab-df-convert {\n",
              "      background-color: #E8F0FE;\n",
              "      border: none;\n",
              "      border-radius: 50%;\n",
              "      cursor: pointer;\n",
              "      display: none;\n",
              "      fill: #1967D2;\n",
              "      height: 32px;\n",
              "      padding: 0 0 0 0;\n",
              "      width: 32px;\n",
              "    }\n",
              "\n",
              "    .colab-df-convert:hover {\n",
              "      background-color: #E2EBFA;\n",
              "      box-shadow: 0px 1px 2px rgba(60, 64, 67, 0.3), 0px 1px 3px 1px rgba(60, 64, 67, 0.15);\n",
              "      fill: #174EA6;\n",
              "    }\n",
              "\n",
              "    .colab-df-buttons div {\n",
              "      margin-bottom: 4px;\n",
              "    }\n",
              "\n",
              "    [theme=dark] .colab-df-convert {\n",
              "      background-color: #3B4455;\n",
              "      fill: #D2E3FC;\n",
              "    }\n",
              "\n",
              "    [theme=dark] .colab-df-convert:hover {\n",
              "      background-color: #434B5C;\n",
              "      box-shadow: 0px 1px 3px 1px rgba(0, 0, 0, 0.15);\n",
              "      filter: drop-shadow(0px 1px 2px rgba(0, 0, 0, 0.3));\n",
              "      fill: #FFFFFF;\n",
              "    }\n",
              "  </style>\n",
              "\n",
              "    <script>\n",
              "      const buttonEl =\n",
              "        document.querySelector('#df-cedbcf33-6245-4b6f-88cd-b0fe90b8d446 button.colab-df-convert');\n",
              "      buttonEl.style.display =\n",
              "        google.colab.kernel.accessAllowed ? 'block' : 'none';\n",
              "\n",
              "      async function convertToInteractive(key) {\n",
              "        const element = document.querySelector('#df-cedbcf33-6245-4b6f-88cd-b0fe90b8d446');\n",
              "        const dataTable =\n",
              "          await google.colab.kernel.invokeFunction('convertToInteractive',\n",
              "                                                    [key], {});\n",
              "        if (!dataTable) return;\n",
              "\n",
              "        const docLinkHtml = 'Like what you see? Visit the ' +\n",
              "          '<a target=\"_blank\" href=https://colab.research.google.com/notebooks/data_table.ipynb>data table notebook</a>'\n",
              "          + ' to learn more about interactive tables.';\n",
              "        element.innerHTML = '';\n",
              "        dataTable['output_type'] = 'display_data';\n",
              "        await google.colab.output.renderOutput(dataTable, element);\n",
              "        const docLink = document.createElement('div');\n",
              "        docLink.innerHTML = docLinkHtml;\n",
              "        element.appendChild(docLink);\n",
              "      }\n",
              "    </script>\n",
              "  </div>\n",
              "\n",
              "\n",
              "<div id=\"df-22ef280e-76b5-4b8d-91cb-6b81ab70c2c0\">\n",
              "  <button class=\"colab-df-quickchart\" onclick=\"quickchart('df-22ef280e-76b5-4b8d-91cb-6b81ab70c2c0')\"\n",
              "            title=\"Suggest charts\"\n",
              "            style=\"display:none;\">\n",
              "\n",
              "<svg xmlns=\"http://www.w3.org/2000/svg\" height=\"24px\"viewBox=\"0 0 24 24\"\n",
              "     width=\"24px\">\n",
              "    <g>\n",
              "        <path d=\"M19 3H5c-1.1 0-2 .9-2 2v14c0 1.1.9 2 2 2h14c1.1 0 2-.9 2-2V5c0-1.1-.9-2-2-2zM9 17H7v-7h2v7zm4 0h-2V7h2v10zm4 0h-2v-4h2v4z\"/>\n",
              "    </g>\n",
              "</svg>\n",
              "  </button>\n",
              "\n",
              "<style>\n",
              "  .colab-df-quickchart {\n",
              "      --bg-color: #E8F0FE;\n",
              "      --fill-color: #1967D2;\n",
              "      --hover-bg-color: #E2EBFA;\n",
              "      --hover-fill-color: #174EA6;\n",
              "      --disabled-fill-color: #AAA;\n",
              "      --disabled-bg-color: #DDD;\n",
              "  }\n",
              "\n",
              "  [theme=dark] .colab-df-quickchart {\n",
              "      --bg-color: #3B4455;\n",
              "      --fill-color: #D2E3FC;\n",
              "      --hover-bg-color: #434B5C;\n",
              "      --hover-fill-color: #FFFFFF;\n",
              "      --disabled-bg-color: #3B4455;\n",
              "      --disabled-fill-color: #666;\n",
              "  }\n",
              "\n",
              "  .colab-df-quickchart {\n",
              "    background-color: var(--bg-color);\n",
              "    border: none;\n",
              "    border-radius: 50%;\n",
              "    cursor: pointer;\n",
              "    display: none;\n",
              "    fill: var(--fill-color);\n",
              "    height: 32px;\n",
              "    padding: 0;\n",
              "    width: 32px;\n",
              "  }\n",
              "\n",
              "  .colab-df-quickchart:hover {\n",
              "    background-color: var(--hover-bg-color);\n",
              "    box-shadow: 0 1px 2px rgba(60, 64, 67, 0.3), 0 1px 3px 1px rgba(60, 64, 67, 0.15);\n",
              "    fill: var(--button-hover-fill-color);\n",
              "  }\n",
              "\n",
              "  .colab-df-quickchart-complete:disabled,\n",
              "  .colab-df-quickchart-complete:disabled:hover {\n",
              "    background-color: var(--disabled-bg-color);\n",
              "    fill: var(--disabled-fill-color);\n",
              "    box-shadow: none;\n",
              "  }\n",
              "\n",
              "  .colab-df-spinner {\n",
              "    border: 2px solid var(--fill-color);\n",
              "    border-color: transparent;\n",
              "    border-bottom-color: var(--fill-color);\n",
              "    animation:\n",
              "      spin 1s steps(1) infinite;\n",
              "  }\n",
              "\n",
              "  @keyframes spin {\n",
              "    0% {\n",
              "      border-color: transparent;\n",
              "      border-bottom-color: var(--fill-color);\n",
              "      border-left-color: var(--fill-color);\n",
              "    }\n",
              "    20% {\n",
              "      border-color: transparent;\n",
              "      border-left-color: var(--fill-color);\n",
              "      border-top-color: var(--fill-color);\n",
              "    }\n",
              "    30% {\n",
              "      border-color: transparent;\n",
              "      border-left-color: var(--fill-color);\n",
              "      border-top-color: var(--fill-color);\n",
              "      border-right-color: var(--fill-color);\n",
              "    }\n",
              "    40% {\n",
              "      border-color: transparent;\n",
              "      border-right-color: var(--fill-color);\n",
              "      border-top-color: var(--fill-color);\n",
              "    }\n",
              "    60% {\n",
              "      border-color: transparent;\n",
              "      border-right-color: var(--fill-color);\n",
              "    }\n",
              "    80% {\n",
              "      border-color: transparent;\n",
              "      border-right-color: var(--fill-color);\n",
              "      border-bottom-color: var(--fill-color);\n",
              "    }\n",
              "    90% {\n",
              "      border-color: transparent;\n",
              "      border-bottom-color: var(--fill-color);\n",
              "    }\n",
              "  }\n",
              "</style>\n",
              "\n",
              "  <script>\n",
              "    async function quickchart(key) {\n",
              "      const quickchartButtonEl =\n",
              "        document.querySelector('#' + key + ' button');\n",
              "      quickchartButtonEl.disabled = true;  // To prevent multiple clicks.\n",
              "      quickchartButtonEl.classList.add('colab-df-spinner');\n",
              "      try {\n",
              "        const charts = await google.colab.kernel.invokeFunction(\n",
              "            'suggestCharts', [key], {});\n",
              "      } catch (error) {\n",
              "        console.error('Error during call to suggestCharts:', error);\n",
              "      }\n",
              "      quickchartButtonEl.classList.remove('colab-df-spinner');\n",
              "      quickchartButtonEl.classList.add('colab-df-quickchart-complete');\n",
              "    }\n",
              "    (() => {\n",
              "      let quickchartButtonEl =\n",
              "        document.querySelector('#df-22ef280e-76b5-4b8d-91cb-6b81ab70c2c0 button');\n",
              "      quickchartButtonEl.style.display =\n",
              "        google.colab.kernel.accessAllowed ? 'block' : 'none';\n",
              "    })();\n",
              "  </script>\n",
              "</div>\n",
              "\n",
              "  <div id=\"id_1b4ca0f2-8db5-4736-a266-1588af596ca0\">\n",
              "    <style>\n",
              "      .colab-df-generate {\n",
              "        background-color: #E8F0FE;\n",
              "        border: none;\n",
              "        border-radius: 50%;\n",
              "        cursor: pointer;\n",
              "        display: none;\n",
              "        fill: #1967D2;\n",
              "        height: 32px;\n",
              "        padding: 0 0 0 0;\n",
              "        width: 32px;\n",
              "      }\n",
              "\n",
              "      .colab-df-generate:hover {\n",
              "        background-color: #E2EBFA;\n",
              "        box-shadow: 0px 1px 2px rgba(60, 64, 67, 0.3), 0px 1px 3px 1px rgba(60, 64, 67, 0.15);\n",
              "        fill: #174EA6;\n",
              "      }\n",
              "\n",
              "      [theme=dark] .colab-df-generate {\n",
              "        background-color: #3B4455;\n",
              "        fill: #D2E3FC;\n",
              "      }\n",
              "\n",
              "      [theme=dark] .colab-df-generate:hover {\n",
              "        background-color: #434B5C;\n",
              "        box-shadow: 0px 1px 3px 1px rgba(0, 0, 0, 0.15);\n",
              "        filter: drop-shadow(0px 1px 2px rgba(0, 0, 0, 0.3));\n",
              "        fill: #FFFFFF;\n",
              "      }\n",
              "    </style>\n",
              "    <button class=\"colab-df-generate\" onclick=\"generateWithVariable('df_from_dict')\"\n",
              "            title=\"Generate code using this dataframe.\"\n",
              "            style=\"display:none;\">\n",
              "\n",
              "  <svg xmlns=\"http://www.w3.org/2000/svg\" height=\"24px\"viewBox=\"0 0 24 24\"\n",
              "       width=\"24px\">\n",
              "    <path d=\"M7,19H8.4L18.45,9,17,7.55,7,17.6ZM5,21V16.75L18.45,3.32a2,2,0,0,1,2.83,0l1.4,1.43a1.91,1.91,0,0,1,.58,1.4,1.91,1.91,0,0,1-.58,1.4L9.25,21ZM18.45,9,17,7.55Zm-12,3A5.31,5.31,0,0,0,4.9,8.1,5.31,5.31,0,0,0,1,6.5,5.31,5.31,0,0,0,4.9,4.9,5.31,5.31,0,0,0,6.5,1,5.31,5.31,0,0,0,8.1,4.9,5.31,5.31,0,0,0,12,6.5,5.46,5.46,0,0,0,6.5,12Z\"/>\n",
              "  </svg>\n",
              "    </button>\n",
              "    <script>\n",
              "      (() => {\n",
              "      const buttonEl =\n",
              "        document.querySelector('#id_1b4ca0f2-8db5-4736-a266-1588af596ca0 button.colab-df-generate');\n",
              "      buttonEl.style.display =\n",
              "        google.colab.kernel.accessAllowed ? 'block' : 'none';\n",
              "\n",
              "      buttonEl.onclick = () => {\n",
              "        google.colab.notebook.generateWithVariable('df_from_dict');\n",
              "      }\n",
              "      })();\n",
              "    </script>\n",
              "  </div>\n",
              "\n",
              "    </div>\n",
              "  </div>\n"
            ],
            "application/vnd.google.colaboratory.intrinsic+json": {
              "type": "dataframe",
              "variable_name": "df_from_dict",
              "summary": "{\n  \"name\": \"df_from_dict\",\n  \"rows\": 3,\n  \"fields\": [\n    {\n      \"column\": \"Name\",\n      \"properties\": {\n        \"dtype\": \"string\",\n        \"num_unique_values\": 3,\n        \"samples\": [\n          \"Alice\",\n          \"Bob\",\n          \"Charlie\"\n        ],\n        \"semantic_type\": \"\",\n        \"description\": \"\"\n      }\n    },\n    {\n      \"column\": \"Age\",\n      \"properties\": {\n        \"dtype\": \"number\",\n        \"std\": 5,\n        \"min\": 25,\n        \"max\": 35,\n        \"num_unique_values\": 3,\n        \"samples\": [\n          25,\n          30,\n          35\n        ],\n        \"semantic_type\": \"\",\n        \"description\": \"\"\n      }\n    }\n  ]\n}"
            }
          },
          "metadata": {},
          "execution_count": 61
        }
      ]
    },
    {
      "cell_type": "code",
      "source": [
        "# Creating a DataFrame from a list of lists with custom column names\n",
        "data_list = [['Alice', 25], ['Bob', 30], ['Charlie', 35]]\n",
        "df_from_list = pd.DataFrame(data_list, columns=['Name', 'Age'])\n",
        "\n",
        "df_from_list"
      ],
      "metadata": {
        "colab": {
          "base_uri": "https://localhost:8080/",
          "height": 143
        },
        "id": "geaewkc9HFCb",
        "outputId": "bf54668b-f8c0-4fb6-b44f-702c5cc4a0b3"
      },
      "id": "geaewkc9HFCb",
      "execution_count": null,
      "outputs": [
        {
          "output_type": "execute_result",
          "data": {
            "text/plain": [
              "      Name  Age\n",
              "0    Alice   25\n",
              "1      Bob   30\n",
              "2  Charlie   35"
            ],
            "text/html": [
              "\n",
              "  <div id=\"df-6d3c6871-02e4-4e69-b651-fcc7272bcabb\" class=\"colab-df-container\">\n",
              "    <div>\n",
              "<style scoped>\n",
              "    .dataframe tbody tr th:only-of-type {\n",
              "        vertical-align: middle;\n",
              "    }\n",
              "\n",
              "    .dataframe tbody tr th {\n",
              "        vertical-align: top;\n",
              "    }\n",
              "\n",
              "    .dataframe thead th {\n",
              "        text-align: right;\n",
              "    }\n",
              "</style>\n",
              "<table border=\"1\" class=\"dataframe\">\n",
              "  <thead>\n",
              "    <tr style=\"text-align: right;\">\n",
              "      <th></th>\n",
              "      <th>Name</th>\n",
              "      <th>Age</th>\n",
              "    </tr>\n",
              "  </thead>\n",
              "  <tbody>\n",
              "    <tr>\n",
              "      <th>0</th>\n",
              "      <td>Alice</td>\n",
              "      <td>25</td>\n",
              "    </tr>\n",
              "    <tr>\n",
              "      <th>1</th>\n",
              "      <td>Bob</td>\n",
              "      <td>30</td>\n",
              "    </tr>\n",
              "    <tr>\n",
              "      <th>2</th>\n",
              "      <td>Charlie</td>\n",
              "      <td>35</td>\n",
              "    </tr>\n",
              "  </tbody>\n",
              "</table>\n",
              "</div>\n",
              "    <div class=\"colab-df-buttons\">\n",
              "\n",
              "  <div class=\"colab-df-container\">\n",
              "    <button class=\"colab-df-convert\" onclick=\"convertToInteractive('df-6d3c6871-02e4-4e69-b651-fcc7272bcabb')\"\n",
              "            title=\"Convert this dataframe to an interactive table.\"\n",
              "            style=\"display:none;\">\n",
              "\n",
              "  <svg xmlns=\"http://www.w3.org/2000/svg\" height=\"24px\" viewBox=\"0 -960 960 960\">\n",
              "    <path d=\"M120-120v-720h720v720H120Zm60-500h600v-160H180v160Zm220 220h160v-160H400v160Zm0 220h160v-160H400v160ZM180-400h160v-160H180v160Zm440 0h160v-160H620v160ZM180-180h160v-160H180v160Zm440 0h160v-160H620v160Z\"/>\n",
              "  </svg>\n",
              "    </button>\n",
              "\n",
              "  <style>\n",
              "    .colab-df-container {\n",
              "      display:flex;\n",
              "      gap: 12px;\n",
              "    }\n",
              "\n",
              "    .colab-df-convert {\n",
              "      background-color: #E8F0FE;\n",
              "      border: none;\n",
              "      border-radius: 50%;\n",
              "      cursor: pointer;\n",
              "      display: none;\n",
              "      fill: #1967D2;\n",
              "      height: 32px;\n",
              "      padding: 0 0 0 0;\n",
              "      width: 32px;\n",
              "    }\n",
              "\n",
              "    .colab-df-convert:hover {\n",
              "      background-color: #E2EBFA;\n",
              "      box-shadow: 0px 1px 2px rgba(60, 64, 67, 0.3), 0px 1px 3px 1px rgba(60, 64, 67, 0.15);\n",
              "      fill: #174EA6;\n",
              "    }\n",
              "\n",
              "    .colab-df-buttons div {\n",
              "      margin-bottom: 4px;\n",
              "    }\n",
              "\n",
              "    [theme=dark] .colab-df-convert {\n",
              "      background-color: #3B4455;\n",
              "      fill: #D2E3FC;\n",
              "    }\n",
              "\n",
              "    [theme=dark] .colab-df-convert:hover {\n",
              "      background-color: #434B5C;\n",
              "      box-shadow: 0px 1px 3px 1px rgba(0, 0, 0, 0.15);\n",
              "      filter: drop-shadow(0px 1px 2px rgba(0, 0, 0, 0.3));\n",
              "      fill: #FFFFFF;\n",
              "    }\n",
              "  </style>\n",
              "\n",
              "    <script>\n",
              "      const buttonEl =\n",
              "        document.querySelector('#df-6d3c6871-02e4-4e69-b651-fcc7272bcabb button.colab-df-convert');\n",
              "      buttonEl.style.display =\n",
              "        google.colab.kernel.accessAllowed ? 'block' : 'none';\n",
              "\n",
              "      async function convertToInteractive(key) {\n",
              "        const element = document.querySelector('#df-6d3c6871-02e4-4e69-b651-fcc7272bcabb');\n",
              "        const dataTable =\n",
              "          await google.colab.kernel.invokeFunction('convertToInteractive',\n",
              "                                                    [key], {});\n",
              "        if (!dataTable) return;\n",
              "\n",
              "        const docLinkHtml = 'Like what you see? Visit the ' +\n",
              "          '<a target=\"_blank\" href=https://colab.research.google.com/notebooks/data_table.ipynb>data table notebook</a>'\n",
              "          + ' to learn more about interactive tables.';\n",
              "        element.innerHTML = '';\n",
              "        dataTable['output_type'] = 'display_data';\n",
              "        await google.colab.output.renderOutput(dataTable, element);\n",
              "        const docLink = document.createElement('div');\n",
              "        docLink.innerHTML = docLinkHtml;\n",
              "        element.appendChild(docLink);\n",
              "      }\n",
              "    </script>\n",
              "  </div>\n",
              "\n",
              "\n",
              "<div id=\"df-f074c230-4f80-497e-ba98-518118137d2e\">\n",
              "  <button class=\"colab-df-quickchart\" onclick=\"quickchart('df-f074c230-4f80-497e-ba98-518118137d2e')\"\n",
              "            title=\"Suggest charts\"\n",
              "            style=\"display:none;\">\n",
              "\n",
              "<svg xmlns=\"http://www.w3.org/2000/svg\" height=\"24px\"viewBox=\"0 0 24 24\"\n",
              "     width=\"24px\">\n",
              "    <g>\n",
              "        <path d=\"M19 3H5c-1.1 0-2 .9-2 2v14c0 1.1.9 2 2 2h14c1.1 0 2-.9 2-2V5c0-1.1-.9-2-2-2zM9 17H7v-7h2v7zm4 0h-2V7h2v10zm4 0h-2v-4h2v4z\"/>\n",
              "    </g>\n",
              "</svg>\n",
              "  </button>\n",
              "\n",
              "<style>\n",
              "  .colab-df-quickchart {\n",
              "      --bg-color: #E8F0FE;\n",
              "      --fill-color: #1967D2;\n",
              "      --hover-bg-color: #E2EBFA;\n",
              "      --hover-fill-color: #174EA6;\n",
              "      --disabled-fill-color: #AAA;\n",
              "      --disabled-bg-color: #DDD;\n",
              "  }\n",
              "\n",
              "  [theme=dark] .colab-df-quickchart {\n",
              "      --bg-color: #3B4455;\n",
              "      --fill-color: #D2E3FC;\n",
              "      --hover-bg-color: #434B5C;\n",
              "      --hover-fill-color: #FFFFFF;\n",
              "      --disabled-bg-color: #3B4455;\n",
              "      --disabled-fill-color: #666;\n",
              "  }\n",
              "\n",
              "  .colab-df-quickchart {\n",
              "    background-color: var(--bg-color);\n",
              "    border: none;\n",
              "    border-radius: 50%;\n",
              "    cursor: pointer;\n",
              "    display: none;\n",
              "    fill: var(--fill-color);\n",
              "    height: 32px;\n",
              "    padding: 0;\n",
              "    width: 32px;\n",
              "  }\n",
              "\n",
              "  .colab-df-quickchart:hover {\n",
              "    background-color: var(--hover-bg-color);\n",
              "    box-shadow: 0 1px 2px rgba(60, 64, 67, 0.3), 0 1px 3px 1px rgba(60, 64, 67, 0.15);\n",
              "    fill: var(--button-hover-fill-color);\n",
              "  }\n",
              "\n",
              "  .colab-df-quickchart-complete:disabled,\n",
              "  .colab-df-quickchart-complete:disabled:hover {\n",
              "    background-color: var(--disabled-bg-color);\n",
              "    fill: var(--disabled-fill-color);\n",
              "    box-shadow: none;\n",
              "  }\n",
              "\n",
              "  .colab-df-spinner {\n",
              "    border: 2px solid var(--fill-color);\n",
              "    border-color: transparent;\n",
              "    border-bottom-color: var(--fill-color);\n",
              "    animation:\n",
              "      spin 1s steps(1) infinite;\n",
              "  }\n",
              "\n",
              "  @keyframes spin {\n",
              "    0% {\n",
              "      border-color: transparent;\n",
              "      border-bottom-color: var(--fill-color);\n",
              "      border-left-color: var(--fill-color);\n",
              "    }\n",
              "    20% {\n",
              "      border-color: transparent;\n",
              "      border-left-color: var(--fill-color);\n",
              "      border-top-color: var(--fill-color);\n",
              "    }\n",
              "    30% {\n",
              "      border-color: transparent;\n",
              "      border-left-color: var(--fill-color);\n",
              "      border-top-color: var(--fill-color);\n",
              "      border-right-color: var(--fill-color);\n",
              "    }\n",
              "    40% {\n",
              "      border-color: transparent;\n",
              "      border-right-color: var(--fill-color);\n",
              "      border-top-color: var(--fill-color);\n",
              "    }\n",
              "    60% {\n",
              "      border-color: transparent;\n",
              "      border-right-color: var(--fill-color);\n",
              "    }\n",
              "    80% {\n",
              "      border-color: transparent;\n",
              "      border-right-color: var(--fill-color);\n",
              "      border-bottom-color: var(--fill-color);\n",
              "    }\n",
              "    90% {\n",
              "      border-color: transparent;\n",
              "      border-bottom-color: var(--fill-color);\n",
              "    }\n",
              "  }\n",
              "</style>\n",
              "\n",
              "  <script>\n",
              "    async function quickchart(key) {\n",
              "      const quickchartButtonEl =\n",
              "        document.querySelector('#' + key + ' button');\n",
              "      quickchartButtonEl.disabled = true;  // To prevent multiple clicks.\n",
              "      quickchartButtonEl.classList.add('colab-df-spinner');\n",
              "      try {\n",
              "        const charts = await google.colab.kernel.invokeFunction(\n",
              "            'suggestCharts', [key], {});\n",
              "      } catch (error) {\n",
              "        console.error('Error during call to suggestCharts:', error);\n",
              "      }\n",
              "      quickchartButtonEl.classList.remove('colab-df-spinner');\n",
              "      quickchartButtonEl.classList.add('colab-df-quickchart-complete');\n",
              "    }\n",
              "    (() => {\n",
              "      let quickchartButtonEl =\n",
              "        document.querySelector('#df-f074c230-4f80-497e-ba98-518118137d2e button');\n",
              "      quickchartButtonEl.style.display =\n",
              "        google.colab.kernel.accessAllowed ? 'block' : 'none';\n",
              "    })();\n",
              "  </script>\n",
              "</div>\n",
              "\n",
              "  <div id=\"id_4587f79e-60b9-4b68-8e1b-824bd30b28f8\">\n",
              "    <style>\n",
              "      .colab-df-generate {\n",
              "        background-color: #E8F0FE;\n",
              "        border: none;\n",
              "        border-radius: 50%;\n",
              "        cursor: pointer;\n",
              "        display: none;\n",
              "        fill: #1967D2;\n",
              "        height: 32px;\n",
              "        padding: 0 0 0 0;\n",
              "        width: 32px;\n",
              "      }\n",
              "\n",
              "      .colab-df-generate:hover {\n",
              "        background-color: #E2EBFA;\n",
              "        box-shadow: 0px 1px 2px rgba(60, 64, 67, 0.3), 0px 1px 3px 1px rgba(60, 64, 67, 0.15);\n",
              "        fill: #174EA6;\n",
              "      }\n",
              "\n",
              "      [theme=dark] .colab-df-generate {\n",
              "        background-color: #3B4455;\n",
              "        fill: #D2E3FC;\n",
              "      }\n",
              "\n",
              "      [theme=dark] .colab-df-generate:hover {\n",
              "        background-color: #434B5C;\n",
              "        box-shadow: 0px 1px 3px 1px rgba(0, 0, 0, 0.15);\n",
              "        filter: drop-shadow(0px 1px 2px rgba(0, 0, 0, 0.3));\n",
              "        fill: #FFFFFF;\n",
              "      }\n",
              "    </style>\n",
              "    <button class=\"colab-df-generate\" onclick=\"generateWithVariable('df_from_list')\"\n",
              "            title=\"Generate code using this dataframe.\"\n",
              "            style=\"display:none;\">\n",
              "\n",
              "  <svg xmlns=\"http://www.w3.org/2000/svg\" height=\"24px\"viewBox=\"0 0 24 24\"\n",
              "       width=\"24px\">\n",
              "    <path d=\"M7,19H8.4L18.45,9,17,7.55,7,17.6ZM5,21V16.75L18.45,3.32a2,2,0,0,1,2.83,0l1.4,1.43a1.91,1.91,0,0,1,.58,1.4,1.91,1.91,0,0,1-.58,1.4L9.25,21ZM18.45,9,17,7.55Zm-12,3A5.31,5.31,0,0,0,4.9,8.1,5.31,5.31,0,0,0,1,6.5,5.31,5.31,0,0,0,4.9,4.9,5.31,5.31,0,0,0,6.5,1,5.31,5.31,0,0,0,8.1,4.9,5.31,5.31,0,0,0,12,6.5,5.46,5.46,0,0,0,6.5,12Z\"/>\n",
              "  </svg>\n",
              "    </button>\n",
              "    <script>\n",
              "      (() => {\n",
              "      const buttonEl =\n",
              "        document.querySelector('#id_4587f79e-60b9-4b68-8e1b-824bd30b28f8 button.colab-df-generate');\n",
              "      buttonEl.style.display =\n",
              "        google.colab.kernel.accessAllowed ? 'block' : 'none';\n",
              "\n",
              "      buttonEl.onclick = () => {\n",
              "        google.colab.notebook.generateWithVariable('df_from_list');\n",
              "      }\n",
              "      })();\n",
              "    </script>\n",
              "  </div>\n",
              "\n",
              "    </div>\n",
              "  </div>\n"
            ],
            "application/vnd.google.colaboratory.intrinsic+json": {
              "type": "dataframe",
              "variable_name": "df_from_list",
              "summary": "{\n  \"name\": \"df_from_list\",\n  \"rows\": 3,\n  \"fields\": [\n    {\n      \"column\": \"Name\",\n      \"properties\": {\n        \"dtype\": \"string\",\n        \"num_unique_values\": 3,\n        \"samples\": [\n          \"Alice\",\n          \"Bob\",\n          \"Charlie\"\n        ],\n        \"semantic_type\": \"\",\n        \"description\": \"\"\n      }\n    },\n    {\n      \"column\": \"Age\",\n      \"properties\": {\n        \"dtype\": \"number\",\n        \"std\": 5,\n        \"min\": 25,\n        \"max\": 35,\n        \"num_unique_values\": 3,\n        \"samples\": [\n          25,\n          30,\n          35\n        ],\n        \"semantic_type\": \"\",\n        \"description\": \"\"\n      }\n    }\n  ]\n}"
            }
          },
          "metadata": {},
          "execution_count": 63
        }
      ]
    },
    {
      "cell_type": "code",
      "source": [
        "#help(pd.DataFrame)"
      ],
      "metadata": {
        "id": "IrmWeyceHQgC"
      },
      "id": "IrmWeyceHQgC",
      "execution_count": null,
      "outputs": []
    },
    {
      "cell_type": "code",
      "source": [
        "\n",
        "df_from_csv = pd.read_csv('/content/sample_data/california_housing_test.csv')\n",
        "#df2_from_csv = pd.read_csv('/content/sample_data/mnist_train_small.csv')\n",
        "df_from_csv.shape\n"
      ],
      "metadata": {
        "colab": {
          "base_uri": "https://localhost:8080/"
        },
        "id": "d5OdJxE7It6G",
        "outputId": "12d82f10-58dc-4538-c87a-481421ea9371"
      },
      "id": "d5OdJxE7It6G",
      "execution_count": null,
      "outputs": [
        {
          "output_type": "execute_result",
          "data": {
            "text/plain": [
              "(3000, 9)"
            ]
          },
          "metadata": {},
          "execution_count": 80
        }
      ]
    },
    {
      "cell_type": "code",
      "source": [
        "df_from_csv.info()\n",
        "#df2_from_csv.describe()"
      ],
      "metadata": {
        "colab": {
          "base_uri": "https://localhost:8080/"
        },
        "id": "Q67WSQh6Kq2H",
        "outputId": "494d285e-f13f-4322-ba45-25edf8e1752d"
      },
      "id": "Q67WSQh6Kq2H",
      "execution_count": null,
      "outputs": [
        {
          "output_type": "stream",
          "name": "stdout",
          "text": [
            "<class 'pandas.core.frame.DataFrame'>\n",
            "RangeIndex: 3000 entries, 0 to 2999\n",
            "Data columns (total 9 columns):\n",
            " #   Column              Non-Null Count  Dtype  \n",
            "---  ------              --------------  -----  \n",
            " 0   longitude           3000 non-null   float64\n",
            " 1   latitude            3000 non-null   float64\n",
            " 2   housing_median_age  3000 non-null   float64\n",
            " 3   total_rooms         3000 non-null   float64\n",
            " 4   total_bedrooms      3000 non-null   float64\n",
            " 5   population          3000 non-null   float64\n",
            " 6   households          3000 non-null   float64\n",
            " 7   median_income       3000 non-null   float64\n",
            " 8   median_house_value  3000 non-null   float64\n",
            "dtypes: float64(9)\n",
            "memory usage: 211.1 KB\n"
          ]
        }
      ]
    },
    {
      "cell_type": "code",
      "source": [
        "df_from_csv.describe()"
      ],
      "metadata": {
        "colab": {
          "base_uri": "https://localhost:8080/",
          "height": 320
        },
        "id": "wVyRXQU1K-Gq",
        "outputId": "a80682c6-ff22-4166-b295-411043cc3299"
      },
      "id": "wVyRXQU1K-Gq",
      "execution_count": null,
      "outputs": [
        {
          "output_type": "execute_result",
          "data": {
            "text/plain": [
              "         longitude    latitude  housing_median_age   total_rooms  \\\n",
              "count  3000.000000  3000.00000         3000.000000   3000.000000   \n",
              "mean   -119.589200    35.63539           28.845333   2599.578667   \n",
              "std       1.994936     2.12967           12.555396   2155.593332   \n",
              "min    -124.180000    32.56000            1.000000      6.000000   \n",
              "25%    -121.810000    33.93000           18.000000   1401.000000   \n",
              "50%    -118.485000    34.27000           29.000000   2106.000000   \n",
              "75%    -118.020000    37.69000           37.000000   3129.000000   \n",
              "max    -114.490000    41.92000           52.000000  30450.000000   \n",
              "\n",
              "       total_bedrooms    population  households  median_income  \\\n",
              "count     3000.000000   3000.000000  3000.00000    3000.000000   \n",
              "mean       529.950667   1402.798667   489.91200       3.807272   \n",
              "std        415.654368   1030.543012   365.42271       1.854512   \n",
              "min          2.000000      5.000000     2.00000       0.499900   \n",
              "25%        291.000000    780.000000   273.00000       2.544000   \n",
              "50%        437.000000   1155.000000   409.50000       3.487150   \n",
              "75%        636.000000   1742.750000   597.25000       4.656475   \n",
              "max       5419.000000  11935.000000  4930.00000      15.000100   \n",
              "\n",
              "       median_house_value  \n",
              "count          3000.00000  \n",
              "mean         205846.27500  \n",
              "std          113119.68747  \n",
              "min           22500.00000  \n",
              "25%          121200.00000  \n",
              "50%          177650.00000  \n",
              "75%          263975.00000  \n",
              "max          500001.00000  "
            ],
            "text/html": [
              "\n",
              "  <div id=\"df-49303f88-c7c0-436b-83bf-2851b8b864fb\" class=\"colab-df-container\">\n",
              "    <div>\n",
              "<style scoped>\n",
              "    .dataframe tbody tr th:only-of-type {\n",
              "        vertical-align: middle;\n",
              "    }\n",
              "\n",
              "    .dataframe tbody tr th {\n",
              "        vertical-align: top;\n",
              "    }\n",
              "\n",
              "    .dataframe thead th {\n",
              "        text-align: right;\n",
              "    }\n",
              "</style>\n",
              "<table border=\"1\" class=\"dataframe\">\n",
              "  <thead>\n",
              "    <tr style=\"text-align: right;\">\n",
              "      <th></th>\n",
              "      <th>longitude</th>\n",
              "      <th>latitude</th>\n",
              "      <th>housing_median_age</th>\n",
              "      <th>total_rooms</th>\n",
              "      <th>total_bedrooms</th>\n",
              "      <th>population</th>\n",
              "      <th>households</th>\n",
              "      <th>median_income</th>\n",
              "      <th>median_house_value</th>\n",
              "    </tr>\n",
              "  </thead>\n",
              "  <tbody>\n",
              "    <tr>\n",
              "      <th>count</th>\n",
              "      <td>3000.000000</td>\n",
              "      <td>3000.00000</td>\n",
              "      <td>3000.000000</td>\n",
              "      <td>3000.000000</td>\n",
              "      <td>3000.000000</td>\n",
              "      <td>3000.000000</td>\n",
              "      <td>3000.00000</td>\n",
              "      <td>3000.000000</td>\n",
              "      <td>3000.00000</td>\n",
              "    </tr>\n",
              "    <tr>\n",
              "      <th>mean</th>\n",
              "      <td>-119.589200</td>\n",
              "      <td>35.63539</td>\n",
              "      <td>28.845333</td>\n",
              "      <td>2599.578667</td>\n",
              "      <td>529.950667</td>\n",
              "      <td>1402.798667</td>\n",
              "      <td>489.91200</td>\n",
              "      <td>3.807272</td>\n",
              "      <td>205846.27500</td>\n",
              "    </tr>\n",
              "    <tr>\n",
              "      <th>std</th>\n",
              "      <td>1.994936</td>\n",
              "      <td>2.12967</td>\n",
              "      <td>12.555396</td>\n",
              "      <td>2155.593332</td>\n",
              "      <td>415.654368</td>\n",
              "      <td>1030.543012</td>\n",
              "      <td>365.42271</td>\n",
              "      <td>1.854512</td>\n",
              "      <td>113119.68747</td>\n",
              "    </tr>\n",
              "    <tr>\n",
              "      <th>min</th>\n",
              "      <td>-124.180000</td>\n",
              "      <td>32.56000</td>\n",
              "      <td>1.000000</td>\n",
              "      <td>6.000000</td>\n",
              "      <td>2.000000</td>\n",
              "      <td>5.000000</td>\n",
              "      <td>2.00000</td>\n",
              "      <td>0.499900</td>\n",
              "      <td>22500.00000</td>\n",
              "    </tr>\n",
              "    <tr>\n",
              "      <th>25%</th>\n",
              "      <td>-121.810000</td>\n",
              "      <td>33.93000</td>\n",
              "      <td>18.000000</td>\n",
              "      <td>1401.000000</td>\n",
              "      <td>291.000000</td>\n",
              "      <td>780.000000</td>\n",
              "      <td>273.00000</td>\n",
              "      <td>2.544000</td>\n",
              "      <td>121200.00000</td>\n",
              "    </tr>\n",
              "    <tr>\n",
              "      <th>50%</th>\n",
              "      <td>-118.485000</td>\n",
              "      <td>34.27000</td>\n",
              "      <td>29.000000</td>\n",
              "      <td>2106.000000</td>\n",
              "      <td>437.000000</td>\n",
              "      <td>1155.000000</td>\n",
              "      <td>409.50000</td>\n",
              "      <td>3.487150</td>\n",
              "      <td>177650.00000</td>\n",
              "    </tr>\n",
              "    <tr>\n",
              "      <th>75%</th>\n",
              "      <td>-118.020000</td>\n",
              "      <td>37.69000</td>\n",
              "      <td>37.000000</td>\n",
              "      <td>3129.000000</td>\n",
              "      <td>636.000000</td>\n",
              "      <td>1742.750000</td>\n",
              "      <td>597.25000</td>\n",
              "      <td>4.656475</td>\n",
              "      <td>263975.00000</td>\n",
              "    </tr>\n",
              "    <tr>\n",
              "      <th>max</th>\n",
              "      <td>-114.490000</td>\n",
              "      <td>41.92000</td>\n",
              "      <td>52.000000</td>\n",
              "      <td>30450.000000</td>\n",
              "      <td>5419.000000</td>\n",
              "      <td>11935.000000</td>\n",
              "      <td>4930.00000</td>\n",
              "      <td>15.000100</td>\n",
              "      <td>500001.00000</td>\n",
              "    </tr>\n",
              "  </tbody>\n",
              "</table>\n",
              "</div>\n",
              "    <div class=\"colab-df-buttons\">\n",
              "\n",
              "  <div class=\"colab-df-container\">\n",
              "    <button class=\"colab-df-convert\" onclick=\"convertToInteractive('df-49303f88-c7c0-436b-83bf-2851b8b864fb')\"\n",
              "            title=\"Convert this dataframe to an interactive table.\"\n",
              "            style=\"display:none;\">\n",
              "\n",
              "  <svg xmlns=\"http://www.w3.org/2000/svg\" height=\"24px\" viewBox=\"0 -960 960 960\">\n",
              "    <path d=\"M120-120v-720h720v720H120Zm60-500h600v-160H180v160Zm220 220h160v-160H400v160Zm0 220h160v-160H400v160ZM180-400h160v-160H180v160Zm440 0h160v-160H620v160ZM180-180h160v-160H180v160Zm440 0h160v-160H620v160Z\"/>\n",
              "  </svg>\n",
              "    </button>\n",
              "\n",
              "  <style>\n",
              "    .colab-df-container {\n",
              "      display:flex;\n",
              "      gap: 12px;\n",
              "    }\n",
              "\n",
              "    .colab-df-convert {\n",
              "      background-color: #E8F0FE;\n",
              "      border: none;\n",
              "      border-radius: 50%;\n",
              "      cursor: pointer;\n",
              "      display: none;\n",
              "      fill: #1967D2;\n",
              "      height: 32px;\n",
              "      padding: 0 0 0 0;\n",
              "      width: 32px;\n",
              "    }\n",
              "\n",
              "    .colab-df-convert:hover {\n",
              "      background-color: #E2EBFA;\n",
              "      box-shadow: 0px 1px 2px rgba(60, 64, 67, 0.3), 0px 1px 3px 1px rgba(60, 64, 67, 0.15);\n",
              "      fill: #174EA6;\n",
              "    }\n",
              "\n",
              "    .colab-df-buttons div {\n",
              "      margin-bottom: 4px;\n",
              "    }\n",
              "\n",
              "    [theme=dark] .colab-df-convert {\n",
              "      background-color: #3B4455;\n",
              "      fill: #D2E3FC;\n",
              "    }\n",
              "\n",
              "    [theme=dark] .colab-df-convert:hover {\n",
              "      background-color: #434B5C;\n",
              "      box-shadow: 0px 1px 3px 1px rgba(0, 0, 0, 0.15);\n",
              "      filter: drop-shadow(0px 1px 2px rgba(0, 0, 0, 0.3));\n",
              "      fill: #FFFFFF;\n",
              "    }\n",
              "  </style>\n",
              "\n",
              "    <script>\n",
              "      const buttonEl =\n",
              "        document.querySelector('#df-49303f88-c7c0-436b-83bf-2851b8b864fb button.colab-df-convert');\n",
              "      buttonEl.style.display =\n",
              "        google.colab.kernel.accessAllowed ? 'block' : 'none';\n",
              "\n",
              "      async function convertToInteractive(key) {\n",
              "        const element = document.querySelector('#df-49303f88-c7c0-436b-83bf-2851b8b864fb');\n",
              "        const dataTable =\n",
              "          await google.colab.kernel.invokeFunction('convertToInteractive',\n",
              "                                                    [key], {});\n",
              "        if (!dataTable) return;\n",
              "\n",
              "        const docLinkHtml = 'Like what you see? Visit the ' +\n",
              "          '<a target=\"_blank\" href=https://colab.research.google.com/notebooks/data_table.ipynb>data table notebook</a>'\n",
              "          + ' to learn more about interactive tables.';\n",
              "        element.innerHTML = '';\n",
              "        dataTable['output_type'] = 'display_data';\n",
              "        await google.colab.output.renderOutput(dataTable, element);\n",
              "        const docLink = document.createElement('div');\n",
              "        docLink.innerHTML = docLinkHtml;\n",
              "        element.appendChild(docLink);\n",
              "      }\n",
              "    </script>\n",
              "  </div>\n",
              "\n",
              "\n",
              "<div id=\"df-1c6ede2c-0baf-4b4b-a4f5-a64dfd9d348f\">\n",
              "  <button class=\"colab-df-quickchart\" onclick=\"quickchart('df-1c6ede2c-0baf-4b4b-a4f5-a64dfd9d348f')\"\n",
              "            title=\"Suggest charts\"\n",
              "            style=\"display:none;\">\n",
              "\n",
              "<svg xmlns=\"http://www.w3.org/2000/svg\" height=\"24px\"viewBox=\"0 0 24 24\"\n",
              "     width=\"24px\">\n",
              "    <g>\n",
              "        <path d=\"M19 3H5c-1.1 0-2 .9-2 2v14c0 1.1.9 2 2 2h14c1.1 0 2-.9 2-2V5c0-1.1-.9-2-2-2zM9 17H7v-7h2v7zm4 0h-2V7h2v10zm4 0h-2v-4h2v4z\"/>\n",
              "    </g>\n",
              "</svg>\n",
              "  </button>\n",
              "\n",
              "<style>\n",
              "  .colab-df-quickchart {\n",
              "      --bg-color: #E8F0FE;\n",
              "      --fill-color: #1967D2;\n",
              "      --hover-bg-color: #E2EBFA;\n",
              "      --hover-fill-color: #174EA6;\n",
              "      --disabled-fill-color: #AAA;\n",
              "      --disabled-bg-color: #DDD;\n",
              "  }\n",
              "\n",
              "  [theme=dark] .colab-df-quickchart {\n",
              "      --bg-color: #3B4455;\n",
              "      --fill-color: #D2E3FC;\n",
              "      --hover-bg-color: #434B5C;\n",
              "      --hover-fill-color: #FFFFFF;\n",
              "      --disabled-bg-color: #3B4455;\n",
              "      --disabled-fill-color: #666;\n",
              "  }\n",
              "\n",
              "  .colab-df-quickchart {\n",
              "    background-color: var(--bg-color);\n",
              "    border: none;\n",
              "    border-radius: 50%;\n",
              "    cursor: pointer;\n",
              "    display: none;\n",
              "    fill: var(--fill-color);\n",
              "    height: 32px;\n",
              "    padding: 0;\n",
              "    width: 32px;\n",
              "  }\n",
              "\n",
              "  .colab-df-quickchart:hover {\n",
              "    background-color: var(--hover-bg-color);\n",
              "    box-shadow: 0 1px 2px rgba(60, 64, 67, 0.3), 0 1px 3px 1px rgba(60, 64, 67, 0.15);\n",
              "    fill: var(--button-hover-fill-color);\n",
              "  }\n",
              "\n",
              "  .colab-df-quickchart-complete:disabled,\n",
              "  .colab-df-quickchart-complete:disabled:hover {\n",
              "    background-color: var(--disabled-bg-color);\n",
              "    fill: var(--disabled-fill-color);\n",
              "    box-shadow: none;\n",
              "  }\n",
              "\n",
              "  .colab-df-spinner {\n",
              "    border: 2px solid var(--fill-color);\n",
              "    border-color: transparent;\n",
              "    border-bottom-color: var(--fill-color);\n",
              "    animation:\n",
              "      spin 1s steps(1) infinite;\n",
              "  }\n",
              "\n",
              "  @keyframes spin {\n",
              "    0% {\n",
              "      border-color: transparent;\n",
              "      border-bottom-color: var(--fill-color);\n",
              "      border-left-color: var(--fill-color);\n",
              "    }\n",
              "    20% {\n",
              "      border-color: transparent;\n",
              "      border-left-color: var(--fill-color);\n",
              "      border-top-color: var(--fill-color);\n",
              "    }\n",
              "    30% {\n",
              "      border-color: transparent;\n",
              "      border-left-color: var(--fill-color);\n",
              "      border-top-color: var(--fill-color);\n",
              "      border-right-color: var(--fill-color);\n",
              "    }\n",
              "    40% {\n",
              "      border-color: transparent;\n",
              "      border-right-color: var(--fill-color);\n",
              "      border-top-color: var(--fill-color);\n",
              "    }\n",
              "    60% {\n",
              "      border-color: transparent;\n",
              "      border-right-color: var(--fill-color);\n",
              "    }\n",
              "    80% {\n",
              "      border-color: transparent;\n",
              "      border-right-color: var(--fill-color);\n",
              "      border-bottom-color: var(--fill-color);\n",
              "    }\n",
              "    90% {\n",
              "      border-color: transparent;\n",
              "      border-bottom-color: var(--fill-color);\n",
              "    }\n",
              "  }\n",
              "</style>\n",
              "\n",
              "  <script>\n",
              "    async function quickchart(key) {\n",
              "      const quickchartButtonEl =\n",
              "        document.querySelector('#' + key + ' button');\n",
              "      quickchartButtonEl.disabled = true;  // To prevent multiple clicks.\n",
              "      quickchartButtonEl.classList.add('colab-df-spinner');\n",
              "      try {\n",
              "        const charts = await google.colab.kernel.invokeFunction(\n",
              "            'suggestCharts', [key], {});\n",
              "      } catch (error) {\n",
              "        console.error('Error during call to suggestCharts:', error);\n",
              "      }\n",
              "      quickchartButtonEl.classList.remove('colab-df-spinner');\n",
              "      quickchartButtonEl.classList.add('colab-df-quickchart-complete');\n",
              "    }\n",
              "    (() => {\n",
              "      let quickchartButtonEl =\n",
              "        document.querySelector('#df-1c6ede2c-0baf-4b4b-a4f5-a64dfd9d348f button');\n",
              "      quickchartButtonEl.style.display =\n",
              "        google.colab.kernel.accessAllowed ? 'block' : 'none';\n",
              "    })();\n",
              "  </script>\n",
              "</div>\n",
              "\n",
              "    </div>\n",
              "  </div>\n"
            ],
            "application/vnd.google.colaboratory.intrinsic+json": {
              "type": "dataframe",
              "summary": "{\n  \"name\": \"df_from_csv\",\n  \"rows\": 8,\n  \"fields\": [\n    {\n      \"column\": \"longitude\",\n      \"properties\": {\n        \"dtype\": \"number\",\n        \"std\": 1097.5782294291084,\n        \"min\": -124.18,\n        \"max\": 3000.0,\n        \"num_unique_values\": 8,\n        \"samples\": [\n          -119.58919999999999,\n          -118.485,\n          3000.0\n        ],\n        \"semantic_type\": \"\",\n        \"description\": \"\"\n      }\n    },\n    {\n      \"column\": \"latitude\",\n      \"properties\": {\n        \"dtype\": \"number\",\n        \"std\": 1049.7134923904623,\n        \"min\": 2.129669523343834,\n        \"max\": 3000.0,\n        \"num_unique_values\": 8,\n        \"samples\": [\n          35.635389999999994,\n          34.27,\n          3000.0\n        ],\n        \"semantic_type\": \"\",\n        \"description\": \"\"\n      }\n    },\n    {\n      \"column\": \"housing_median_age\",\n      \"properties\": {\n        \"dtype\": \"number\",\n        \"std\": 1051.7638105336573,\n        \"min\": 1.0,\n        \"max\": 3000.0,\n        \"num_unique_values\": 8,\n        \"samples\": [\n          28.845333333333333,\n          29.0,\n          3000.0\n        ],\n        \"semantic_type\": \"\",\n        \"description\": \"\"\n      }\n    },\n    {\n      \"column\": \"total_rooms\",\n      \"properties\": {\n        \"dtype\": \"number\",\n        \"std\": 10088.09058334902,\n        \"min\": 6.0,\n        \"max\": 30450.0,\n        \"num_unique_values\": 8,\n        \"samples\": [\n          2599.578666666667,\n          2106.0,\n          3000.0\n        ],\n        \"semantic_type\": \"\",\n        \"description\": \"\"\n      }\n    },\n    {\n      \"column\": \"total_bedrooms\",\n      \"properties\": {\n        \"dtype\": \"number\",\n        \"std\": 1893.8280096609258,\n        \"min\": 2.0,\n        \"max\": 5419.0,\n        \"num_unique_values\": 8,\n        \"samples\": [\n          529.9506666666666,\n          437.0,\n          3000.0\n        ],\n        \"semantic_type\": \"\",\n        \"description\": \"\"\n      }\n    },\n    {\n      \"column\": \"population\",\n      \"properties\": {\n        \"dtype\": \"number\",\n        \"std\": 3855.6110864929296,\n        \"min\": 5.0,\n        \"max\": 11935.0,\n        \"num_unique_values\": 8,\n        \"samples\": [\n          1402.7986666666666,\n          1155.0,\n          3000.0\n        ],\n        \"semantic_type\": \"\",\n        \"description\": \"\"\n      }\n    },\n    {\n      \"column\": \"households\",\n      \"properties\": {\n        \"dtype\": \"number\",\n        \"std\": 1756.990284459096,\n        \"min\": 2.0,\n        \"max\": 4930.0,\n        \"num_unique_values\": 8,\n        \"samples\": [\n          489.912,\n          409.5,\n          3000.0\n        ],\n        \"semantic_type\": \"\",\n        \"description\": \"\"\n      }\n    },\n    {\n      \"column\": \"median_income\",\n      \"properties\": {\n        \"dtype\": \"number\",\n        \"std\": 1059.0608810128942,\n        \"min\": 0.4999,\n        \"max\": 3000.0,\n        \"num_unique_values\": 8,\n        \"samples\": [\n          3.8072717999999997,\n          3.4871499999999997,\n          3000.0\n        ],\n        \"semantic_type\": \"\",\n        \"description\": \"\"\n      }\n    },\n    {\n      \"column\": \"median_house_value\",\n      \"properties\": {\n        \"dtype\": \"number\",\n        \"std\": 157687.7259000239,\n        \"min\": 3000.0,\n        \"max\": 500001.0,\n        \"num_unique_values\": 8,\n        \"samples\": [\n          205846.275,\n          177650.0,\n          3000.0\n        ],\n        \"semantic_type\": \"\",\n        \"description\": \"\"\n      }\n    }\n  ]\n}"
            }
          },
          "metadata": {},
          "execution_count": 82
        }
      ]
    },
    {
      "cell_type": "code",
      "source": [
        "\n",
        "df_from_csv.head(2)"
      ],
      "metadata": {
        "colab": {
          "base_uri": "https://localhost:8080/",
          "height": 132
        },
        "id": "rOA6yOZILXSo",
        "outputId": "8e2eaf64-f513-4ff5-e5de-2a97d355c826"
      },
      "id": "rOA6yOZILXSo",
      "execution_count": null,
      "outputs": [
        {
          "output_type": "execute_result",
          "data": {
            "text/plain": [
              "   longitude  latitude  housing_median_age  total_rooms  total_bedrooms  \\\n",
              "0    -122.05     37.37                27.0       3885.0           661.0   \n",
              "1    -118.30     34.26                43.0       1510.0           310.0   \n",
              "\n",
              "   population  households  median_income  median_house_value  \n",
              "0      1537.0       606.0         6.6085            344700.0  \n",
              "1       809.0       277.0         3.5990            176500.0  "
            ],
            "text/html": [
              "\n",
              "  <div id=\"df-a1ea0fd0-0eed-4155-9103-814adcc799fc\" class=\"colab-df-container\">\n",
              "    <div>\n",
              "<style scoped>\n",
              "    .dataframe tbody tr th:only-of-type {\n",
              "        vertical-align: middle;\n",
              "    }\n",
              "\n",
              "    .dataframe tbody tr th {\n",
              "        vertical-align: top;\n",
              "    }\n",
              "\n",
              "    .dataframe thead th {\n",
              "        text-align: right;\n",
              "    }\n",
              "</style>\n",
              "<table border=\"1\" class=\"dataframe\">\n",
              "  <thead>\n",
              "    <tr style=\"text-align: right;\">\n",
              "      <th></th>\n",
              "      <th>longitude</th>\n",
              "      <th>latitude</th>\n",
              "      <th>housing_median_age</th>\n",
              "      <th>total_rooms</th>\n",
              "      <th>total_bedrooms</th>\n",
              "      <th>population</th>\n",
              "      <th>households</th>\n",
              "      <th>median_income</th>\n",
              "      <th>median_house_value</th>\n",
              "    </tr>\n",
              "  </thead>\n",
              "  <tbody>\n",
              "    <tr>\n",
              "      <th>0</th>\n",
              "      <td>-122.05</td>\n",
              "      <td>37.37</td>\n",
              "      <td>27.0</td>\n",
              "      <td>3885.0</td>\n",
              "      <td>661.0</td>\n",
              "      <td>1537.0</td>\n",
              "      <td>606.0</td>\n",
              "      <td>6.6085</td>\n",
              "      <td>344700.0</td>\n",
              "    </tr>\n",
              "    <tr>\n",
              "      <th>1</th>\n",
              "      <td>-118.30</td>\n",
              "      <td>34.26</td>\n",
              "      <td>43.0</td>\n",
              "      <td>1510.0</td>\n",
              "      <td>310.0</td>\n",
              "      <td>809.0</td>\n",
              "      <td>277.0</td>\n",
              "      <td>3.5990</td>\n",
              "      <td>176500.0</td>\n",
              "    </tr>\n",
              "  </tbody>\n",
              "</table>\n",
              "</div>\n",
              "    <div class=\"colab-df-buttons\">\n",
              "\n",
              "  <div class=\"colab-df-container\">\n",
              "    <button class=\"colab-df-convert\" onclick=\"convertToInteractive('df-a1ea0fd0-0eed-4155-9103-814adcc799fc')\"\n",
              "            title=\"Convert this dataframe to an interactive table.\"\n",
              "            style=\"display:none;\">\n",
              "\n",
              "  <svg xmlns=\"http://www.w3.org/2000/svg\" height=\"24px\" viewBox=\"0 -960 960 960\">\n",
              "    <path d=\"M120-120v-720h720v720H120Zm60-500h600v-160H180v160Zm220 220h160v-160H400v160Zm0 220h160v-160H400v160ZM180-400h160v-160H180v160Zm440 0h160v-160H620v160ZM180-180h160v-160H180v160Zm440 0h160v-160H620v160Z\"/>\n",
              "  </svg>\n",
              "    </button>\n",
              "\n",
              "  <style>\n",
              "    .colab-df-container {\n",
              "      display:flex;\n",
              "      gap: 12px;\n",
              "    }\n",
              "\n",
              "    .colab-df-convert {\n",
              "      background-color: #E8F0FE;\n",
              "      border: none;\n",
              "      border-radius: 50%;\n",
              "      cursor: pointer;\n",
              "      display: none;\n",
              "      fill: #1967D2;\n",
              "      height: 32px;\n",
              "      padding: 0 0 0 0;\n",
              "      width: 32px;\n",
              "    }\n",
              "\n",
              "    .colab-df-convert:hover {\n",
              "      background-color: #E2EBFA;\n",
              "      box-shadow: 0px 1px 2px rgba(60, 64, 67, 0.3), 0px 1px 3px 1px rgba(60, 64, 67, 0.15);\n",
              "      fill: #174EA6;\n",
              "    }\n",
              "\n",
              "    .colab-df-buttons div {\n",
              "      margin-bottom: 4px;\n",
              "    }\n",
              "\n",
              "    [theme=dark] .colab-df-convert {\n",
              "      background-color: #3B4455;\n",
              "      fill: #D2E3FC;\n",
              "    }\n",
              "\n",
              "    [theme=dark] .colab-df-convert:hover {\n",
              "      background-color: #434B5C;\n",
              "      box-shadow: 0px 1px 3px 1px rgba(0, 0, 0, 0.15);\n",
              "      filter: drop-shadow(0px 1px 2px rgba(0, 0, 0, 0.3));\n",
              "      fill: #FFFFFF;\n",
              "    }\n",
              "  </style>\n",
              "\n",
              "    <script>\n",
              "      const buttonEl =\n",
              "        document.querySelector('#df-a1ea0fd0-0eed-4155-9103-814adcc799fc button.colab-df-convert');\n",
              "      buttonEl.style.display =\n",
              "        google.colab.kernel.accessAllowed ? 'block' : 'none';\n",
              "\n",
              "      async function convertToInteractive(key) {\n",
              "        const element = document.querySelector('#df-a1ea0fd0-0eed-4155-9103-814adcc799fc');\n",
              "        const dataTable =\n",
              "          await google.colab.kernel.invokeFunction('convertToInteractive',\n",
              "                                                    [key], {});\n",
              "        if (!dataTable) return;\n",
              "\n",
              "        const docLinkHtml = 'Like what you see? Visit the ' +\n",
              "          '<a target=\"_blank\" href=https://colab.research.google.com/notebooks/data_table.ipynb>data table notebook</a>'\n",
              "          + ' to learn more about interactive tables.';\n",
              "        element.innerHTML = '';\n",
              "        dataTable['output_type'] = 'display_data';\n",
              "        await google.colab.output.renderOutput(dataTable, element);\n",
              "        const docLink = document.createElement('div');\n",
              "        docLink.innerHTML = docLinkHtml;\n",
              "        element.appendChild(docLink);\n",
              "      }\n",
              "    </script>\n",
              "  </div>\n",
              "\n",
              "\n",
              "<div id=\"df-d535f52a-9eeb-40c1-82ea-c243cbe1a381\">\n",
              "  <button class=\"colab-df-quickchart\" onclick=\"quickchart('df-d535f52a-9eeb-40c1-82ea-c243cbe1a381')\"\n",
              "            title=\"Suggest charts\"\n",
              "            style=\"display:none;\">\n",
              "\n",
              "<svg xmlns=\"http://www.w3.org/2000/svg\" height=\"24px\"viewBox=\"0 0 24 24\"\n",
              "     width=\"24px\">\n",
              "    <g>\n",
              "        <path d=\"M19 3H5c-1.1 0-2 .9-2 2v14c0 1.1.9 2 2 2h14c1.1 0 2-.9 2-2V5c0-1.1-.9-2-2-2zM9 17H7v-7h2v7zm4 0h-2V7h2v10zm4 0h-2v-4h2v4z\"/>\n",
              "    </g>\n",
              "</svg>\n",
              "  </button>\n",
              "\n",
              "<style>\n",
              "  .colab-df-quickchart {\n",
              "      --bg-color: #E8F0FE;\n",
              "      --fill-color: #1967D2;\n",
              "      --hover-bg-color: #E2EBFA;\n",
              "      --hover-fill-color: #174EA6;\n",
              "      --disabled-fill-color: #AAA;\n",
              "      --disabled-bg-color: #DDD;\n",
              "  }\n",
              "\n",
              "  [theme=dark] .colab-df-quickchart {\n",
              "      --bg-color: #3B4455;\n",
              "      --fill-color: #D2E3FC;\n",
              "      --hover-bg-color: #434B5C;\n",
              "      --hover-fill-color: #FFFFFF;\n",
              "      --disabled-bg-color: #3B4455;\n",
              "      --disabled-fill-color: #666;\n",
              "  }\n",
              "\n",
              "  .colab-df-quickchart {\n",
              "    background-color: var(--bg-color);\n",
              "    border: none;\n",
              "    border-radius: 50%;\n",
              "    cursor: pointer;\n",
              "    display: none;\n",
              "    fill: var(--fill-color);\n",
              "    height: 32px;\n",
              "    padding: 0;\n",
              "    width: 32px;\n",
              "  }\n",
              "\n",
              "  .colab-df-quickchart:hover {\n",
              "    background-color: var(--hover-bg-color);\n",
              "    box-shadow: 0 1px 2px rgba(60, 64, 67, 0.3), 0 1px 3px 1px rgba(60, 64, 67, 0.15);\n",
              "    fill: var(--button-hover-fill-color);\n",
              "  }\n",
              "\n",
              "  .colab-df-quickchart-complete:disabled,\n",
              "  .colab-df-quickchart-complete:disabled:hover {\n",
              "    background-color: var(--disabled-bg-color);\n",
              "    fill: var(--disabled-fill-color);\n",
              "    box-shadow: none;\n",
              "  }\n",
              "\n",
              "  .colab-df-spinner {\n",
              "    border: 2px solid var(--fill-color);\n",
              "    border-color: transparent;\n",
              "    border-bottom-color: var(--fill-color);\n",
              "    animation:\n",
              "      spin 1s steps(1) infinite;\n",
              "  }\n",
              "\n",
              "  @keyframes spin {\n",
              "    0% {\n",
              "      border-color: transparent;\n",
              "      border-bottom-color: var(--fill-color);\n",
              "      border-left-color: var(--fill-color);\n",
              "    }\n",
              "    20% {\n",
              "      border-color: transparent;\n",
              "      border-left-color: var(--fill-color);\n",
              "      border-top-color: var(--fill-color);\n",
              "    }\n",
              "    30% {\n",
              "      border-color: transparent;\n",
              "      border-left-color: var(--fill-color);\n",
              "      border-top-color: var(--fill-color);\n",
              "      border-right-color: var(--fill-color);\n",
              "    }\n",
              "    40% {\n",
              "      border-color: transparent;\n",
              "      border-right-color: var(--fill-color);\n",
              "      border-top-color: var(--fill-color);\n",
              "    }\n",
              "    60% {\n",
              "      border-color: transparent;\n",
              "      border-right-color: var(--fill-color);\n",
              "    }\n",
              "    80% {\n",
              "      border-color: transparent;\n",
              "      border-right-color: var(--fill-color);\n",
              "      border-bottom-color: var(--fill-color);\n",
              "    }\n",
              "    90% {\n",
              "      border-color: transparent;\n",
              "      border-bottom-color: var(--fill-color);\n",
              "    }\n",
              "  }\n",
              "</style>\n",
              "\n",
              "  <script>\n",
              "    async function quickchart(key) {\n",
              "      const quickchartButtonEl =\n",
              "        document.querySelector('#' + key + ' button');\n",
              "      quickchartButtonEl.disabled = true;  // To prevent multiple clicks.\n",
              "      quickchartButtonEl.classList.add('colab-df-spinner');\n",
              "      try {\n",
              "        const charts = await google.colab.kernel.invokeFunction(\n",
              "            'suggestCharts', [key], {});\n",
              "      } catch (error) {\n",
              "        console.error('Error during call to suggestCharts:', error);\n",
              "      }\n",
              "      quickchartButtonEl.classList.remove('colab-df-spinner');\n",
              "      quickchartButtonEl.classList.add('colab-df-quickchart-complete');\n",
              "    }\n",
              "    (() => {\n",
              "      let quickchartButtonEl =\n",
              "        document.querySelector('#df-d535f52a-9eeb-40c1-82ea-c243cbe1a381 button');\n",
              "      quickchartButtonEl.style.display =\n",
              "        google.colab.kernel.accessAllowed ? 'block' : 'none';\n",
              "    })();\n",
              "  </script>\n",
              "</div>\n",
              "\n",
              "    </div>\n",
              "  </div>\n"
            ],
            "application/vnd.google.colaboratory.intrinsic+json": {
              "type": "dataframe",
              "variable_name": "df_from_csv",
              "summary": "{\n  \"name\": \"df_from_csv\",\n  \"rows\": 3000,\n  \"fields\": [\n    {\n      \"column\": \"longitude\",\n      \"properties\": {\n        \"dtype\": \"number\",\n        \"std\": 1.9949362939550175,\n        \"min\": -124.18,\n        \"max\": -114.49,\n        \"num_unique_values\": 607,\n        \"samples\": [\n          -121.15,\n          -121.46,\n          -121.02\n        ],\n        \"semantic_type\": \"\",\n        \"description\": \"\"\n      }\n    },\n    {\n      \"column\": \"latitude\",\n      \"properties\": {\n        \"dtype\": \"number\",\n        \"std\": 2.129669523343834,\n        \"min\": 32.56,\n        \"max\": 41.92,\n        \"num_unique_values\": 587,\n        \"samples\": [\n          40.17,\n          33.69,\n          39.61\n        ],\n        \"semantic_type\": \"\",\n        \"description\": \"\"\n      }\n    },\n    {\n      \"column\": \"housing_median_age\",\n      \"properties\": {\n        \"dtype\": \"number\",\n        \"std\": 12.555395554955753,\n        \"min\": 1.0,\n        \"max\": 52.0,\n        \"num_unique_values\": 52,\n        \"samples\": [\n          14.0,\n          49.0,\n          7.0\n        ],\n        \"semantic_type\": \"\",\n        \"description\": \"\"\n      }\n    },\n    {\n      \"column\": \"total_rooms\",\n      \"properties\": {\n        \"dtype\": \"number\",\n        \"std\": 2155.593331625581,\n        \"min\": 6.0,\n        \"max\": 30450.0,\n        \"num_unique_values\": 2215,\n        \"samples\": [\n          1961.0,\n          1807.0,\n          680.0\n        ],\n        \"semantic_type\": \"\",\n        \"description\": \"\"\n      }\n    },\n    {\n      \"column\": \"total_bedrooms\",\n      \"properties\": {\n        \"dtype\": \"number\",\n        \"std\": 415.6543681363229,\n        \"min\": 2.0,\n        \"max\": 5419.0,\n        \"num_unique_values\": 1055,\n        \"samples\": [\n          532.0,\n          764.0,\n          2162.0\n        ],\n        \"semantic_type\": \"\",\n        \"description\": \"\"\n      }\n    },\n    {\n      \"column\": \"population\",\n      \"properties\": {\n        \"dtype\": \"number\",\n        \"std\": 1030.5430124122424,\n        \"min\": 5.0,\n        \"max\": 11935.0,\n        \"num_unique_values\": 1802,\n        \"samples\": [\n          947.0,\n          1140.0,\n          2019.0\n        ],\n        \"semantic_type\": \"\",\n        \"description\": \"\"\n      }\n    },\n    {\n      \"column\": \"households\",\n      \"properties\": {\n        \"dtype\": \"number\",\n        \"std\": 365.42270980552627,\n        \"min\": 2.0,\n        \"max\": 4930.0,\n        \"num_unique_values\": 1026,\n        \"samples\": [\n          646.0,\n          629.0,\n          504.0\n        ],\n        \"semantic_type\": \"\",\n        \"description\": \"\"\n      }\n    },\n    {\n      \"column\": \"median_income\",\n      \"properties\": {\n        \"dtype\": \"number\",\n        \"std\": 1.854511729691479,\n        \"min\": 0.4999,\n        \"max\": 15.0001,\n        \"num_unique_values\": 2578,\n        \"samples\": [\n          1.725,\n          0.7403,\n          2.6964\n        ],\n        \"semantic_type\": \"\",\n        \"description\": \"\"\n      }\n    },\n    {\n      \"column\": \"median_house_value\",\n      \"properties\": {\n        \"dtype\": \"number\",\n        \"std\": 113119.68746964628,\n        \"min\": 22500.0,\n        \"max\": 500001.0,\n        \"num_unique_values\": 1784,\n        \"samples\": [\n          71900.0,\n          63000.0,\n          115800.0\n        ],\n        \"semantic_type\": \"\",\n        \"description\": \"\"\n      }\n    }\n  ]\n}"
            }
          },
          "metadata": {},
          "execution_count": 89
        }
      ]
    },
    {
      "cell_type": "code",
      "source": [
        "df_from_csv.tail(7)"
      ],
      "metadata": {
        "colab": {
          "base_uri": "https://localhost:8080/",
          "height": 289
        },
        "id": "mqkZ5nw1MOBO",
        "outputId": "cd1fa210-bf9d-407a-b548-2466ee33f66d"
      },
      "id": "mqkZ5nw1MOBO",
      "execution_count": null,
      "outputs": [
        {
          "output_type": "execute_result",
          "data": {
            "text/plain": [
              "      longitude  latitude  housing_median_age  total_rooms  total_bedrooms  \\\n",
              "2993    -117.91     33.60                37.0       2088.0           510.0   \n",
              "2994    -117.93     33.86                35.0        931.0           181.0   \n",
              "2995    -119.86     34.42                23.0       1450.0           642.0   \n",
              "2996    -118.14     34.06                27.0       5257.0          1082.0   \n",
              "2997    -119.70     36.30                10.0        956.0           201.0   \n",
              "2998    -117.12     34.10                40.0         96.0            14.0   \n",
              "2999    -119.63     34.42                42.0       1765.0           263.0   \n",
              "\n",
              "      population  households  median_income  median_house_value  \n",
              "2993       673.0       390.0         5.1048            500001.0  \n",
              "2994       516.0       174.0         5.5867            182500.0  \n",
              "2995      1258.0       607.0         1.1790            225000.0  \n",
              "2996      3496.0      1036.0         3.3906            237200.0  \n",
              "2997       693.0       220.0         2.2895             62000.0  \n",
              "2998        46.0        14.0         3.2708            162500.0  \n",
              "2999       753.0       260.0         8.5608            500001.0  "
            ],
            "text/html": [
              "\n",
              "  <div id=\"df-f49e8632-3e57-4fbe-86af-80678f70df37\" class=\"colab-df-container\">\n",
              "    <div>\n",
              "<style scoped>\n",
              "    .dataframe tbody tr th:only-of-type {\n",
              "        vertical-align: middle;\n",
              "    }\n",
              "\n",
              "    .dataframe tbody tr th {\n",
              "        vertical-align: top;\n",
              "    }\n",
              "\n",
              "    .dataframe thead th {\n",
              "        text-align: right;\n",
              "    }\n",
              "</style>\n",
              "<table border=\"1\" class=\"dataframe\">\n",
              "  <thead>\n",
              "    <tr style=\"text-align: right;\">\n",
              "      <th></th>\n",
              "      <th>longitude</th>\n",
              "      <th>latitude</th>\n",
              "      <th>housing_median_age</th>\n",
              "      <th>total_rooms</th>\n",
              "      <th>total_bedrooms</th>\n",
              "      <th>population</th>\n",
              "      <th>households</th>\n",
              "      <th>median_income</th>\n",
              "      <th>median_house_value</th>\n",
              "    </tr>\n",
              "  </thead>\n",
              "  <tbody>\n",
              "    <tr>\n",
              "      <th>2993</th>\n",
              "      <td>-117.91</td>\n",
              "      <td>33.60</td>\n",
              "      <td>37.0</td>\n",
              "      <td>2088.0</td>\n",
              "      <td>510.0</td>\n",
              "      <td>673.0</td>\n",
              "      <td>390.0</td>\n",
              "      <td>5.1048</td>\n",
              "      <td>500001.0</td>\n",
              "    </tr>\n",
              "    <tr>\n",
              "      <th>2994</th>\n",
              "      <td>-117.93</td>\n",
              "      <td>33.86</td>\n",
              "      <td>35.0</td>\n",
              "      <td>931.0</td>\n",
              "      <td>181.0</td>\n",
              "      <td>516.0</td>\n",
              "      <td>174.0</td>\n",
              "      <td>5.5867</td>\n",
              "      <td>182500.0</td>\n",
              "    </tr>\n",
              "    <tr>\n",
              "      <th>2995</th>\n",
              "      <td>-119.86</td>\n",
              "      <td>34.42</td>\n",
              "      <td>23.0</td>\n",
              "      <td>1450.0</td>\n",
              "      <td>642.0</td>\n",
              "      <td>1258.0</td>\n",
              "      <td>607.0</td>\n",
              "      <td>1.1790</td>\n",
              "      <td>225000.0</td>\n",
              "    </tr>\n",
              "    <tr>\n",
              "      <th>2996</th>\n",
              "      <td>-118.14</td>\n",
              "      <td>34.06</td>\n",
              "      <td>27.0</td>\n",
              "      <td>5257.0</td>\n",
              "      <td>1082.0</td>\n",
              "      <td>3496.0</td>\n",
              "      <td>1036.0</td>\n",
              "      <td>3.3906</td>\n",
              "      <td>237200.0</td>\n",
              "    </tr>\n",
              "    <tr>\n",
              "      <th>2997</th>\n",
              "      <td>-119.70</td>\n",
              "      <td>36.30</td>\n",
              "      <td>10.0</td>\n",
              "      <td>956.0</td>\n",
              "      <td>201.0</td>\n",
              "      <td>693.0</td>\n",
              "      <td>220.0</td>\n",
              "      <td>2.2895</td>\n",
              "      <td>62000.0</td>\n",
              "    </tr>\n",
              "    <tr>\n",
              "      <th>2998</th>\n",
              "      <td>-117.12</td>\n",
              "      <td>34.10</td>\n",
              "      <td>40.0</td>\n",
              "      <td>96.0</td>\n",
              "      <td>14.0</td>\n",
              "      <td>46.0</td>\n",
              "      <td>14.0</td>\n",
              "      <td>3.2708</td>\n",
              "      <td>162500.0</td>\n",
              "    </tr>\n",
              "    <tr>\n",
              "      <th>2999</th>\n",
              "      <td>-119.63</td>\n",
              "      <td>34.42</td>\n",
              "      <td>42.0</td>\n",
              "      <td>1765.0</td>\n",
              "      <td>263.0</td>\n",
              "      <td>753.0</td>\n",
              "      <td>260.0</td>\n",
              "      <td>8.5608</td>\n",
              "      <td>500001.0</td>\n",
              "    </tr>\n",
              "  </tbody>\n",
              "</table>\n",
              "</div>\n",
              "    <div class=\"colab-df-buttons\">\n",
              "\n",
              "  <div class=\"colab-df-container\">\n",
              "    <button class=\"colab-df-convert\" onclick=\"convertToInteractive('df-f49e8632-3e57-4fbe-86af-80678f70df37')\"\n",
              "            title=\"Convert this dataframe to an interactive table.\"\n",
              "            style=\"display:none;\">\n",
              "\n",
              "  <svg xmlns=\"http://www.w3.org/2000/svg\" height=\"24px\" viewBox=\"0 -960 960 960\">\n",
              "    <path d=\"M120-120v-720h720v720H120Zm60-500h600v-160H180v160Zm220 220h160v-160H400v160Zm0 220h160v-160H400v160ZM180-400h160v-160H180v160Zm440 0h160v-160H620v160ZM180-180h160v-160H180v160Zm440 0h160v-160H620v160Z\"/>\n",
              "  </svg>\n",
              "    </button>\n",
              "\n",
              "  <style>\n",
              "    .colab-df-container {\n",
              "      display:flex;\n",
              "      gap: 12px;\n",
              "    }\n",
              "\n",
              "    .colab-df-convert {\n",
              "      background-color: #E8F0FE;\n",
              "      border: none;\n",
              "      border-radius: 50%;\n",
              "      cursor: pointer;\n",
              "      display: none;\n",
              "      fill: #1967D2;\n",
              "      height: 32px;\n",
              "      padding: 0 0 0 0;\n",
              "      width: 32px;\n",
              "    }\n",
              "\n",
              "    .colab-df-convert:hover {\n",
              "      background-color: #E2EBFA;\n",
              "      box-shadow: 0px 1px 2px rgba(60, 64, 67, 0.3), 0px 1px 3px 1px rgba(60, 64, 67, 0.15);\n",
              "      fill: #174EA6;\n",
              "    }\n",
              "\n",
              "    .colab-df-buttons div {\n",
              "      margin-bottom: 4px;\n",
              "    }\n",
              "\n",
              "    [theme=dark] .colab-df-convert {\n",
              "      background-color: #3B4455;\n",
              "      fill: #D2E3FC;\n",
              "    }\n",
              "\n",
              "    [theme=dark] .colab-df-convert:hover {\n",
              "      background-color: #434B5C;\n",
              "      box-shadow: 0px 1px 3px 1px rgba(0, 0, 0, 0.15);\n",
              "      filter: drop-shadow(0px 1px 2px rgba(0, 0, 0, 0.3));\n",
              "      fill: #FFFFFF;\n",
              "    }\n",
              "  </style>\n",
              "\n",
              "    <script>\n",
              "      const buttonEl =\n",
              "        document.querySelector('#df-f49e8632-3e57-4fbe-86af-80678f70df37 button.colab-df-convert');\n",
              "      buttonEl.style.display =\n",
              "        google.colab.kernel.accessAllowed ? 'block' : 'none';\n",
              "\n",
              "      async function convertToInteractive(key) {\n",
              "        const element = document.querySelector('#df-f49e8632-3e57-4fbe-86af-80678f70df37');\n",
              "        const dataTable =\n",
              "          await google.colab.kernel.invokeFunction('convertToInteractive',\n",
              "                                                    [key], {});\n",
              "        if (!dataTable) return;\n",
              "\n",
              "        const docLinkHtml = 'Like what you see? Visit the ' +\n",
              "          '<a target=\"_blank\" href=https://colab.research.google.com/notebooks/data_table.ipynb>data table notebook</a>'\n",
              "          + ' to learn more about interactive tables.';\n",
              "        element.innerHTML = '';\n",
              "        dataTable['output_type'] = 'display_data';\n",
              "        await google.colab.output.renderOutput(dataTable, element);\n",
              "        const docLink = document.createElement('div');\n",
              "        docLink.innerHTML = docLinkHtml;\n",
              "        element.appendChild(docLink);\n",
              "      }\n",
              "    </script>\n",
              "  </div>\n",
              "\n",
              "\n",
              "<div id=\"df-f7d1ce04-2c42-4eb5-a226-a4e687989902\">\n",
              "  <button class=\"colab-df-quickchart\" onclick=\"quickchart('df-f7d1ce04-2c42-4eb5-a226-a4e687989902')\"\n",
              "            title=\"Suggest charts\"\n",
              "            style=\"display:none;\">\n",
              "\n",
              "<svg xmlns=\"http://www.w3.org/2000/svg\" height=\"24px\"viewBox=\"0 0 24 24\"\n",
              "     width=\"24px\">\n",
              "    <g>\n",
              "        <path d=\"M19 3H5c-1.1 0-2 .9-2 2v14c0 1.1.9 2 2 2h14c1.1 0 2-.9 2-2V5c0-1.1-.9-2-2-2zM9 17H7v-7h2v7zm4 0h-2V7h2v10zm4 0h-2v-4h2v4z\"/>\n",
              "    </g>\n",
              "</svg>\n",
              "  </button>\n",
              "\n",
              "<style>\n",
              "  .colab-df-quickchart {\n",
              "      --bg-color: #E8F0FE;\n",
              "      --fill-color: #1967D2;\n",
              "      --hover-bg-color: #E2EBFA;\n",
              "      --hover-fill-color: #174EA6;\n",
              "      --disabled-fill-color: #AAA;\n",
              "      --disabled-bg-color: #DDD;\n",
              "  }\n",
              "\n",
              "  [theme=dark] .colab-df-quickchart {\n",
              "      --bg-color: #3B4455;\n",
              "      --fill-color: #D2E3FC;\n",
              "      --hover-bg-color: #434B5C;\n",
              "      --hover-fill-color: #FFFFFF;\n",
              "      --disabled-bg-color: #3B4455;\n",
              "      --disabled-fill-color: #666;\n",
              "  }\n",
              "\n",
              "  .colab-df-quickchart {\n",
              "    background-color: var(--bg-color);\n",
              "    border: none;\n",
              "    border-radius: 50%;\n",
              "    cursor: pointer;\n",
              "    display: none;\n",
              "    fill: var(--fill-color);\n",
              "    height: 32px;\n",
              "    padding: 0;\n",
              "    width: 32px;\n",
              "  }\n",
              "\n",
              "  .colab-df-quickchart:hover {\n",
              "    background-color: var(--hover-bg-color);\n",
              "    box-shadow: 0 1px 2px rgba(60, 64, 67, 0.3), 0 1px 3px 1px rgba(60, 64, 67, 0.15);\n",
              "    fill: var(--button-hover-fill-color);\n",
              "  }\n",
              "\n",
              "  .colab-df-quickchart-complete:disabled,\n",
              "  .colab-df-quickchart-complete:disabled:hover {\n",
              "    background-color: var(--disabled-bg-color);\n",
              "    fill: var(--disabled-fill-color);\n",
              "    box-shadow: none;\n",
              "  }\n",
              "\n",
              "  .colab-df-spinner {\n",
              "    border: 2px solid var(--fill-color);\n",
              "    border-color: transparent;\n",
              "    border-bottom-color: var(--fill-color);\n",
              "    animation:\n",
              "      spin 1s steps(1) infinite;\n",
              "  }\n",
              "\n",
              "  @keyframes spin {\n",
              "    0% {\n",
              "      border-color: transparent;\n",
              "      border-bottom-color: var(--fill-color);\n",
              "      border-left-color: var(--fill-color);\n",
              "    }\n",
              "    20% {\n",
              "      border-color: transparent;\n",
              "      border-left-color: var(--fill-color);\n",
              "      border-top-color: var(--fill-color);\n",
              "    }\n",
              "    30% {\n",
              "      border-color: transparent;\n",
              "      border-left-color: var(--fill-color);\n",
              "      border-top-color: var(--fill-color);\n",
              "      border-right-color: var(--fill-color);\n",
              "    }\n",
              "    40% {\n",
              "      border-color: transparent;\n",
              "      border-right-color: var(--fill-color);\n",
              "      border-top-color: var(--fill-color);\n",
              "    }\n",
              "    60% {\n",
              "      border-color: transparent;\n",
              "      border-right-color: var(--fill-color);\n",
              "    }\n",
              "    80% {\n",
              "      border-color: transparent;\n",
              "      border-right-color: var(--fill-color);\n",
              "      border-bottom-color: var(--fill-color);\n",
              "    }\n",
              "    90% {\n",
              "      border-color: transparent;\n",
              "      border-bottom-color: var(--fill-color);\n",
              "    }\n",
              "  }\n",
              "</style>\n",
              "\n",
              "  <script>\n",
              "    async function quickchart(key) {\n",
              "      const quickchartButtonEl =\n",
              "        document.querySelector('#' + key + ' button');\n",
              "      quickchartButtonEl.disabled = true;  // To prevent multiple clicks.\n",
              "      quickchartButtonEl.classList.add('colab-df-spinner');\n",
              "      try {\n",
              "        const charts = await google.colab.kernel.invokeFunction(\n",
              "            'suggestCharts', [key], {});\n",
              "      } catch (error) {\n",
              "        console.error('Error during call to suggestCharts:', error);\n",
              "      }\n",
              "      quickchartButtonEl.classList.remove('colab-df-spinner');\n",
              "      quickchartButtonEl.classList.add('colab-df-quickchart-complete');\n",
              "    }\n",
              "    (() => {\n",
              "      let quickchartButtonEl =\n",
              "        document.querySelector('#df-f7d1ce04-2c42-4eb5-a226-a4e687989902 button');\n",
              "      quickchartButtonEl.style.display =\n",
              "        google.colab.kernel.accessAllowed ? 'block' : 'none';\n",
              "    })();\n",
              "  </script>\n",
              "</div>\n",
              "\n",
              "    </div>\n",
              "  </div>\n"
            ],
            "application/vnd.google.colaboratory.intrinsic+json": {
              "type": "dataframe",
              "summary": "{\n  \"name\": \"df_from_csv\",\n  \"rows\": 7,\n  \"fields\": [\n    {\n      \"column\": \"longitude\",\n      \"properties\": {\n        \"dtype\": \"number\",\n        \"std\": 1.0942533875617988,\n        \"min\": -119.86,\n        \"max\": -117.12,\n        \"num_unique_values\": 7,\n        \"samples\": [\n          -117.91,\n          -117.93,\n          -117.12\n        ],\n        \"semantic_type\": \"\",\n        \"description\": \"\"\n      }\n    },\n    {\n      \"column\": \"latitude\",\n      \"properties\": {\n        \"dtype\": \"number\",\n        \"std\": 0.8895477716768424,\n        \"min\": 33.6,\n        \"max\": 36.3,\n        \"num_unique_values\": 6,\n        \"samples\": [\n          33.6,\n          33.86,\n          34.1\n        ],\n        \"semantic_type\": \"\",\n        \"description\": \"\"\n      }\n    },\n    {\n      \"column\": \"housing_median_age\",\n      \"properties\": {\n        \"dtype\": \"number\",\n        \"std\": 11.35572018642503,\n        \"min\": 10.0,\n        \"max\": 42.0,\n        \"num_unique_values\": 7,\n        \"samples\": [\n          37.0,\n          35.0,\n          40.0\n        ],\n        \"semantic_type\": \"\",\n        \"description\": \"\"\n      }\n    },\n    {\n      \"column\": \"total_rooms\",\n      \"properties\": {\n        \"dtype\": \"number\",\n        \"std\": 1659.7272294538268,\n        \"min\": 96.0,\n        \"max\": 5257.0,\n        \"num_unique_values\": 7,\n        \"samples\": [\n          2088.0,\n          931.0,\n          96.0\n        ],\n        \"semantic_type\": \"\",\n        \"description\": \"\"\n      }\n    },\n    {\n      \"column\": \"total_bedrooms\",\n      \"properties\": {\n        \"dtype\": \"number\",\n        \"std\": 362.8313264156934,\n        \"min\": 14.0,\n        \"max\": 1082.0,\n        \"num_unique_values\": 7,\n        \"samples\": [\n          510.0,\n          181.0,\n          14.0\n        ],\n        \"semantic_type\": \"\",\n        \"description\": \"\"\n      }\n    },\n    {\n      \"column\": \"population\",\n      \"properties\": {\n        \"dtype\": \"number\",\n        \"std\": 1131.0840564949817,\n        \"min\": 46.0,\n        \"max\": 3496.0,\n        \"num_unique_values\": 7,\n        \"samples\": [\n          673.0,\n          516.0,\n          46.0\n        ],\n        \"semantic_type\": \"\",\n        \"description\": \"\"\n      }\n    },\n    {\n      \"column\": \"households\",\n      \"properties\": {\n        \"dtype\": \"number\",\n        \"std\": 341.1052763060248,\n        \"min\": 14.0,\n        \"max\": 1036.0,\n        \"num_unique_values\": 7,\n        \"samples\": [\n          390.0,\n          174.0,\n          14.0\n        ],\n        \"semantic_type\": \"\",\n        \"description\": \"\"\n      }\n    },\n    {\n      \"column\": \"median_income\",\n      \"properties\": {\n        \"dtype\": \"number\",\n        \"std\": 2.4512963766526634,\n        \"min\": 1.179,\n        \"max\": 8.5608,\n        \"num_unique_values\": 7,\n        \"samples\": [\n          5.1048,\n          5.5867,\n          3.2708\n        ],\n        \"semantic_type\": \"\",\n        \"description\": \"\"\n      }\n    },\n    {\n      \"column\": \"median_house_value\",\n      \"properties\": {\n        \"dtype\": \"number\",\n        \"std\": 168975.57327064426,\n        \"min\": 62000.0,\n        \"max\": 500001.0,\n        \"num_unique_values\": 6,\n        \"samples\": [\n          500001.0,\n          182500.0,\n          162500.0\n        ],\n        \"semantic_type\": \"\",\n        \"description\": \"\"\n      }\n    }\n  ]\n}"
            }
          },
          "metadata": {},
          "execution_count": 90
        }
      ]
    },
    {
      "cell_type": "code",
      "source": [
        "df_from_csv['population']"
      ],
      "metadata": {
        "colab": {
          "base_uri": "https://localhost:8080/"
        },
        "id": "i23uiv6ILVWd",
        "outputId": "42afe6b8-eb97-4d0a-ae84-f308854f3351"
      },
      "id": "i23uiv6ILVWd",
      "execution_count": null,
      "outputs": [
        {
          "output_type": "execute_result",
          "data": {
            "text/plain": [
              "0       1537.0\n",
              "1        809.0\n",
              "2       1484.0\n",
              "3         49.0\n",
              "4        850.0\n",
              "         ...  \n",
              "2995    1258.0\n",
              "2996    3496.0\n",
              "2997     693.0\n",
              "2998      46.0\n",
              "2999     753.0\n",
              "Name: population, Length: 3000, dtype: float64"
            ]
          },
          "metadata": {},
          "execution_count": 92
        }
      ]
    },
    {
      "cell_type": "code",
      "source": [
        "df_from_csv.population"
      ],
      "metadata": {
        "colab": {
          "base_uri": "https://localhost:8080/"
        },
        "id": "MZcxjojEMh8h",
        "outputId": "18f7f2e9-87f1-489f-df70-695b54327818"
      },
      "id": "MZcxjojEMh8h",
      "execution_count": null,
      "outputs": [
        {
          "output_type": "execute_result",
          "data": {
            "text/plain": [
              "0       1537.0\n",
              "1        809.0\n",
              "2       1484.0\n",
              "3         49.0\n",
              "4        850.0\n",
              "         ...  \n",
              "2995    1258.0\n",
              "2996    3496.0\n",
              "2997     693.0\n",
              "2998      46.0\n",
              "2999     753.0\n",
              "Name: population, Length: 3000, dtype: float64"
            ]
          },
          "metadata": {},
          "execution_count": 93
        }
      ]
    },
    {
      "cell_type": "code",
      "source": [
        "df_2 = df_from_csv.iloc[: , 5:6 ]\n",
        "df_2"
      ],
      "metadata": {
        "colab": {
          "base_uri": "https://localhost:8080/",
          "height": 204
        },
        "id": "l6npsg0nMn5g",
        "outputId": "fd5590a1-b822-48e1-ef3d-3b79f135ee1e"
      },
      "id": "l6npsg0nMn5g",
      "execution_count": null,
      "outputs": [
        {
          "output_type": "execute_result",
          "data": {
            "text/plain": [
              "pandas.core.frame.DataFrame"
            ],
            "text/html": [
              "<div style=\"max-width:800px; border: 1px solid var(--colab-border-color);\"><style>\n",
              "      pre.function-repr-contents {\n",
              "        overflow-x: auto;\n",
              "        padding: 8px 12px;\n",
              "        max-height: 500px;\n",
              "      }\n",
              "\n",
              "      pre.function-repr-contents.function-repr-contents-collapsed {\n",
              "        cursor: pointer;\n",
              "        max-height: 100px;\n",
              "      }\n",
              "    </style>\n",
              "    <pre style=\"white-space: initial; background:\n",
              "         var(--colab-secondary-surface-color); padding: 8px 12px;\n",
              "         border-bottom: 1px solid var(--colab-border-color);\"><b>pandas.core.frame.DataFrame</b><br/>def __init__(data=None, index: Axes | None=None, columns: Axes | None=None, dtype: Dtype | None=None, copy: bool | None=None) -&gt; None</pre><pre class=\"function-repr-contents function-repr-contents-collapsed\" style=\"\"><a class=\"filepath\" style=\"display:none\" href=\"#\">/usr/local/lib/python3.10/dist-packages/pandas/core/frame.py</a>Two-dimensional, size-mutable, potentially heterogeneous tabular data.\n",
              "\n",
              "Data structure also contains labeled axes (rows and columns).\n",
              "Arithmetic operations align on both row and column labels. Can be\n",
              "thought of as a dict-like container for Series objects. The primary\n",
              "pandas data structure.\n",
              "\n",
              "Parameters\n",
              "----------\n",
              "data : ndarray (structured or homogeneous), Iterable, dict, or DataFrame\n",
              "    Dict can contain Series, arrays, constants, dataclass or list-like objects. If\n",
              "    data is a dict, column order follows insertion-order. If a dict contains Series\n",
              "    which have an index defined, it is aligned by its index. This alignment also\n",
              "    occurs if data is a Series or a DataFrame itself. Alignment is done on\n",
              "    Series/DataFrame inputs.\n",
              "\n",
              "    If data is a list of dicts, column order follows insertion-order.\n",
              "\n",
              "index : Index or array-like\n",
              "    Index to use for resulting frame. Will default to RangeIndex if\n",
              "    no indexing information part of input data and no index provided.\n",
              "columns : Index or array-like\n",
              "    Column labels to use for resulting frame when data does not have them,\n",
              "    defaulting to RangeIndex(0, 1, 2, ..., n). If data contains column labels,\n",
              "    will perform column selection instead.\n",
              "dtype : dtype, default None\n",
              "    Data type to force. Only a single dtype is allowed. If None, infer.\n",
              "copy : bool or None, default None\n",
              "    Copy data from inputs.\n",
              "    For dict data, the default of None behaves like ``copy=True``.  For DataFrame\n",
              "    or 2d ndarray input, the default of None behaves like ``copy=False``.\n",
              "    If data is a dict containing one or more Series (possibly of different dtypes),\n",
              "    ``copy=False`` will ensure that these inputs are not copied.\n",
              "\n",
              "    .. versionchanged:: 1.3.0\n",
              "\n",
              "See Also\n",
              "--------\n",
              "DataFrame.from_records : Constructor from tuples, also record arrays.\n",
              "DataFrame.from_dict : From dicts of Series, arrays, or dicts.\n",
              "read_csv : Read a comma-separated values (csv) file into DataFrame.\n",
              "read_table : Read general delimited file into DataFrame.\n",
              "read_clipboard : Read text from clipboard into DataFrame.\n",
              "\n",
              "Notes\n",
              "-----\n",
              "Please reference the :ref:`User Guide &lt;basics.dataframe&gt;` for more information.\n",
              "\n",
              "Examples\n",
              "--------\n",
              "Constructing DataFrame from a dictionary.\n",
              "\n",
              "&gt;&gt;&gt; d = {&#x27;col1&#x27;: [1, 2], &#x27;col2&#x27;: [3, 4]}\n",
              "&gt;&gt;&gt; df = pd.DataFrame(data=d)\n",
              "&gt;&gt;&gt; df\n",
              "   col1  col2\n",
              "0     1     3\n",
              "1     2     4\n",
              "\n",
              "Notice that the inferred dtype is int64.\n",
              "\n",
              "&gt;&gt;&gt; df.dtypes\n",
              "col1    int64\n",
              "col2    int64\n",
              "dtype: object\n",
              "\n",
              "To enforce a single dtype:\n",
              "\n",
              "&gt;&gt;&gt; df = pd.DataFrame(data=d, dtype=np.int8)\n",
              "&gt;&gt;&gt; df.dtypes\n",
              "col1    int8\n",
              "col2    int8\n",
              "dtype: object\n",
              "\n",
              "Constructing DataFrame from a dictionary including Series:\n",
              "\n",
              "&gt;&gt;&gt; d = {&#x27;col1&#x27;: [0, 1, 2, 3], &#x27;col2&#x27;: pd.Series([2, 3], index=[2, 3])}\n",
              "&gt;&gt;&gt; pd.DataFrame(data=d, index=[0, 1, 2, 3])\n",
              "   col1  col2\n",
              "0     0   NaN\n",
              "1     1   NaN\n",
              "2     2   2.0\n",
              "3     3   3.0\n",
              "\n",
              "Constructing DataFrame from numpy ndarray:\n",
              "\n",
              "&gt;&gt;&gt; df2 = pd.DataFrame(np.array([[1, 2, 3], [4, 5, 6], [7, 8, 9]]),\n",
              "...                    columns=[&#x27;a&#x27;, &#x27;b&#x27;, &#x27;c&#x27;])\n",
              "&gt;&gt;&gt; df2\n",
              "   a  b  c\n",
              "0  1  2  3\n",
              "1  4  5  6\n",
              "2  7  8  9\n",
              "\n",
              "Constructing DataFrame from a numpy ndarray that has labeled columns:\n",
              "\n",
              "&gt;&gt;&gt; data = np.array([(1, 2, 3), (4, 5, 6), (7, 8, 9)],\n",
              "...                 dtype=[(&quot;a&quot;, &quot;i4&quot;), (&quot;b&quot;, &quot;i4&quot;), (&quot;c&quot;, &quot;i4&quot;)])\n",
              "&gt;&gt;&gt; df3 = pd.DataFrame(data, columns=[&#x27;c&#x27;, &#x27;a&#x27;])\n",
              "...\n",
              "&gt;&gt;&gt; df3\n",
              "   c  a\n",
              "0  3  1\n",
              "1  6  4\n",
              "2  9  7\n",
              "\n",
              "Constructing DataFrame from dataclass:\n",
              "\n",
              "&gt;&gt;&gt; from dataclasses import make_dataclass\n",
              "&gt;&gt;&gt; Point = make_dataclass(&quot;Point&quot;, [(&quot;x&quot;, int), (&quot;y&quot;, int)])\n",
              "&gt;&gt;&gt; pd.DataFrame([Point(0, 0), Point(0, 3), Point(2, 3)])\n",
              "   x  y\n",
              "0  0  0\n",
              "1  0  3\n",
              "2  2  3\n",
              "\n",
              "Constructing DataFrame from Series/DataFrame:\n",
              "\n",
              "&gt;&gt;&gt; ser = pd.Series([1, 2, 3], index=[&quot;a&quot;, &quot;b&quot;, &quot;c&quot;])\n",
              "&gt;&gt;&gt; df = pd.DataFrame(data=ser, index=[&quot;a&quot;, &quot;c&quot;])\n",
              "&gt;&gt;&gt; df\n",
              "   0\n",
              "a  1\n",
              "c  3\n",
              "\n",
              "&gt;&gt;&gt; df1 = pd.DataFrame([1, 2, 3], index=[&quot;a&quot;, &quot;b&quot;, &quot;c&quot;], columns=[&quot;x&quot;])\n",
              "&gt;&gt;&gt; df2 = pd.DataFrame(data=df1, index=[&quot;a&quot;, &quot;c&quot;])\n",
              "&gt;&gt;&gt; df2\n",
              "   x\n",
              "a  1\n",
              "c  3</pre>\n",
              "      <script>\n",
              "      if (google.colab.kernel.accessAllowed && google.colab.files && google.colab.files.view) {\n",
              "        for (const element of document.querySelectorAll('.filepath')) {\n",
              "          element.style.display = 'block'\n",
              "          element.onclick = (event) => {\n",
              "            event.preventDefault();\n",
              "            event.stopPropagation();\n",
              "            google.colab.files.view(element.textContent, 490);\n",
              "          };\n",
              "        }\n",
              "      }\n",
              "      for (const element of document.querySelectorAll('.function-repr-contents')) {\n",
              "        element.onclick = (event) => {\n",
              "          event.preventDefault();\n",
              "          event.stopPropagation();\n",
              "          element.classList.toggle('function-repr-contents-collapsed');\n",
              "        };\n",
              "      }\n",
              "      </script>\n",
              "      </div>"
            ]
          },
          "metadata": {},
          "execution_count": 97
        }
      ]
    },
    {
      "cell_type": "code",
      "source": [
        "df_from_csv.iloc[: , [5] ]"
      ],
      "metadata": {
        "colab": {
          "base_uri": "https://localhost:8080/",
          "height": 424
        },
        "id": "atasK4aXM-GE",
        "outputId": "60217dd0-acdd-470d-9c1d-7edf98dd6070"
      },
      "id": "atasK4aXM-GE",
      "execution_count": null,
      "outputs": [
        {
          "output_type": "execute_result",
          "data": {
            "text/plain": [
              "      population\n",
              "0         1537.0\n",
              "1          809.0\n",
              "2         1484.0\n",
              "3           49.0\n",
              "4          850.0\n",
              "...          ...\n",
              "2995      1258.0\n",
              "2996      3496.0\n",
              "2997       693.0\n",
              "2998        46.0\n",
              "2999       753.0\n",
              "\n",
              "[3000 rows x 1 columns]"
            ],
            "text/html": [
              "\n",
              "  <div id=\"df-c48b8375-5617-4708-99ad-42d6a865f126\" class=\"colab-df-container\">\n",
              "    <div>\n",
              "<style scoped>\n",
              "    .dataframe tbody tr th:only-of-type {\n",
              "        vertical-align: middle;\n",
              "    }\n",
              "\n",
              "    .dataframe tbody tr th {\n",
              "        vertical-align: top;\n",
              "    }\n",
              "\n",
              "    .dataframe thead th {\n",
              "        text-align: right;\n",
              "    }\n",
              "</style>\n",
              "<table border=\"1\" class=\"dataframe\">\n",
              "  <thead>\n",
              "    <tr style=\"text-align: right;\">\n",
              "      <th></th>\n",
              "      <th>population</th>\n",
              "    </tr>\n",
              "  </thead>\n",
              "  <tbody>\n",
              "    <tr>\n",
              "      <th>0</th>\n",
              "      <td>1537.0</td>\n",
              "    </tr>\n",
              "    <tr>\n",
              "      <th>1</th>\n",
              "      <td>809.0</td>\n",
              "    </tr>\n",
              "    <tr>\n",
              "      <th>2</th>\n",
              "      <td>1484.0</td>\n",
              "    </tr>\n",
              "    <tr>\n",
              "      <th>3</th>\n",
              "      <td>49.0</td>\n",
              "    </tr>\n",
              "    <tr>\n",
              "      <th>4</th>\n",
              "      <td>850.0</td>\n",
              "    </tr>\n",
              "    <tr>\n",
              "      <th>...</th>\n",
              "      <td>...</td>\n",
              "    </tr>\n",
              "    <tr>\n",
              "      <th>2995</th>\n",
              "      <td>1258.0</td>\n",
              "    </tr>\n",
              "    <tr>\n",
              "      <th>2996</th>\n",
              "      <td>3496.0</td>\n",
              "    </tr>\n",
              "    <tr>\n",
              "      <th>2997</th>\n",
              "      <td>693.0</td>\n",
              "    </tr>\n",
              "    <tr>\n",
              "      <th>2998</th>\n",
              "      <td>46.0</td>\n",
              "    </tr>\n",
              "    <tr>\n",
              "      <th>2999</th>\n",
              "      <td>753.0</td>\n",
              "    </tr>\n",
              "  </tbody>\n",
              "</table>\n",
              "<p>3000 rows × 1 columns</p>\n",
              "</div>\n",
              "    <div class=\"colab-df-buttons\">\n",
              "\n",
              "  <div class=\"colab-df-container\">\n",
              "    <button class=\"colab-df-convert\" onclick=\"convertToInteractive('df-c48b8375-5617-4708-99ad-42d6a865f126')\"\n",
              "            title=\"Convert this dataframe to an interactive table.\"\n",
              "            style=\"display:none;\">\n",
              "\n",
              "  <svg xmlns=\"http://www.w3.org/2000/svg\" height=\"24px\" viewBox=\"0 -960 960 960\">\n",
              "    <path d=\"M120-120v-720h720v720H120Zm60-500h600v-160H180v160Zm220 220h160v-160H400v160Zm0 220h160v-160H400v160ZM180-400h160v-160H180v160Zm440 0h160v-160H620v160ZM180-180h160v-160H180v160Zm440 0h160v-160H620v160Z\"/>\n",
              "  </svg>\n",
              "    </button>\n",
              "\n",
              "  <style>\n",
              "    .colab-df-container {\n",
              "      display:flex;\n",
              "      gap: 12px;\n",
              "    }\n",
              "\n",
              "    .colab-df-convert {\n",
              "      background-color: #E8F0FE;\n",
              "      border: none;\n",
              "      border-radius: 50%;\n",
              "      cursor: pointer;\n",
              "      display: none;\n",
              "      fill: #1967D2;\n",
              "      height: 32px;\n",
              "      padding: 0 0 0 0;\n",
              "      width: 32px;\n",
              "    }\n",
              "\n",
              "    .colab-df-convert:hover {\n",
              "      background-color: #E2EBFA;\n",
              "      box-shadow: 0px 1px 2px rgba(60, 64, 67, 0.3), 0px 1px 3px 1px rgba(60, 64, 67, 0.15);\n",
              "      fill: #174EA6;\n",
              "    }\n",
              "\n",
              "    .colab-df-buttons div {\n",
              "      margin-bottom: 4px;\n",
              "    }\n",
              "\n",
              "    [theme=dark] .colab-df-convert {\n",
              "      background-color: #3B4455;\n",
              "      fill: #D2E3FC;\n",
              "    }\n",
              "\n",
              "    [theme=dark] .colab-df-convert:hover {\n",
              "      background-color: #434B5C;\n",
              "      box-shadow: 0px 1px 3px 1px rgba(0, 0, 0, 0.15);\n",
              "      filter: drop-shadow(0px 1px 2px rgba(0, 0, 0, 0.3));\n",
              "      fill: #FFFFFF;\n",
              "    }\n",
              "  </style>\n",
              "\n",
              "    <script>\n",
              "      const buttonEl =\n",
              "        document.querySelector('#df-c48b8375-5617-4708-99ad-42d6a865f126 button.colab-df-convert');\n",
              "      buttonEl.style.display =\n",
              "        google.colab.kernel.accessAllowed ? 'block' : 'none';\n",
              "\n",
              "      async function convertToInteractive(key) {\n",
              "        const element = document.querySelector('#df-c48b8375-5617-4708-99ad-42d6a865f126');\n",
              "        const dataTable =\n",
              "          await google.colab.kernel.invokeFunction('convertToInteractive',\n",
              "                                                    [key], {});\n",
              "        if (!dataTable) return;\n",
              "\n",
              "        const docLinkHtml = 'Like what you see? Visit the ' +\n",
              "          '<a target=\"_blank\" href=https://colab.research.google.com/notebooks/data_table.ipynb>data table notebook</a>'\n",
              "          + ' to learn more about interactive tables.';\n",
              "        element.innerHTML = '';\n",
              "        dataTable['output_type'] = 'display_data';\n",
              "        await google.colab.output.renderOutput(dataTable, element);\n",
              "        const docLink = document.createElement('div');\n",
              "        docLink.innerHTML = docLinkHtml;\n",
              "        element.appendChild(docLink);\n",
              "      }\n",
              "    </script>\n",
              "  </div>\n",
              "\n",
              "\n",
              "<div id=\"df-11a43635-a13b-4f90-b76d-b897d261fffb\">\n",
              "  <button class=\"colab-df-quickchart\" onclick=\"quickchart('df-11a43635-a13b-4f90-b76d-b897d261fffb')\"\n",
              "            title=\"Suggest charts\"\n",
              "            style=\"display:none;\">\n",
              "\n",
              "<svg xmlns=\"http://www.w3.org/2000/svg\" height=\"24px\"viewBox=\"0 0 24 24\"\n",
              "     width=\"24px\">\n",
              "    <g>\n",
              "        <path d=\"M19 3H5c-1.1 0-2 .9-2 2v14c0 1.1.9 2 2 2h14c1.1 0 2-.9 2-2V5c0-1.1-.9-2-2-2zM9 17H7v-7h2v7zm4 0h-2V7h2v10zm4 0h-2v-4h2v4z\"/>\n",
              "    </g>\n",
              "</svg>\n",
              "  </button>\n",
              "\n",
              "<style>\n",
              "  .colab-df-quickchart {\n",
              "      --bg-color: #E8F0FE;\n",
              "      --fill-color: #1967D2;\n",
              "      --hover-bg-color: #E2EBFA;\n",
              "      --hover-fill-color: #174EA6;\n",
              "      --disabled-fill-color: #AAA;\n",
              "      --disabled-bg-color: #DDD;\n",
              "  }\n",
              "\n",
              "  [theme=dark] .colab-df-quickchart {\n",
              "      --bg-color: #3B4455;\n",
              "      --fill-color: #D2E3FC;\n",
              "      --hover-bg-color: #434B5C;\n",
              "      --hover-fill-color: #FFFFFF;\n",
              "      --disabled-bg-color: #3B4455;\n",
              "      --disabled-fill-color: #666;\n",
              "  }\n",
              "\n",
              "  .colab-df-quickchart {\n",
              "    background-color: var(--bg-color);\n",
              "    border: none;\n",
              "    border-radius: 50%;\n",
              "    cursor: pointer;\n",
              "    display: none;\n",
              "    fill: var(--fill-color);\n",
              "    height: 32px;\n",
              "    padding: 0;\n",
              "    width: 32px;\n",
              "  }\n",
              "\n",
              "  .colab-df-quickchart:hover {\n",
              "    background-color: var(--hover-bg-color);\n",
              "    box-shadow: 0 1px 2px rgba(60, 64, 67, 0.3), 0 1px 3px 1px rgba(60, 64, 67, 0.15);\n",
              "    fill: var(--button-hover-fill-color);\n",
              "  }\n",
              "\n",
              "  .colab-df-quickchart-complete:disabled,\n",
              "  .colab-df-quickchart-complete:disabled:hover {\n",
              "    background-color: var(--disabled-bg-color);\n",
              "    fill: var(--disabled-fill-color);\n",
              "    box-shadow: none;\n",
              "  }\n",
              "\n",
              "  .colab-df-spinner {\n",
              "    border: 2px solid var(--fill-color);\n",
              "    border-color: transparent;\n",
              "    border-bottom-color: var(--fill-color);\n",
              "    animation:\n",
              "      spin 1s steps(1) infinite;\n",
              "  }\n",
              "\n",
              "  @keyframes spin {\n",
              "    0% {\n",
              "      border-color: transparent;\n",
              "      border-bottom-color: var(--fill-color);\n",
              "      border-left-color: var(--fill-color);\n",
              "    }\n",
              "    20% {\n",
              "      border-color: transparent;\n",
              "      border-left-color: var(--fill-color);\n",
              "      border-top-color: var(--fill-color);\n",
              "    }\n",
              "    30% {\n",
              "      border-color: transparent;\n",
              "      border-left-color: var(--fill-color);\n",
              "      border-top-color: var(--fill-color);\n",
              "      border-right-color: var(--fill-color);\n",
              "    }\n",
              "    40% {\n",
              "      border-color: transparent;\n",
              "      border-right-color: var(--fill-color);\n",
              "      border-top-color: var(--fill-color);\n",
              "    }\n",
              "    60% {\n",
              "      border-color: transparent;\n",
              "      border-right-color: var(--fill-color);\n",
              "    }\n",
              "    80% {\n",
              "      border-color: transparent;\n",
              "      border-right-color: var(--fill-color);\n",
              "      border-bottom-color: var(--fill-color);\n",
              "    }\n",
              "    90% {\n",
              "      border-color: transparent;\n",
              "      border-bottom-color: var(--fill-color);\n",
              "    }\n",
              "  }\n",
              "</style>\n",
              "\n",
              "  <script>\n",
              "    async function quickchart(key) {\n",
              "      const quickchartButtonEl =\n",
              "        document.querySelector('#' + key + ' button');\n",
              "      quickchartButtonEl.disabled = true;  // To prevent multiple clicks.\n",
              "      quickchartButtonEl.classList.add('colab-df-spinner');\n",
              "      try {\n",
              "        const charts = await google.colab.kernel.invokeFunction(\n",
              "            'suggestCharts', [key], {});\n",
              "      } catch (error) {\n",
              "        console.error('Error during call to suggestCharts:', error);\n",
              "      }\n",
              "      quickchartButtonEl.classList.remove('colab-df-spinner');\n",
              "      quickchartButtonEl.classList.add('colab-df-quickchart-complete');\n",
              "    }\n",
              "    (() => {\n",
              "      let quickchartButtonEl =\n",
              "        document.querySelector('#df-11a43635-a13b-4f90-b76d-b897d261fffb button');\n",
              "      quickchartButtonEl.style.display =\n",
              "        google.colab.kernel.accessAllowed ? 'block' : 'none';\n",
              "    })();\n",
              "  </script>\n",
              "</div>\n",
              "\n",
              "    </div>\n",
              "  </div>\n"
            ],
            "application/vnd.google.colaboratory.intrinsic+json": {
              "type": "dataframe",
              "summary": "{\n  \"name\": \"df_from_csv\",\n  \"rows\": 3000,\n  \"fields\": [\n    {\n      \"column\": \"population\",\n      \"properties\": {\n        \"dtype\": \"number\",\n        \"std\": 1030.5430124122424,\n        \"min\": 5.0,\n        \"max\": 11935.0,\n        \"num_unique_values\": 1802,\n        \"samples\": [\n          947.0,\n          1140.0,\n          2019.0\n        ],\n        \"semantic_type\": \"\",\n        \"description\": \"\"\n      }\n    }\n  ]\n}"
            }
          },
          "metadata": {},
          "execution_count": 95
        }
      ]
    },
    {
      "cell_type": "markdown",
      "id": "b0529acb-3b70-4be3-ac15-5da2bad724b1",
      "metadata": {
        "id": "b0529acb-3b70-4be3-ac15-5da2bad724b1"
      },
      "source": [
        "### From List to Tuples"
      ]
    },
    {
      "cell_type": "code",
      "execution_count": null,
      "id": "5b080497-6b15-4294-ac48-1c0fe4fe8705",
      "metadata": {
        "id": "5b080497-6b15-4294-ac48-1c0fe4fe8705",
        "outputId": "5431e598-c89a-4a87-abd1-1ffb443356cf"
      },
      "outputs": [
        {
          "name": "stdout",
          "output_type": "stream",
          "text": [
            "   Column_Name\n",
            "0            1\n",
            "1            2\n",
            "2            3\n",
            "3            4\n",
            "4            5\n"
          ]
        }
      ],
      "source": [
        "import numpy as np\n",
        "import pandas as pd\n",
        "\n",
        "# Create a NumPy array\n",
        "arr = np.array([1, 2, 3, 4, 5])\n",
        "\n",
        "# Convert NumPy array to pandas DataFrame\n",
        "df = pd.DataFrame(arr, columns=['Column_Name'])\n",
        "\n",
        "# Print the DataFrame\n",
        "print(df)\n"
      ]
    },
    {
      "cell_type": "markdown",
      "id": "58e7e836-1623-4a22-b920-4bda4ebd1d6b",
      "metadata": {
        "id": "58e7e836-1623-4a22-b920-4bda4ebd1d6b"
      },
      "source": [
        "### Using Built-in Functions"
      ]
    },
    {
      "cell_type": "markdown",
      "id": "f3cd66a0-aba8-47b9-b8ed-f56d6c092cb8",
      "metadata": {
        "id": "f3cd66a0-aba8-47b9-b8ed-f56d6c092cb8"
      },
      "source": [
        "### Creates a 3x3 array filled with zeros"
      ]
    },
    {
      "cell_type": "code",
      "execution_count": null,
      "id": "dce30697-59e0-40c3-a0c9-a915da3489e7",
      "metadata": {
        "id": "dce30697-59e0-40c3-a0c9-a915da3489e7",
        "outputId": "3c01c31c-0555-4317-be12-91a15dc79c3a"
      },
      "outputs": [
        {
          "name": "stdout",
          "output_type": "stream",
          "text": [
            "     0    1    2\n",
            "0  0.0  0.0  0.0\n",
            "1  0.0  0.0  0.0\n",
            "2  0.0  0.0  0.0\n"
          ]
        }
      ],
      "source": [
        "import numpy as np\n",
        "import pandas as pd\n",
        "\n",
        "# Create a NumPy array filled with zeros\n",
        "zeros_arr = np.zeros((3, 3))\n",
        "\n",
        "# Convert NumPy array to pandas DataFrame\n",
        "df = pd.DataFrame(zeros_arr)\n",
        "\n",
        "# Print the DataFrame\n",
        "print(df)\n"
      ]
    },
    {
      "cell_type": "markdown",
      "id": "d69ef4cb-3c9c-4f4a-b929-13902e88fbc6",
      "metadata": {
        "id": "d69ef4cb-3c9c-4f4a-b929-13902e88fbc6"
      },
      "source": [
        "### Creates a 2x2 array filled with ones"
      ]
    },
    {
      "cell_type": "code",
      "execution_count": null,
      "id": "3f3c62a0-62fe-49cc-acdc-8b896ae3f2d7",
      "metadata": {
        "id": "3f3c62a0-62fe-49cc-acdc-8b896ae3f2d7",
        "outputId": "72b55734-db6a-41e5-fd90-5d8a7a55c221"
      },
      "outputs": [
        {
          "name": "stdout",
          "output_type": "stream",
          "text": [
            "     0    1\n",
            "0  1.0  1.0\n",
            "1  1.0  1.0\n"
          ]
        }
      ],
      "source": [
        "import numpy as np\n",
        "import pandas as pd\n",
        "\n",
        "# Create a NumPy array filled with ones\n",
        "ones_arr = np.ones((2, 2))\n",
        "\n",
        "# Convert NumPy array to pandas DataFrame\n",
        "df = pd.DataFrame(ones_arr)\n",
        "\n",
        "# Print the DataFrame\n",
        "print(df)\n"
      ]
    },
    {
      "cell_type": "markdown",
      "id": "b570dd93-a5fa-45c5-94b5-3d24701b646c",
      "metadata": {
        "id": "b570dd93-a5fa-45c5-94b5-3d24701b646c"
      },
      "source": [
        "### np.arange() and np.linspace() are NumPy functions used to create arrays with a sequence of numbers."
      ]
    },
    {
      "cell_type": "markdown",
      "id": "52fd88b2-a29c-454b-bbf5-e6a504334b69",
      "metadata": {
        "id": "52fd88b2-a29c-454b-bbf5-e6a504334b69"
      },
      "source": [
        "### np.arange()"
      ]
    },
    {
      "cell_type": "code",
      "execution_count": null,
      "id": "f5948257-be17-4ad7-8333-beb6e2ea8cd7",
      "metadata": {
        "id": "f5948257-be17-4ad7-8333-beb6e2ea8cd7",
        "outputId": "0daf44b9-aac3-4a84-9c9f-6c4af30fd1f9"
      },
      "outputs": [
        {
          "name": "stdout",
          "output_type": "stream",
          "text": [
            "Array from arange:\n",
            "[0 2 4 6 8]\n"
          ]
        }
      ],
      "source": [
        "import numpy as np\n",
        "\n",
        "# Create array using arange\n",
        "arr = np.arange(0, 10, 2)  # Creates an array [0, 2, 4, 6, 8]\n",
        "\n",
        "# Print the array\n",
        "print(\"Array from arange:\")\n",
        "print(arr)\n"
      ]
    },
    {
      "cell_type": "markdown",
      "id": "b53b0e1f-6c1a-4949-9591-9d00335bba25",
      "metadata": {
        "id": "b53b0e1f-6c1a-4949-9591-9d00335bba25"
      },
      "source": [
        "### np.linspace()"
      ]
    },
    {
      "cell_type": "code",
      "execution_count": null,
      "id": "bf22e4bd-7d7d-47c1-99cf-14d4149b4a63",
      "metadata": {
        "id": "bf22e4bd-7d7d-47c1-99cf-14d4149b4a63",
        "outputId": "ee058a29-7fca-4afe-8885-899f52926ea8"
      },
      "outputs": [
        {
          "name": "stdout",
          "output_type": "stream",
          "text": [
            "Array from linspace:\n",
            "[0.   0.25 0.5  0.75 1.  ]\n"
          ]
        }
      ],
      "source": [
        "import numpy as np\n",
        "\n",
        "# Create array using linspace\n",
        "lin_arr = np.linspace(0, 1, 5)  # Creates an array [0.  , 0.25, 0.5 , 0.75, 1.  ]\n",
        "\n",
        "# Print the array\n",
        "print(\"Array from linspace:\")\n",
        "print(lin_arr)\n"
      ]
    },
    {
      "cell_type": "markdown",
      "id": "beeeb54a-7a90-47b1-aafb-f8ad351ceaae",
      "metadata": {
        "id": "beeeb54a-7a90-47b1-aafb-f8ad351ceaae"
      },
      "source": [
        "### Random Arrays - Random arrays are arrays whose elements are generated randomly."
      ]
    },
    {
      "cell_type": "markdown",
      "id": "8d53b4b3-e0ba-4d01-9f9a-6d32bcba31cf",
      "metadata": {
        "id": "8d53b4b3-e0ba-4d01-9f9a-6d32bcba31cf"
      },
      "source": [
        "### Creates a 3x3 array with random values between 0 and 1"
      ]
    },
    {
      "cell_type": "code",
      "execution_count": null,
      "id": "07dd0092-2f51-4174-a1cd-7a5babb63dda",
      "metadata": {
        "id": "07dd0092-2f51-4174-a1cd-7a5babb63dda",
        "outputId": "963eb417-b305-495d-d56a-f6516a1b3ff7"
      },
      "outputs": [
        {
          "name": "stdout",
          "output_type": "stream",
          "text": [
            "[[0.57936543 0.53831709 0.14070349]\n",
            " [0.02399519 0.46628355 0.48844001]\n",
            " [0.71512733 0.02199874 0.36509733]]\n"
          ]
        }
      ],
      "source": [
        "import numpy as np\n",
        "\n",
        "# Create a 3x3 array with random values between 0 and 1\n",
        "rand_arr = np.random.rand(3, 3)\n",
        "\n",
        "# Print the random array\n",
        "print(rand_arr)\n"
      ]
    },
    {
      "cell_type": "markdown",
      "id": "7ef04a6b-064a-44b0-9dee-22b221b8e1a0",
      "metadata": {
        "id": "7ef04a6b-064a-44b0-9dee-22b221b8e1a0"
      },
      "source": [
        "### Using Dimension to generate N-dimensional arrays"
      ]
    },
    {
      "cell_type": "code",
      "execution_count": null,
      "id": "2ec7eaa8-f980-471e-a22f-78720b52cd03",
      "metadata": {
        "id": "2ec7eaa8-f980-471e-a22f-78720b52cd03",
        "outputId": "e6ec8ce2-4f63-4536-a888-997f2d3e0a7d"
      },
      "outputs": [
        {
          "name": "stdout",
          "output_type": "stream",
          "text": [
            "[[1 2 3 4]]\n"
          ]
        }
      ],
      "source": [
        "import numpy as np\n",
        "\n",
        "# Create a 2-dimensional array with specified dimensions\n",
        "arr = np.array([1, 2, 3, 4], ndmin=2)\n",
        "\n",
        "# Print the array\n",
        "print(arr)"
      ]
    },
    {
      "cell_type": "markdown",
      "id": "b2c7446c-a582-4e0a-b254-d30bfb00c1b7",
      "metadata": {
        "id": "b2c7446c-a582-4e0a-b254-d30bfb00c1b7"
      },
      "source": [
        "### The reshape() method in NumPy allows you to change the shape of an array"
      ]
    },
    {
      "cell_type": "code",
      "execution_count": null,
      "id": "0cf5529c-1c90-4f5e-aaf1-ca737b17563e",
      "metadata": {
        "id": "0cf5529c-1c90-4f5e-aaf1-ca737b17563e",
        "outputId": "abf7be77-5032-4cda-8325-5d2140ca4d2d"
      },
      "outputs": [
        {
          "name": "stdout",
          "output_type": "stream",
          "text": [
            "[[1 2]\n",
            " [3 4]]\n"
          ]
        }
      ],
      "source": [
        "import numpy as np\n",
        "\n",
        "# Create a 2-dimensional array with specified dimensions\n",
        "arr = np.array([1, 2, 3, 4], ndmin=2)\n",
        "\n",
        "# Reshape the array to a 2x2 shape\n",
        "reshaped_arr = arr.reshape((2, 2))\n",
        "\n",
        "# Print the reshaped array\n",
        "print(reshaped_arr)\n"
      ]
    },
    {
      "cell_type": "markdown",
      "id": "e47b61c9-e1ce-4499-a15d-7431d436b426",
      "metadata": {
        "id": "e47b61c9-e1ce-4499-a15d-7431d436b426"
      },
      "source": [
        "###  You can check the type of the array object using the type() function in Python."
      ]
    },
    {
      "cell_type": "code",
      "execution_count": null,
      "id": "35974ea2-c87a-47d3-bf58-39f8b1b75623",
      "metadata": {
        "id": "35974ea2-c87a-47d3-bf58-39f8b1b75623",
        "outputId": "c71577bf-63f5-4467-da0f-f20a96c1e5c4"
      },
      "outputs": [
        {
          "name": "stdout",
          "output_type": "stream",
          "text": [
            "<class 'numpy.ndarray'>\n"
          ]
        }
      ],
      "source": [
        "import numpy as np\n",
        "\n",
        "# Create a 2-dimensional array with specified dimensions\n",
        "arr = np.array([1, 2, 3, 4], ndmin=2)\n",
        "\n",
        "# Print the type of the array object\n",
        "print(type(arr))\n"
      ]
    },
    {
      "cell_type": "markdown",
      "id": "b64d2018-8c99-4080-b6c9-be30c6c074ff",
      "metadata": {
        "id": "b64d2018-8c99-4080-b6c9-be30c6c074ff"
      },
      "source": [
        "### You can use the shape attribute of a NumPy array to check its dimensions."
      ]
    },
    {
      "cell_type": "code",
      "execution_count": null,
      "id": "cbcdf928-5164-4c80-871c-38d4b96e6d68",
      "metadata": {
        "id": "cbcdf928-5164-4c80-871c-38d4b96e6d68",
        "outputId": "047002e8-1d1b-4fa3-aaae-f995d37421d2"
      },
      "outputs": [
        {
          "name": "stdout",
          "output_type": "stream",
          "text": [
            "(1, 4)\n"
          ]
        }
      ],
      "source": [
        "import numpy as np\n",
        "\n",
        "# Create a 2-dimensional array with specified dimensions\n",
        "arr = np.array([1, 2, 3, 4], ndmin=2)\n",
        "\n",
        "# Print the shape of the array\n",
        "print(arr.shape)\n"
      ]
    },
    {
      "cell_type": "markdown",
      "id": "ee8ea253-dccb-4188-9668-3973b63254f4",
      "metadata": {
        "id": "ee8ea253-dccb-4188-9668-3973b63254f4"
      },
      "source": [
        "### You can use the ndim attribute of a NumPy array to check its number of dimensions."
      ]
    },
    {
      "cell_type": "code",
      "execution_count": null,
      "id": "62fc9462-dab7-4cb8-9188-172699a9cbcd",
      "metadata": {
        "id": "62fc9462-dab7-4cb8-9188-172699a9cbcd",
        "outputId": "4f04ea40-cc7e-446f-bc53-e206a5476170"
      },
      "outputs": [
        {
          "name": "stdout",
          "output_type": "stream",
          "text": [
            "2\n"
          ]
        }
      ],
      "source": [
        "import numpy as np\n",
        "\n",
        "# Create a 2-dimensional array with specified dimensions\n",
        "arr = np.array([1, 2, 3, 4], ndmin=2)\n",
        "\n",
        "# Print the number of dimensions of the array\n",
        "print(arr.ndim)\n"
      ]
    },
    {
      "cell_type": "markdown",
      "id": "d04584ab-43fa-48d4-b0ac-a457f77a82a5",
      "metadata": {
        "id": "d04584ab-43fa-48d4-b0ac-a457f77a82a5"
      },
      "source": [
        "### Data Types in NumPy"
      ]
    },
    {
      "cell_type": "markdown",
      "id": "9283f636-0020-4ba8-ad33-3852b4d05e69",
      "metadata": {
        "id": "9283f636-0020-4ba8-ad33-3852b4d05e69"
      },
      "source": [
        "### Strings are sequences of characters, such as letters, numbers, symbols, or spaces, enclosed within single quotes (') or double quotes (\")."
      ]
    },
    {
      "cell_type": "code",
      "execution_count": null,
      "id": "814ede5b-94fb-4ab2-87b3-dd09f27c35ad",
      "metadata": {
        "id": "814ede5b-94fb-4ab2-87b3-dd09f27c35ad",
        "outputId": "a93cc5b2-07b3-4102-cad6-daf12efa60b0"
      },
      "outputs": [
        {
          "name": "stdout",
          "output_type": "stream",
          "text": [
            "String array: ['ABC' 'DEF']\n"
          ]
        }
      ],
      "source": [
        "import numpy as np\n",
        "\n",
        "# Create a NumPy array of strings\n",
        "str_arr = np.array(['ABC', 'DEF'], dtype=np.str_)\n",
        "\n",
        "# Print the array\n",
        "print(\"String array:\", str_arr)\n"
      ]
    },
    {
      "cell_type": "markdown",
      "id": "034b8788-d311-4d49-aafa-981debeddc57",
      "metadata": {
        "id": "034b8788-d311-4d49-aafa-981debeddc57"
      },
      "source": [
        "### Integers are whole numbers, positive or negative, without any decimal point."
      ]
    },
    {
      "cell_type": "code",
      "execution_count": null,
      "id": "42f2a89b-be91-45e9-8b77-59d41b28532c",
      "metadata": {
        "id": "42f2a89b-be91-45e9-8b77-59d41b28532c",
        "outputId": "d76afb54-0c0a-4d7c-8856-9b96b3d5bf41"
      },
      "outputs": [
        {
          "name": "stdout",
          "output_type": "stream",
          "text": [
            "Integer array: [1 2 3]\n"
          ]
        }
      ],
      "source": [
        "import numpy as np\n",
        "\n",
        "# Create a NumPy array of integers\n",
        "int_arr = np.array([1, 2, 3], dtype=np.int64)\n",
        "\n",
        "# Print the array\n",
        "print(\"Integer array:\", int_arr)\n"
      ]
    },
    {
      "cell_type": "markdown",
      "id": "d99b559f-473c-403c-99a5-6d6279b56958",
      "metadata": {
        "id": "d99b559f-473c-403c-99a5-6d6279b56958"
      },
      "source": [
        "### Floats (floating-point numbers) are numbers that have a decimal point or use exponential (scientific) notation. They can represent both integer and fractional parts of numbers."
      ]
    },
    {
      "cell_type": "code",
      "execution_count": null,
      "id": "b2ac8360-cc38-4508-b302-cd7eb913edb9",
      "metadata": {
        "id": "b2ac8360-cc38-4508-b302-cd7eb913edb9",
        "outputId": "0a0561f4-9d24-4c66-b64b-754c8dcc94a0"
      },
      "outputs": [
        {
          "name": "stdout",
          "output_type": "stream",
          "text": [
            "Float array: [5.98 3.14]\n"
          ]
        }
      ],
      "source": [
        "import numpy as np\n",
        "\n",
        "# Create a NumPy array of floats\n",
        "float_arr = np.array([5.98, 3.14], dtype=np.float64)\n",
        "\n",
        "# Print the array\n",
        "print(\"Float array:\", float_arr)\n"
      ]
    },
    {
      "cell_type": "markdown",
      "id": "d3e1c6af-6d39-4a97-812a-69d5c41b4792",
      "metadata": {
        "id": "d3e1c6af-6d39-4a97-812a-69d5c41b4792"
      },
      "source": [
        "### Booleans are a data type that represents one of two possible values: True or False."
      ]
    },
    {
      "cell_type": "code",
      "execution_count": null,
      "id": "c535323c-e4e2-466f-a715-b07717d4ea05",
      "metadata": {
        "id": "c535323c-e4e2-466f-a715-b07717d4ea05",
        "outputId": "6db5df5b-eb73-4b7f-be0d-abec51933a85"
      },
      "outputs": [
        {
          "name": "stdout",
          "output_type": "stream",
          "text": [
            "Boolean array: [ True False  True]\n"
          ]
        }
      ],
      "source": [
        "import numpy as np\n",
        "\n",
        "# Create a NumPy array of booleans\n",
        "bool_arr = np.array([True, False, True], dtype=np.bool_)\n",
        "\n",
        "# Print the array\n",
        "print(\"Boolean array:\", bool_arr)\n"
      ]
    },
    {
      "cell_type": "markdown",
      "id": "3af913fd-041f-4096-9bf5-9ca2a547312a",
      "metadata": {
        "id": "3af913fd-041f-4096-9bf5-9ca2a547312a"
      },
      "source": [
        "### Complex numbers consist of a real part and an imaginary part, where the imaginary part is represented by the letter j or J."
      ]
    },
    {
      "cell_type": "code",
      "execution_count": null,
      "id": "306e97aa-8e0b-424d-956c-ddcb48ae62b0",
      "metadata": {
        "id": "306e97aa-8e0b-424d-956c-ddcb48ae62b0",
        "outputId": "f1fdd3d0-ba91-48fa-b5df-19f57ae537f4"
      },
      "outputs": [
        {
          "name": "stdout",
          "output_type": "stream",
          "text": [
            "Complex array: [1.+2.j 3.+4.j]\n"
          ]
        }
      ],
      "source": [
        "import numpy as np\n",
        "\n",
        "# Create a NumPy array of complex numbers\n",
        "complex_arr = np.array([1.0 + 2.0j, 3.0 + 4.0j], dtype=np.complex128)\n",
        "\n",
        "# Print the array\n",
        "print(\"Complex array:\", complex_arr)\n"
      ]
    },
    {
      "cell_type": "markdown",
      "id": "a0f6eb7d-d1e8-48da-8477-b368f435559f",
      "metadata": {
        "id": "a0f6eb7d-d1e8-48da-8477-b368f435559f"
      },
      "source": [
        "### Creating NumPy arrays with specific data types using the dtype parameter."
      ]
    },
    {
      "cell_type": "markdown",
      "id": "0ee4b0d5-fea7-484c-b946-311f0363520a",
      "metadata": {
        "id": "0ee4b0d5-fea7-484c-b946-311f0363520a"
      },
      "source": [
        "### Creating an array of integers without specifying the data type:"
      ]
    },
    {
      "cell_type": "code",
      "execution_count": null,
      "id": "04d017b6-1b4e-4923-b215-e8104515fe89",
      "metadata": {
        "id": "04d017b6-1b4e-4923-b215-e8104515fe89",
        "outputId": "856eb57d-a519-43af-9e37-7b1fa253f390"
      },
      "outputs": [
        {
          "name": "stdout",
          "output_type": "stream",
          "text": [
            "int32\n"
          ]
        }
      ],
      "source": [
        "arr = np.array([1, 2, 3, 4])\n",
        "print(arr.dtype)  # int32\n"
      ]
    },
    {
      "cell_type": "markdown",
      "id": "3480d405-2380-472d-8731-214541f90751",
      "metadata": {
        "id": "3480d405-2380-472d-8731-214541f90751"
      },
      "source": [
        "### Creating an array of strings with a specific data type ('S' for strings):"
      ]
    },
    {
      "cell_type": "code",
      "execution_count": null,
      "id": "36f1d384-0ecf-4472-9628-8a5582eddcb3",
      "metadata": {
        "id": "36f1d384-0ecf-4472-9628-8a5582eddcb3",
        "outputId": "b7771415-dfd5-4bf1-eaab-1282cee47784"
      },
      "outputs": [
        {
          "name": "stdout",
          "output_type": "stream",
          "text": [
            "|S6\n"
          ]
        }
      ],
      "source": [
        "arr = np.array(['dogs', 'cats', 'horses'], dtype='S')\n",
        "print(arr.dtype)  # |S6\n"
      ]
    },
    {
      "cell_type": "markdown",
      "id": "03959b82-f270-4ca4-9069-5ccdfb4cc15e",
      "metadata": {
        "id": "03959b82-f270-4ca4-9069-5ccdfb4cc15e"
      },
      "source": [
        "# Indexing and Slicing NumPy Arrays\n"
      ]
    },
    {
      "cell_type": "markdown",
      "id": "97afc0b4-d07b-4816-b7fb-b039c8dd388f",
      "metadata": {
        "id": "97afc0b4-d07b-4816-b7fb-b039c8dd388f"
      },
      "source": [
        "### NumPy arrays can be accessed and sliced similar to Python lists, with the additional ability to index and slice in multiple dimensions for multi-dimensional arrays.\n"
      ]
    },
    {
      "cell_type": "markdown",
      "id": "2fef7f0d-98c0-4cb3-890d-9c15a65154c2",
      "metadata": {
        "id": "2fef7f0d-98c0-4cb3-890d-9c15a65154c2"
      },
      "source": [
        "### Create a Numpy Array"
      ]
    },
    {
      "cell_type": "code",
      "execution_count": null,
      "id": "2e7ea082-3385-458e-8441-923f9a13596a",
      "metadata": {
        "id": "2e7ea082-3385-458e-8441-923f9a13596a"
      },
      "outputs": [],
      "source": [
        "import numpy as np\n",
        "\n",
        "arr = np.array([[1, 2, 3], [4, 5, 6], [7, 8, 9]])"
      ]
    },
    {
      "cell_type": "markdown",
      "id": "02890b58-7ef8-40c2-9726-0175186c84e7",
      "metadata": {
        "id": "02890b58-7ef8-40c2-9726-0175186c84e7"
      },
      "source": [
        "### Accessing elements"
      ]
    },
    {
      "cell_type": "code",
      "execution_count": null,
      "id": "f25a31cf-885b-4571-b0d2-4895f2c56c16",
      "metadata": {
        "id": "f25a31cf-885b-4571-b0d2-4895f2c56c16",
        "outputId": "4c18961d-8c85-4dee-9655-f7932460192e"
      },
      "outputs": [
        {
          "name": "stdout",
          "output_type": "stream",
          "text": [
            "Element at first row and second column: 2\n"
          ]
        }
      ],
      "source": [
        "element = arr[0, 1]  # Accessing the element at the first row and second column\n",
        "print(\"Element at first row and second column:\", element)"
      ]
    },
    {
      "cell_type": "markdown",
      "id": "3880fac0-75f2-4964-aba2-0562532d22c3",
      "metadata": {
        "id": "3880fac0-75f2-4964-aba2-0562532d22c3"
      },
      "source": [
        "### Slicing Rows"
      ]
    },
    {
      "cell_type": "code",
      "execution_count": null,
      "id": "68c4e316-3b40-48e3-b002-90d8ac51e669",
      "metadata": {
        "id": "68c4e316-3b40-48e3-b002-90d8ac51e669",
        "outputId": "26466507-b319-402f-aa19-0ed267ac49be"
      },
      "outputs": [
        {
          "name": "stdout",
          "output_type": "stream",
          "text": [
            "Second row: [4 5 6]\n"
          ]
        }
      ],
      "source": [
        "slice_row = arr[1, :]  # Slicing the second row\n",
        "print(\"Second row:\", slice_row)"
      ]
    },
    {
      "cell_type": "markdown",
      "id": "8de71573-a75c-4515-9ac9-268b02e2d4f9",
      "metadata": {
        "id": "8de71573-a75c-4515-9ac9-268b02e2d4f9"
      },
      "source": [
        "### Slicing Columns\n"
      ]
    },
    {
      "cell_type": "code",
      "execution_count": null,
      "id": "5c2e14f5-380e-4217-9b35-f9eaae9aa7ad",
      "metadata": {
        "id": "5c2e14f5-380e-4217-9b35-f9eaae9aa7ad",
        "outputId": "8f166033-9e66-4d24-c8ab-f74d79e6e602"
      },
      "outputs": [
        {
          "name": "stdout",
          "output_type": "stream",
          "text": [
            "Third column: [3 6 9]\n"
          ]
        }
      ],
      "source": [
        "slice_column = arr[:, 2]  # Slicing the third column\n",
        "print(\"Third column:\", slice_column)"
      ]
    },
    {
      "cell_type": "markdown",
      "id": "91c51d44-5c3e-45aa-92de-7d08f29eb938",
      "metadata": {
        "id": "91c51d44-5c3e-45aa-92de-7d08f29eb938"
      },
      "source": [
        "### Advanced indexing with boolean masking"
      ]
    },
    {
      "cell_type": "code",
      "execution_count": null,
      "id": "c3b1b5db-f770-4603-9673-f3ca5046709e",
      "metadata": {
        "id": "c3b1b5db-f770-4603-9673-f3ca5046709e",
        "outputId": "a831762c-b1b2-4f0b-b083-75797d44d979"
      },
      "outputs": [
        {
          "name": "stdout",
          "output_type": "stream",
          "text": [
            "Boolean mask for values greater than 5:\n",
            " [[False False False]\n",
            " [False False  True]\n",
            " [ True  True  True]]\n",
            "Values greater than 5:\n",
            " [6 7 8 9]\n"
          ]
        }
      ],
      "source": [
        "mask = arr > 5  # Creating a boolean mask for values greater than 5\n",
        "filtered = arr[mask]  # Getting values greater than 5\n",
        "print(\"Boolean mask for values greater than 5:\\n\", mask)\n",
        "print(\"Values greater than 5:\\n\", filtered)"
      ]
    },
    {
      "cell_type": "markdown",
      "id": "c6aa4431-2aa0-42b3-967a-ab5ac8840dff",
      "metadata": {
        "id": "c6aa4431-2aa0-42b3-967a-ab5ac8840dff"
      },
      "source": [
        "### Create the following rank 2 array with shape (3, 4)\n"
      ]
    },
    {
      "cell_type": "code",
      "execution_count": null,
      "id": "3432b37f-f746-4338-9763-6859cec0bd5c",
      "metadata": {
        "id": "3432b37f-f746-4338-9763-6859cec0bd5c",
        "outputId": "781e2d90-aeb9-4f31-c7e0-237375228e8e"
      },
      "outputs": [
        {
          "name": "stdout",
          "output_type": "stream",
          "text": [
            "[[ 1  2  3  4]\n",
            " [ 5  6  7  8]\n",
            " [ 9 10 11 12]]\n"
          ]
        }
      ],
      "source": [
        "import numpy as np\n",
        "\n",
        "# Given NumPy array\n",
        "a = np.array([[1, 2, 3, 4],\n",
        "              [5, 6, 7, 8],\n",
        "              [9, 10, 11, 12]])\n",
        "\n",
        "# Print the array\n",
        "print(a)\n"
      ]
    },
    {
      "cell_type": "markdown",
      "id": "e1c98abf-ba4e-41a7-bfb2-bc7e9b107004",
      "metadata": {
        "id": "e1c98abf-ba4e-41a7-bfb2-bc7e9b107004"
      },
      "source": [
        "### Use slicing to pull out the subarray consisting of the first 2 rows and columns 1 and 2; b is the following array of shape (2, 2):\n"
      ]
    },
    {
      "cell_type": "code",
      "execution_count": null,
      "id": "16b4b4e2-1e87-4066-9b90-d92ebe74cab7",
      "metadata": {
        "id": "16b4b4e2-1e87-4066-9b90-d92ebe74cab7",
        "outputId": "0b9431c6-df72-4475-fe7c-20d79bbae1ee"
      },
      "outputs": [
        {
          "name": "stdout",
          "output_type": "stream",
          "text": [
            "Sliced array b:\n",
            "[[2 3]\n",
            " [6 7]]\n"
          ]
        }
      ],
      "source": [
        "import numpy as np\n",
        "\n",
        "# Given NumPy array\n",
        "a = np.array([[1, 2, 3, 4],\n",
        "              [5, 6, 7, 8],\n",
        "              [9, 10, 11, 12]])\n",
        "\n",
        "# Slicing the array\n",
        "b = a[:2, 1:3]\n",
        "\n",
        "# Print the sliced array\n",
        "print(\"Sliced array b:\")\n",
        "print(b)\n"
      ]
    },
    {
      "cell_type": "markdown",
      "id": "d9e94117-f383-4b62-955f-0079c03e206c",
      "metadata": {
        "id": "d9e94117-f383-4b62-955f-0079c03e206c"
      },
      "source": [
        "### A slice of an array is a view into the same data, so modifying it will modify the original array.\n"
      ]
    },
    {
      "cell_type": "code",
      "execution_count": null,
      "id": "a472f78b-5e9d-4842-8e26-542a209a1d2d",
      "metadata": {
        "id": "a472f78b-5e9d-4842-8e26-542a209a1d2d",
        "outputId": "8bb48b79-c22d-4b07-b742-0bc9d9e486cc"
      },
      "outputs": [
        {
          "name": "stdout",
          "output_type": "stream",
          "text": [
            "Element of a[0, 1]: 2\n",
            "Modified element of a[0, 1]: 77\n"
          ]
        }
      ],
      "source": [
        "import numpy as np\n",
        "\n",
        "# Given NumPy array\n",
        "a = np.array([[1, 2, 3, 4],\n",
        "              [5, 6, 7, 8],\n",
        "              [9, 10, 11, 12]])\n",
        "\n",
        "# Slicing the array\n",
        "b = a[:2, 1:3]\n",
        "\n",
        "# Print element of a\n",
        "print(\"Element of a[0, 1]:\", a[0, 1])   # Prints \"2\"\n",
        "\n",
        "# Modify element of b\n",
        "b[0, 0] = 77     # b[0, 0] is the same piece of data as a[0, 1]\n",
        "\n",
        "# Print modified element of a\n",
        "print(\"Modified element of a[0, 1]:\", a[0, 1])   # Prints \"77\"\n"
      ]
    },
    {
      "cell_type": "markdown",
      "id": "9219d6cf-e9e3-44e9-8890-5835c11d1b46",
      "metadata": {
        "id": "9219d6cf-e9e3-44e9-8890-5835c11d1b46"
      },
      "source": [
        "# Numpy Operations"
      ]
    },
    {
      "cell_type": "markdown",
      "id": "88a948e7-feeb-4e2e-be67-3488ac269edd",
      "metadata": {
        "id": "88a948e7-feeb-4e2e-be67-3488ac269edd"
      },
      "source": [
        "### NumPy arrays support a wide range of operations, including arithmetic, statistical, and more. These operations are performed element-wise.\n"
      ]
    },
    {
      "cell_type": "markdown",
      "id": "96b0c594-c58e-41c2-99cb-a3f638e86c13",
      "metadata": {
        "id": "96b0c594-c58e-41c2-99cb-a3f638e86c13"
      },
      "source": [
        "### Element-wise arithmetic operations - In element-wise operations, corresponding elements of the input structures are operated on together to produce an output structure of the same shape.\n"
      ]
    },
    {
      "cell_type": "code",
      "execution_count": null,
      "id": "f2c703a6-447c-4053-b9f7-2d04fe95207c",
      "metadata": {
        "id": "f2c703a6-447c-4053-b9f7-2d04fe95207c"
      },
      "outputs": [],
      "source": [
        "import numpy as np\n",
        "\n",
        "# Given NumPy arrays\n",
        "arr1 = np.array([1, 2, 3])  # Define the first NumPy array\n",
        "arr2 = np.array([4, 5, 6])  # Define the second NumPy array\n",
        "\n"
      ]
    },
    {
      "cell_type": "markdown",
      "id": "a7962760-d524-4226-9137-e7e573ab87d4",
      "metadata": {
        "id": "a7962760-d524-4226-9137-e7e573ab87d4"
      },
      "source": [
        "### Element-wise Addition:It refers to the process of adding corresponding elements of two arrays, matrices, or vectors together to produce a new array, matrix, or vector of the same shape."
      ]
    },
    {
      "cell_type": "code",
      "execution_count": null,
      "id": "9ca2528b-411b-4b13-86f8-227c47d9f55d",
      "metadata": {
        "id": "9ca2528b-411b-4b13-86f8-227c47d9f55d",
        "outputId": "c6d73754-d02d-44cb-eab4-c3d8e85062b6"
      },
      "outputs": [
        {
          "name": "stdout",
          "output_type": "stream",
          "text": [
            "Element-wise addition: [5 7 9]\n"
          ]
        }
      ],
      "source": [
        "addition = arr1 + arr2  # Perform element-wise addition\n",
        "print(\"Element-wise addition:\", addition)  # Print the result of addition\n"
      ]
    },
    {
      "cell_type": "markdown",
      "id": "b95d2463-83f7-46f0-bb3b-347666ef76bd",
      "metadata": {
        "id": "b95d2463-83f7-46f0-bb3b-347666ef76bd"
      },
      "source": [
        "### Element-wise Subtraction:It is similar to element-wise addition, but instead of adding corresponding elements, it involves subtracting them."
      ]
    },
    {
      "cell_type": "code",
      "execution_count": null,
      "id": "57131ac2-ef8f-49d2-b0c9-45a176116f1f",
      "metadata": {
        "id": "57131ac2-ef8f-49d2-b0c9-45a176116f1f",
        "outputId": "c7b6b61c-7ffd-44f6-ab83-96b5e6e0eeff"
      },
      "outputs": [
        {
          "name": "stdout",
          "output_type": "stream",
          "text": [
            "Element-wise subtraction: [-3 -3 -3]\n"
          ]
        }
      ],
      "source": [
        "subtraction = arr1 - arr2  # Perform element-wise subtraction\n",
        "print(\"Element-wise subtraction:\", subtraction)  # Print the result of subtraction\n"
      ]
    },
    {
      "cell_type": "markdown",
      "id": "51344f53-3fd0-4352-8a2d-05625118466b",
      "metadata": {
        "id": "51344f53-3fd0-4352-8a2d-05625118466b"
      },
      "source": [
        "### Element-wise Multiplication: It is a mathematical operation in which corresponding elements of two arrays, matrices, or vectors are multiplied together to produce a new array, matrix, or vector of the same shape."
      ]
    },
    {
      "cell_type": "code",
      "execution_count": null,
      "id": "f62f399c-8424-46e4-8196-2f49781fcab1",
      "metadata": {
        "id": "f62f399c-8424-46e4-8196-2f49781fcab1",
        "outputId": "e463c65a-136c-4082-d8e6-130efe125154"
      },
      "outputs": [
        {
          "name": "stdout",
          "output_type": "stream",
          "text": [
            "Element-wise multiplication: [ 4 10 18]\n"
          ]
        }
      ],
      "source": [
        "multiplication = arr1 * arr2  # Perform element-wise multiplication\n",
        "print(\"Element-wise multiplication:\", multiplication)  # Print the result of multiplication\n"
      ]
    },
    {
      "cell_type": "markdown",
      "id": "5402ec5c-a7d7-4784-8299-624ca66ff570",
      "metadata": {
        "id": "5402ec5c-a7d7-4784-8299-624ca66ff570"
      },
      "source": [
        "### Element-wise Division: It is a mathematical operation where corresponding elements of one array, matrix, or vector are divided by corresponding elements of another array, matrix, or vector, resulting in a new array, matrix, or vector of the same shape."
      ]
    },
    {
      "cell_type": "code",
      "execution_count": null,
      "id": "c41e4487-38b9-4dfa-aa8f-661adfff13fd",
      "metadata": {
        "id": "c41e4487-38b9-4dfa-aa8f-661adfff13fd",
        "outputId": "bf2c01fd-bee1-45f0-ba49-3518cbbfdab1"
      },
      "outputs": [
        {
          "name": "stdout",
          "output_type": "stream",
          "text": [
            "Element-wise division: [0.25 0.4  0.5 ]\n"
          ]
        }
      ],
      "source": [
        "division = arr1 / arr2  # Perform element-wise division\n",
        "print(\"Element-wise division:\", division)  # Print the result of division\n"
      ]
    },
    {
      "cell_type": "markdown",
      "id": "cc65a8df-db42-439d-8ce6-ab52d5ae9be7",
      "metadata": {
        "id": "cc65a8df-db42-439d-8ce6-ab52d5ae9be7"
      },
      "source": [
        "### Statistical operations\n"
      ]
    },
    {
      "cell_type": "markdown",
      "id": "e218e2c4-0ced-4b4e-b239-b2ae32798a5a",
      "metadata": {
        "id": "e218e2c4-0ced-4b4e-b239-b2ae32798a5a"
      },
      "source": [
        "### Statistical operations refer to various mathematical procedures used to analyze, interpret, summarize, and draw conclusions from data."
      ]
    },
    {
      "cell_type": "code",
      "execution_count": null,
      "id": "c4dce558-09b8-4cb6-80fd-be9cc5313805",
      "metadata": {
        "id": "c4dce558-09b8-4cb6-80fd-be9cc5313805",
        "outputId": "45486314-4ecd-4910-e1fa-d65e60495f56"
      },
      "outputs": [
        {
          "name": "stdout",
          "output_type": "stream",
          "text": [
            "Mean of arr1: 2.0\n",
            "Standard deviation of arr2: 0.816496580927726\n"
          ]
        }
      ],
      "source": [
        "import numpy as np\n",
        "\n",
        "# Given NumPy arrays\n",
        "arr1 = np.array([1, 2, 3])  # Define the first NumPy array\n",
        "arr2 = np.array([4, 5, 6])  # Define the second NumPy array\n",
        "\n",
        "# Calculate mean and standard deviation\n",
        "mean_arr1 = np.mean(arr1)  # Calculate the mean of arr1\n",
        "std_dev_arr2 = np.std(arr2)  # Calculate the standard deviation of arr2\n",
        "\n",
        "# Print results\n",
        "print(\"Mean of arr1:\", mean_arr1)  # Print the mean of arr1\n",
        "print(\"Standard deviation of arr2:\", std_dev_arr2)  # Print the standard deviation of arr2\n"
      ]
    },
    {
      "cell_type": "markdown",
      "id": "88f994de-b566-467a-8dba-759abf2daa7f",
      "metadata": {
        "id": "88f994de-b566-467a-8dba-759abf2daa7f"
      },
      "source": [
        "### Geometric Operations"
      ]
    },
    {
      "cell_type": "markdown",
      "id": "238ae1bd-88d4-45ca-92d2-7b5d82720469",
      "metadata": {
        "id": "238ae1bd-88d4-45ca-92d2-7b5d82720469"
      },
      "source": [
        "### Exponentiation: Raises each element of the array to the power of Euler's number."
      ]
    },
    {
      "cell_type": "code",
      "execution_count": null,
      "id": "4aeef844-3903-43c9-a8d7-2f484bf2c7d8",
      "metadata": {
        "id": "4aeef844-3903-43c9-a8d7-2f484bf2c7d8",
        "outputId": "3a41b23d-9da6-42df-ccbd-2f31a51d827f"
      },
      "outputs": [
        {
          "name": "stdout",
          "output_type": "stream",
          "text": [
            "Exponentiation of arr1: [ 2.71828183  7.3890561  20.08553692]\n"
          ]
        }
      ],
      "source": [
        "import numpy as np\n",
        "\n",
        "arr1 = np.array([1, 2, 3])  # Define the input array\n",
        "result_exp = np.exp(arr1)   # Compute element-wise exponentiation\n",
        "print(\"Exponentiation of arr1:\", result_exp)\n"
      ]
    },
    {
      "cell_type": "markdown",
      "id": "9ea74606-2491-497c-a7c6-846172d79b9f",
      "metadata": {
        "id": "9ea74606-2491-497c-a7c6-846172d79b9f"
      },
      "source": [
        "### Square Root: Computes the square root of each element in the array."
      ]
    },
    {
      "cell_type": "code",
      "execution_count": null,
      "id": "07b5b56c-eca3-4475-a3b3-f63c1434a80b",
      "metadata": {
        "id": "07b5b56c-eca3-4475-a3b3-f63c1434a80b",
        "outputId": "c088cc47-cb3a-4c4d-f7e4-148286ec0f71"
      },
      "outputs": [
        {
          "name": "stdout",
          "output_type": "stream",
          "text": [
            "Square root of arr1: [2. 3. 4.]\n"
          ]
        }
      ],
      "source": [
        "import numpy as np\n",
        "\n",
        "arr1 = np.array([4, 9, 16])  # Define the input array\n",
        "result_sqrt = np.sqrt(arr1)  # Compute element-wise square root\n",
        "print(\"Square root of arr1:\", result_sqrt)\n"
      ]
    },
    {
      "cell_type": "markdown",
      "id": "c1cb2610-944a-4d29-8488-26124b9e7182",
      "metadata": {
        "id": "c1cb2610-944a-4d29-8488-26124b9e7182"
      },
      "source": [
        "### Sine: Computes the sine of each element in the array treated as angles in radians."
      ]
    },
    {
      "cell_type": "code",
      "execution_count": null,
      "id": "7193b03c-4643-4947-9eae-94b897d68774",
      "metadata": {
        "id": "7193b03c-4643-4947-9eae-94b897d68774",
        "outputId": "7f06d630-b373-422f-b869-a73dd38765a9"
      },
      "outputs": [
        {
          "name": "stdout",
          "output_type": "stream",
          "text": [
            "Sine of arr1: [0.0000000e+00 1.0000000e+00 1.2246468e-16]\n"
          ]
        }
      ],
      "source": [
        "import numpy as np\n",
        "\n",
        "arr1 = np.array([0, np.pi/2, np.pi])  # Define the input array (angles in radians)\n",
        "result_sin = np.sin(arr1)             # Compute element-wise sine\n",
        "print(\"Sine of arr1:\", result_sin)\n"
      ]
    },
    {
      "cell_type": "markdown",
      "id": "57fd9b7d-54cb-4580-acdb-edbe3080548a",
      "metadata": {
        "id": "57fd9b7d-54cb-4580-acdb-edbe3080548a"
      },
      "source": [
        "### Cosine: Computes the cosine of each element in the array treated as angles in radians."
      ]
    },
    {
      "cell_type": "code",
      "execution_count": null,
      "id": "f6da076a-d82b-429e-b850-9a3a9a08a9e3",
      "metadata": {
        "id": "f6da076a-d82b-429e-b850-9a3a9a08a9e3",
        "outputId": "d4990b4b-6ea3-48c7-8882-6787353b6057"
      },
      "outputs": [
        {
          "name": "stdout",
          "output_type": "stream",
          "text": [
            "Cosine of arr1: [ 1.000000e+00  6.123234e-17 -1.000000e+00]\n"
          ]
        }
      ],
      "source": [
        "import numpy as np\n",
        "\n",
        "arr1 = np.array([0, np.pi/2, np.pi])  # Define the input array (angles in radians)\n",
        "result_cos = np.cos(arr1)             # Compute element-wise cosine\n",
        "print(\"Cosine of arr1:\", result_cos)\n"
      ]
    },
    {
      "cell_type": "markdown",
      "id": "54c71ea0-b5c1-4d33-8f6f-24522f713907",
      "metadata": {
        "id": "54c71ea0-b5c1-4d33-8f6f-24522f713907"
      },
      "source": [
        "### Natural Logarithm: Computes the natural logarithm (base e) of each element in the array."
      ]
    },
    {
      "cell_type": "code",
      "execution_count": null,
      "id": "d489e2e7-85be-430c-ae60-6cd265cbb583",
      "metadata": {
        "id": "d489e2e7-85be-430c-ae60-6cd265cbb583",
        "outputId": "42882a05-6749-47c8-f894-0bceb07965dd"
      },
      "outputs": [
        {
          "name": "stdout",
          "output_type": "stream",
          "text": [
            "Natural logarithm of arr1: [0.         0.69314718 1.09861229]\n"
          ]
        }
      ],
      "source": [
        "import numpy as np\n",
        "\n",
        "arr1 = np.array([1, 2, 3])  # Define the input array\n",
        "result_log = np.log(arr1)   # Compute element-wise natural logarithm\n",
        "print(\"Natural logarithm of arr1:\", result_log)\n"
      ]
    },
    {
      "cell_type": "markdown",
      "id": "ea9359f8-933f-4435-92b9-e9baf5a13592",
      "metadata": {
        "id": "ea9359f8-933f-4435-92b9-e9baf5a13592"
      },
      "source": [
        "### Aggregate Functions"
      ]
    },
    {
      "cell_type": "markdown",
      "id": "8824bb79-fc11-4296-8f0d-233583862624",
      "metadata": {
        "id": "8824bb79-fc11-4296-8f0d-233583862624"
      },
      "source": [
        "### Sum: Computes the sum of all elements in the array."
      ]
    },
    {
      "cell_type": "code",
      "execution_count": null,
      "id": "d9883d50-1d08-483b-b072-7f7900ef9803",
      "metadata": {
        "id": "d9883d50-1d08-483b-b072-7f7900ef9803",
        "outputId": "f0549e98-21a2-4db1-851c-a1574599158b"
      },
      "outputs": [
        {
          "name": "stdout",
          "output_type": "stream",
          "text": [
            "Sum of arr1: 15\n"
          ]
        }
      ],
      "source": [
        "import numpy as np\n",
        "\n",
        "arr1 = np.array([1, 2, 3, 4, 5])  # Define the input array\n",
        "\n",
        "# Sum of all elements in the array\n",
        "sum_result = arr1.sum()\n",
        "print(\"Sum of arr1:\", sum_result)"
      ]
    },
    {
      "cell_type": "markdown",
      "id": "6623c0b2-b628-4735-a264-6a01fc1e2cb1",
      "metadata": {
        "id": "6623c0b2-b628-4735-a264-6a01fc1e2cb1"
      },
      "source": [
        "### Minimum: Finds the minimum value among all elements in the array."
      ]
    },
    {
      "cell_type": "code",
      "execution_count": null,
      "id": "6174d01b-e0ba-46bb-be7c-ae15f9b8837c",
      "metadata": {
        "id": "6174d01b-e0ba-46bb-be7c-ae15f9b8837c",
        "outputId": "7b78b78b-23a1-4d0d-d609-41966d238d57"
      },
      "outputs": [
        {
          "name": "stdout",
          "output_type": "stream",
          "text": [
            "Minimum value in arr1: 1\n"
          ]
        }
      ],
      "source": [
        "import numpy as np\n",
        "\n",
        "arr1 = np.array([1, 2, 3, 4, 5])  # Define the input array\n",
        "\n",
        "# Minimum value among all elements in the array\n",
        "min_result = arr1.min()\n",
        "print(\"Minimum value in arr1:\", min_result)"
      ]
    },
    {
      "cell_type": "markdown",
      "id": "9a5332a9-9a58-4711-8325-90e9e636d679",
      "metadata": {
        "id": "9a5332a9-9a58-4711-8325-90e9e636d679"
      },
      "source": [
        "### Maximum: Finds the maximum value among all elements in the array."
      ]
    },
    {
      "cell_type": "code",
      "execution_count": null,
      "id": "babf3344-afaa-44ab-99ef-0421e43fa6db",
      "metadata": {
        "id": "babf3344-afaa-44ab-99ef-0421e43fa6db",
        "outputId": "89301232-4259-4e25-9042-fbd2d582bcd8"
      },
      "outputs": [
        {
          "name": "stdout",
          "output_type": "stream",
          "text": [
            "Maximum value in arr1: 5\n"
          ]
        }
      ],
      "source": [
        "import numpy as np\n",
        "arr1 = np.array([1, 2, 3, 4, 5])  # Define the input array\n",
        "\n",
        "# Maximum value among all elements in the array\n",
        "max_result = arr1.max()\n",
        "print(\"Maximum value in arr1:\", max_result)"
      ]
    },
    {
      "cell_type": "markdown",
      "id": "bf80fa22-4723-4db4-b609-c70176694983",
      "metadata": {
        "id": "bf80fa22-4723-4db4-b609-c70176694983"
      },
      "source": [
        "# Panda Series"
      ]
    },
    {
      "cell_type": "markdown",
      "id": "ba18dd5a-abfe-4336-a3cf-18e029a5ae26",
      "metadata": {
        "id": "ba18dd5a-abfe-4336-a3cf-18e029a5ae26"
      },
      "source": [
        "### Pandas is a Python library for data manipulation and analysis, offering data structures like Series and DataFrame for handling structured data efficiently,"
      ]
    },
    {
      "cell_type": "markdown",
      "id": "01226702-ee59-448b-8152-444bd9831069",
      "metadata": {
        "id": "01226702-ee59-448b-8152-444bd9831069"
      },
      "source": [
        "### creating a pandas series"
      ]
    },
    {
      "cell_type": "code",
      "execution_count": null,
      "id": "f03fff28-1aa7-457a-9033-ff8739edcc36",
      "metadata": {
        "id": "f03fff28-1aa7-457a-9033-ff8739edcc36"
      },
      "outputs": [],
      "source": [
        "  import pandas as pd\n",
        "\n",
        "# Creating a Series from a list\n",
        "data = [10, 20, 30, 40, 50]\n",
        "series_from_list = pd.Series(data)\n"
      ]
    },
    {
      "cell_type": "code",
      "execution_count": null,
      "id": "e692218e-0986-4028-a7d0-4c114d8ebb9f",
      "metadata": {
        "id": "e692218e-0986-4028-a7d0-4c114d8ebb9f"
      },
      "outputs": [],
      "source": [
        "import pandas as pd\n",
        "import numpy as np\n",
        "\n",
        "# Creating a Series from a NumPy array\n",
        "numpy_array = np.array([1, 2, 3, 4, 5])\n",
        "series_from_numpy = pd.Series(numpy_array)\n"
      ]
    },
    {
      "cell_type": "code",
      "execution_count": null,
      "id": "d834b183-6f59-49b1-8dc9-fb33d8f1b749",
      "metadata": {
        "id": "d834b183-6f59-49b1-8dc9-fb33d8f1b749"
      },
      "outputs": [],
      "source": [
        "import pandas as pd\n",
        "\n",
        "# Creating a Series with custom index labels\n",
        "data = [10, 20, 30, 40, 50]\n",
        "custom_index = pd.Series(data, index=['A', 'B', 'C', 'D', 'E'])\n"
      ]
    },
    {
      "cell_type": "markdown",
      "id": "7aafd262-9948-4c49-b949-e206fa61fb7f",
      "metadata": {
        "id": "7aafd262-9948-4c49-b949-e206fa61fb7f"
      },
      "source": [
        "### Accessing elements by position (zero-based index)"
      ]
    },
    {
      "cell_type": "markdown",
      "id": "0a491031-c195-4094-b061-8b223df08e87",
      "metadata": {
        "id": "0a491031-c195-4094-b061-8b223df08e87"
      },
      "source": [
        "This operation retrieves an element from a pandas Series based on its position, which follows a zero-based index (the first element has index 0, the second has index 1, and so on)."
      ]
    },
    {
      "cell_type": "code",
      "execution_count": null,
      "id": "e19ed6d7-25f2-4d43-b1be-a7bff5ebf229",
      "metadata": {
        "id": "e19ed6d7-25f2-4d43-b1be-a7bff5ebf229",
        "outputId": "88ea2938-fe8b-498e-cf4a-769177c6e094"
      },
      "outputs": [
        {
          "name": "stdout",
          "output_type": "stream",
          "text": [
            "Element at position 2: 30\n"
          ]
        }
      ],
      "source": [
        "# Example:\n",
        "element_at_position_2 = series_from_list[2]\n",
        "print(\"Element at position 2:\", element_at_position_2)\n"
      ]
    },
    {
      "cell_type": "markdown",
      "id": "cce11382-1fcb-4ec0-ab9d-db22daab65c3",
      "metadata": {
        "id": "cce11382-1fcb-4ec0-ab9d-db22daab65c3"
      },
      "source": [
        "### Accessing elements by label"
      ]
    },
    {
      "cell_type": "markdown",
      "id": "d05e8c11-42d3-4b83-9944-b51cbca0ff21",
      "metadata": {
        "id": "d05e8c11-42d3-4b83-9944-b51cbca0ff21"
      },
      "source": [
        " - This operation retrieves an element from a pandas Series based on its label.\n",
        " - When you create a Series with custom index labels, you can access elements using these labels."
      ]
    },
    {
      "cell_type": "code",
      "execution_count": null,
      "id": "277ea9cf-ccd6-4dba-bbdb-7788ef7a23a6",
      "metadata": {
        "id": "277ea9cf-ccd6-4dba-bbdb-7788ef7a23a6",
        "outputId": "418ac6b4-866b-4d35-cd86-033b446ecc6f"
      },
      "outputs": [
        {
          "name": "stdout",
          "output_type": "stream",
          "text": [
            "Element with label 'B': 20\n"
          ]
        }
      ],
      "source": [
        "# Example:\n",
        "element_with_label_B = custom_index['B']\n",
        "print(\"Element with label 'B':\", element_with_label_B)\n"
      ]
    },
    {
      "cell_type": "markdown",
      "id": "3cff7d19-e03a-48dc-949c-c7e43cbc0565",
      "metadata": {
        "id": "3cff7d19-e03a-48dc-949c-c7e43cbc0565"
      },
      "source": [
        "### Slicing a series"
      ]
    },
    {
      "cell_type": "markdown",
      "id": "82ce208e-565b-4fa0-b032-b4ec34942f9d",
      "metadata": {
        "id": "82ce208e-565b-4fa0-b032-b4ec34942f9d"
      },
      "source": [
        "Slicing allows you to select a subset of elements from a Series based on their positions."
      ]
    },
    {
      "cell_type": "code",
      "execution_count": null,
      "id": "d32f7143-f3cf-42cf-a6e6-d278d285aa19",
      "metadata": {
        "id": "d32f7143-f3cf-42cf-a6e6-d278d285aa19",
        "outputId": "3a15894f-e5e4-4b9a-a77f-8cfb23ec35bc"
      },
      "outputs": [
        {
          "name": "stdout",
          "output_type": "stream",
          "text": [
            "Slice of series_from_list: 1    20\n",
            "2    30\n",
            "3    40\n",
            "dtype: int64\n"
          ]
        }
      ],
      "source": [
        "# Example:\n",
        "slice_series = series_from_list[1:4]\n",
        "print(\"Slice of series_from_list:\", slice_series)\n"
      ]
    },
    {
      "cell_type": "markdown",
      "id": "79440d45-72a8-4f79-a95d-12e1e9159699",
      "metadata": {
        "id": "79440d45-72a8-4f79-a95d-12e1e9159699"
      },
      "source": [
        "# Creating Pandas DataFrame"
      ]
    },
    {
      "cell_type": "markdown",
      "id": "2fbd7bdb-7bec-4263-95e8-5903e671c75c",
      "metadata": {
        "id": "2fbd7bdb-7bec-4263-95e8-5903e671c75c"
      },
      "source": [
        "### Creating a DataFrame from a dictionary"
      ]
    },
    {
      "cell_type": "code",
      "execution_count": null,
      "id": "44e46093-1a63-463f-8704-563c835109d3",
      "metadata": {
        "id": "44e46093-1a63-463f-8704-563c835109d3",
        "outputId": "e1a1be0f-c4f9-418f-a30a-e900feb22554"
      },
      "outputs": [
        {
          "name": "stdout",
          "output_type": "stream",
          "text": [
            "DataFrame created from dictionary:\n",
            "      Name  Age\n",
            "0    Alice   25\n",
            "1      Bob   30\n",
            "2  Charlie   35\n"
          ]
        }
      ],
      "source": [
        "import pandas as pd\n",
        "\n",
        "# Creating a DataFrame from a dictionary\n",
        "data = {'Name': ['Alice', 'Bob', 'Charlie'],\n",
        "        'Age': [25, 30, 35]}\n",
        "df_from_dict = pd.DataFrame(data)\n",
        "\n",
        "# Print the DataFrame\n",
        "print(\"DataFrame created from dictionary:\")\n",
        "print(df_from_dict)\n",
        "\n"
      ]
    },
    {
      "cell_type": "markdown",
      "id": "acdccc1c-e1bc-4b76-854e-84c4551a488a",
      "metadata": {
        "id": "acdccc1c-e1bc-4b76-854e-84c4551a488a"
      },
      "source": [
        "### Creating a DataFrame from a list of lists with custom column names\n"
      ]
    },
    {
      "cell_type": "code",
      "execution_count": null,
      "id": "4449b851-05af-40eb-aaed-c5c518af8cb8",
      "metadata": {
        "id": "4449b851-05af-40eb-aaed-c5c518af8cb8",
        "outputId": "6d905f17-2ea1-49cd-d4c2-b5b5ee065496"
      },
      "outputs": [
        {
          "name": "stdout",
          "output_type": "stream",
          "text": [
            "DataFrame created from list of lists with custom column names:\n",
            "      Name  Age\n",
            "0    Alice   25\n",
            "1      Bob   30\n",
            "2  Charlie   35\n"
          ]
        }
      ],
      "source": [
        "import pandas as pd\n",
        "\n",
        "# Creating a DataFrame from a list of lists with custom column names\n",
        "data_list = [['Alice', 25], ['Bob', 30], ['Charlie', 35]]\n",
        "df_from_list = pd.DataFrame(data_list, columns=['Name', 'Age'])\n",
        "\n",
        "# Print the DataFrame\n",
        "print(\"DataFrame created from list of lists with custom column names:\")\n",
        "print(df_from_list)\n"
      ]
    },
    {
      "cell_type": "markdown",
      "id": "a95e5722-170d-42a4-8b40-d9cb7fd5e1f7",
      "metadata": {
        "id": "a95e5722-170d-42a4-8b40-d9cb7fd5e1f7"
      },
      "source": [
        "### Creating a DataFrame from a CSV file\n"
      ]
    },
    {
      "cell_type": "code",
      "execution_count": null,
      "id": "7573ba8a-a435-4551-8e59-73acb2156106",
      "metadata": {
        "id": "7573ba8a-a435-4551-8e59-73acb2156106",
        "outputId": "d8760bb2-7b99-4594-e16b-bd83270295b4"
      },
      "outputs": [
        {
          "name": "stdout",
          "output_type": "stream",
          "text": [
            "DataFrame created from CSV file:\n",
            "    Index      Customer Id First Name Last Name  \\\n",
            "0       1  DD37Cf93aecA6Dc     Sheryl    Baxter   \n",
            "1       2  1Ef7b82A4CAAD10    Preston    Lozano   \n",
            "2       3  6F94879bDAfE5a6        Roy     Berry   \n",
            "3       4  5Cef8BFA16c5e3c      Linda     Olsen   \n",
            "4       5  053d585Ab6b3159     Joanna    Bender   \n",
            "..    ...              ...        ...       ...   \n",
            "95     96  cb8E23e48d22Eae       Karl     Greer   \n",
            "96     97  CeD220bdAaCfaDf       Lynn  Atkinson   \n",
            "97     98  28CDbC0dFe4b1Db       Fred    Guerra   \n",
            "98     99  c23d1D9EE8DEB0A     Yvonne    Farmer   \n",
            "99    100  2354a0E336A91A1   Clarence    Haynes   \n",
            "\n",
            "                            Company               City  \\\n",
            "0                   Rasmussen Group       East Leonard   \n",
            "1                       Vega-Gentry  East Jimmychester   \n",
            "2                     Murillo-Perry      Isabelborough   \n",
            "3   Dominguez, Mcmillan and Donovan         Bensonview   \n",
            "4          Martin, Lang and Andrade     West Priscilla   \n",
            "..                              ...                ...   \n",
            "95                        Carey LLC       East Richard   \n",
            "96            Ware, Burns and Oneal       New Bradview   \n",
            "97                    Schmitt-Jones         Ortegaland   \n",
            "98               Fitzgerald-Harrell    Lake Elijahview   \n",
            "99               Le, Nash and Cross          Judymouth   \n",
            "\n",
            "                       Country                 Phone 1  \\\n",
            "0                        Chile            229.077.5154   \n",
            "1                     Djibouti              5153435776   \n",
            "2          Antigua and Barbuda         +1-539-402-0259   \n",
            "3           Dominican Republic  001-808-617-6467x12895   \n",
            "4   Slovakia (Slovak Republic)  001-234-203-0635x76146   \n",
            "..                         ...                     ...   \n",
            "95                      Guyana     (188)169-1674x58692   \n",
            "96                   Sri Lanka         +1-846-706-2218   \n",
            "97             Solomon Islands    +1-753-067-8419x7170   \n",
            "98                       Aruba           (530)311-9786   \n",
            "99                    Honduras           (753)813-6941   \n",
            "\n",
            "                   Phone 2                           Email Subscription Date  \\\n",
            "0         397.884.0519x718        zunigavanessa@smith.info        2020-08-24   \n",
            "1         686-620-1820x944                 vmata@colon.com        2021-04-23   \n",
            "2      (496)978-3969x58947             beckycarr@hogan.com        2020-03-25   \n",
            "3          +1-813-324-8756     stanleyblackwell@benson.org        2020-06-02   \n",
            "4    001-199-446-3860x3486         colinalvarado@miles.net        2021-04-17   \n",
            "..                     ...                             ...               ...   \n",
            "95    001-841-293-3519x614                hhart@jensen.com        2022-01-30   \n",
            "96            605.413.3198               vkemp@ferrell.com        2021-07-10   \n",
            "97   +1-632-666-7507x92121                swagner@kane.org        2021-09-18   \n",
            "98  001-869-452-0943x12424  mccarthystephen@horn-green.biz        2021-08-11   \n",
            "99            783.639.1472          colleen91@faulkner.biz        2020-03-11   \n",
            "\n",
            "                              Website  \n",
            "0          http://www.stephenson.com/  \n",
            "1               http://www.hobbs.com/  \n",
            "2            http://www.lawrence.com/  \n",
            "3          http://www.good-lyons.com/  \n",
            "4         https://goodwin-ingram.com/  \n",
            "..                                ...  \n",
            "95            http://hayes-perez.com/  \n",
            "96         https://novak-allison.com/  \n",
            "97              https://www.ross.com/  \n",
            "98               http://watkins.info/  \n",
            "99  http://www.hatfield-saunders.net/  \n",
            "\n",
            "[100 rows x 12 columns]\n"
          ]
        }
      ],
      "source": [
        "import pandas as pd\n",
        "\n",
        "# Creating a DataFrame from a CSV file\n",
        "df_from_csv = pd.read_csv('data.csv')\n",
        "\n",
        "# Print the DataFrame\n",
        "print(\"DataFrame created from CSV file:\")\n",
        "print(df_from_csv)\n"
      ]
    },
    {
      "cell_type": "markdown",
      "id": "0200eca6-0abc-4e5d-b33c-cb3dac16a59c",
      "metadata": {
        "id": "0200eca6-0abc-4e5d-b33c-cb3dac16a59c"
      },
      "source": [
        "### Creating an empty DataFrame\n"
      ]
    },
    {
      "cell_type": "code",
      "execution_count": null,
      "id": "12c7197e-ca16-470c-89ed-0c3f276609e6",
      "metadata": {
        "id": "12c7197e-ca16-470c-89ed-0c3f276609e6",
        "outputId": "a4a3feec-4ce4-4123-9d1b-fe95a9fbc32a"
      },
      "outputs": [
        {
          "name": "stdout",
          "output_type": "stream",
          "text": [
            "Empty DataFrame:\n",
            "Empty DataFrame\n",
            "Columns: []\n",
            "Index: []\n"
          ]
        }
      ],
      "source": [
        "import pandas as pd\n",
        "\n",
        "# Creating an empty DataFrame\n",
        "empty_df = pd.DataFrame()\n",
        "\n",
        "# Print the empty DataFrame\n",
        "print(\"Empty DataFrame:\")\n",
        "print(empty_df)\n"
      ]
    },
    {
      "cell_type": "markdown",
      "id": "3ccc6145-5503-43b6-b292-e01a2e1374cc",
      "metadata": {
        "id": "3ccc6145-5503-43b6-b292-e01a2e1374cc"
      },
      "source": [
        "# Indexing a Pandas DataFrame"
      ]
    },
    {
      "cell_type": "markdown",
      "id": "09671603-6e97-4d1e-93cd-0a8d1b34b604",
      "metadata": {
        "id": "09671603-6e97-4d1e-93cd-0a8d1b34b604"
      },
      "source": [
        "### DataFrames allow for various methods of indexing, including selecting columns, filtering rows, and more.\n"
      ]
    },
    {
      "cell_type": "markdown",
      "id": "a3a5b96a-e9c4-47de-8362-1fc0fab123a7",
      "metadata": {
        "id": "a3a5b96a-e9c4-47de-8362-1fc0fab123a7"
      },
      "source": [
        "### Selecting a single column\n"
      ]
    },
    {
      "cell_type": "code",
      "execution_count": null,
      "id": "a48cbf0d-0ece-4fed-8b62-a4245528121a",
      "metadata": {
        "id": "a48cbf0d-0ece-4fed-8b62-a4245528121a",
        "outputId": "cbfe799e-7ea0-4f3b-8fe3-fd88ee27534e"
      },
      "outputs": [
        {
          "name": "stdout",
          "output_type": "stream",
          "text": [
            "0      Alice\n",
            "1        Bob\n",
            "2    Charlie\n",
            "Name: Name, dtype: object\n"
          ]
        }
      ],
      "source": [
        "# Selecting a single column\n",
        "name_column = df_from_dict['Name']\n",
        "print(name_column)\n"
      ]
    },
    {
      "cell_type": "markdown",
      "id": "430b01b8-48bc-4c14-a215-369b7b976b43",
      "metadata": {
        "id": "430b01b8-48bc-4c14-a215-369b7b976b43"
      },
      "source": [
        "###  Selecting multiple columns\n"
      ]
    },
    {
      "cell_type": "code",
      "execution_count": null,
      "id": "0ec6e34c-0ec0-4216-81d9-2d58e213704f",
      "metadata": {
        "id": "0ec6e34c-0ec0-4216-81d9-2d58e213704f",
        "outputId": "8ba9bf66-5768-4309-b1bc-984b1dfdcd25"
      },
      "outputs": [
        {
          "name": "stdout",
          "output_type": "stream",
          "text": [
            "      Name  Age\n",
            "0    Alice   25\n",
            "1      Bob   30\n",
            "2  Charlie   35\n"
          ]
        }
      ],
      "source": [
        "# Selecting multiple columns\n",
        "subset = df_from_dict[['Name', 'Age']]\n",
        "print(subset)\n"
      ]
    },
    {
      "cell_type": "markdown",
      "id": "54815ac7-8e18-41e0-90a1-b3deb29cfab3",
      "metadata": {
        "id": "54815ac7-8e18-41e0-90a1-b3deb29cfab3"
      },
      "source": [
        "### Filtering Rows based on a condition"
      ]
    },
    {
      "cell_type": "code",
      "execution_count": null,
      "id": "6f287cef-c70d-46e6-bbb0-73bc727adceb",
      "metadata": {
        "id": "6f287cef-c70d-46e6-bbb0-73bc727adceb",
        "outputId": "2ec12676-092f-4697-aedb-35ef0b16e0ec"
      },
      "outputs": [
        {
          "name": "stdout",
          "output_type": "stream",
          "text": [
            "    Name  Age\n",
            "0  Alice   25\n"
          ]
        }
      ],
      "source": [
        "# Filtering rows based on a condition\n",
        "young_people = df_from_dict[df_from_dict['Age'] < 30]\n",
        "print(young_people)\n"
      ]
    },
    {
      "cell_type": "markdown",
      "id": "50538b89-9dd6-437d-a837-02c7a69ae1f1",
      "metadata": {
        "id": "50538b89-9dd6-437d-a837-02c7a69ae1f1"
      },
      "source": [
        "### Accessing a specific cell by row and column label\n"
      ]
    },
    {
      "cell_type": "code",
      "execution_count": null,
      "id": "759d8076-e2c8-4410-af62-6adaf86466f7",
      "metadata": {
        "id": "759d8076-e2c8-4410-af62-6adaf86466f7",
        "outputId": "43081b1b-ba86-4f3e-f32d-d3ddfc7dfe00"
      },
      "outputs": [
        {
          "name": "stdout",
          "output_type": "stream",
          "text": [
            "Value at cell (row 0, column 'Name'): Alice\n"
          ]
        }
      ],
      "source": [
        "# Accessing a specific cell by row and column label\n",
        "cell_value = df_from_dict.at[0, 'Name']\n",
        "print(\"Value at cell (row 0, column 'Name'):\", cell_value)\n",
        "\n"
      ]
    },
    {
      "cell_type": "markdown",
      "id": "1f4bf0e0-5d7f-4e01-907d-896af12b656b",
      "metadata": {
        "id": "1f4bf0e0-5d7f-4e01-907d-896af12b656b"
      },
      "source": [
        "# Loading Data from files\n"
      ]
    },
    {
      "cell_type": "markdown",
      "id": "7731cd56-c36a-477e-9b1f-8eca7389da31",
      "metadata": {
        "id": "7731cd56-c36a-477e-9b1f-8eca7389da31"
      },
      "source": [
        "### SQL Databases - You can connect to SQL databases and retrieve data using Pandas.\n"
      ]
    },
    {
      "cell_type": "code",
      "execution_count": null,
      "id": "05618a44-98f7-4ecc-9f1b-22b2f585c445",
      "metadata": {
        "id": "05618a44-98f7-4ecc-9f1b-22b2f585c445"
      },
      "outputs": [],
      "source": [
        "from sqlalchemy import create_engine"
      ]
    },
    {
      "cell_type": "code",
      "execution_count": null,
      "id": "9179d615-aa9d-4dc5-890a-77ea5cc0eced",
      "metadata": {
        "id": "9179d615-aa9d-4dc5-890a-77ea5cc0eced"
      },
      "outputs": [],
      "source": [
        "# Create a database connection\n",
        "engine = create_engine('sqlite:///database.db')"
      ]
    },
    {
      "cell_type": "code",
      "execution_count": null,
      "id": "a42f09f6-7a27-40e7-9e2d-286035b0b742",
      "metadata": {
        "id": "a42f09f6-7a27-40e7-9e2d-286035b0b742"
      },
      "outputs": [],
      "source": [
        "data_from_sql = pd.read_sql_query('SELECT * FROM tracks', engine)"
      ]
    },
    {
      "cell_type": "code",
      "execution_count": null,
      "id": "5ee0eb59-6e05-4e8c-9fbd-2bc32ce8a14f",
      "metadata": {
        "id": "5ee0eb59-6e05-4e8c-9fbd-2bc32ce8a14f",
        "outputId": "e5308d8f-c4b4-4a35-aaf9-1ac941f9acf2"
      },
      "outputs": [
        {
          "data": {
            "text/html": [
              "<div>\n",
              "<style scoped>\n",
              "    .dataframe tbody tr th:only-of-type {\n",
              "        vertical-align: middle;\n",
              "    }\n",
              "\n",
              "    .dataframe tbody tr th {\n",
              "        vertical-align: top;\n",
              "    }\n",
              "\n",
              "    .dataframe thead th {\n",
              "        text-align: right;\n",
              "    }\n",
              "</style>\n",
              "<table border=\"1\" class=\"dataframe\">\n",
              "  <thead>\n",
              "    <tr style=\"text-align: right;\">\n",
              "      <th></th>\n",
              "      <th>TrackId</th>\n",
              "      <th>Name</th>\n",
              "      <th>AlbumId</th>\n",
              "      <th>MediaTypeId</th>\n",
              "      <th>GenreId</th>\n",
              "      <th>Composer</th>\n",
              "      <th>Milliseconds</th>\n",
              "      <th>Bytes</th>\n",
              "      <th>UnitPrice</th>\n",
              "    </tr>\n",
              "  </thead>\n",
              "  <tbody>\n",
              "    <tr>\n",
              "      <th>0</th>\n",
              "      <td>1</td>\n",
              "      <td>For Those About To Rock (We Salute You)</td>\n",
              "      <td>1</td>\n",
              "      <td>1</td>\n",
              "      <td>1</td>\n",
              "      <td>Angus Young, Malcolm Young, Brian Johnson</td>\n",
              "      <td>343719</td>\n",
              "      <td>11170334</td>\n",
              "      <td>0.99</td>\n",
              "    </tr>\n",
              "    <tr>\n",
              "      <th>1</th>\n",
              "      <td>2</td>\n",
              "      <td>Balls to the Wall</td>\n",
              "      <td>2</td>\n",
              "      <td>2</td>\n",
              "      <td>1</td>\n",
              "      <td>None</td>\n",
              "      <td>342562</td>\n",
              "      <td>5510424</td>\n",
              "      <td>0.99</td>\n",
              "    </tr>\n",
              "    <tr>\n",
              "      <th>2</th>\n",
              "      <td>3</td>\n",
              "      <td>Fast As a Shark</td>\n",
              "      <td>3</td>\n",
              "      <td>2</td>\n",
              "      <td>1</td>\n",
              "      <td>F. Baltes, S. Kaufman, U. Dirkscneider &amp; W. Ho...</td>\n",
              "      <td>230619</td>\n",
              "      <td>3990994</td>\n",
              "      <td>0.99</td>\n",
              "    </tr>\n",
              "    <tr>\n",
              "      <th>3</th>\n",
              "      <td>4</td>\n",
              "      <td>Restless and Wild</td>\n",
              "      <td>3</td>\n",
              "      <td>2</td>\n",
              "      <td>1</td>\n",
              "      <td>F. Baltes, R.A. Smith-Diesel, S. Kaufman, U. D...</td>\n",
              "      <td>252051</td>\n",
              "      <td>4331779</td>\n",
              "      <td>0.99</td>\n",
              "    </tr>\n",
              "    <tr>\n",
              "      <th>4</th>\n",
              "      <td>5</td>\n",
              "      <td>Princess of the Dawn</td>\n",
              "      <td>3</td>\n",
              "      <td>2</td>\n",
              "      <td>1</td>\n",
              "      <td>Deaffy &amp; R.A. Smith-Diesel</td>\n",
              "      <td>375418</td>\n",
              "      <td>6290521</td>\n",
              "      <td>0.99</td>\n",
              "    </tr>\n",
              "    <tr>\n",
              "      <th>...</th>\n",
              "      <td>...</td>\n",
              "      <td>...</td>\n",
              "      <td>...</td>\n",
              "      <td>...</td>\n",
              "      <td>...</td>\n",
              "      <td>...</td>\n",
              "      <td>...</td>\n",
              "      <td>...</td>\n",
              "      <td>...</td>\n",
              "    </tr>\n",
              "    <tr>\n",
              "      <th>3498</th>\n",
              "      <td>3499</td>\n",
              "      <td>Pini Di Roma (Pinien Von Rom) \\ I Pini Della V...</td>\n",
              "      <td>343</td>\n",
              "      <td>2</td>\n",
              "      <td>24</td>\n",
              "      <td>None</td>\n",
              "      <td>286741</td>\n",
              "      <td>4718950</td>\n",
              "      <td>0.99</td>\n",
              "    </tr>\n",
              "    <tr>\n",
              "      <th>3499</th>\n",
              "      <td>3500</td>\n",
              "      <td>String Quartet No. 12 in C Minor, D. 703 \"Quar...</td>\n",
              "      <td>344</td>\n",
              "      <td>2</td>\n",
              "      <td>24</td>\n",
              "      <td>Franz Schubert</td>\n",
              "      <td>139200</td>\n",
              "      <td>2283131</td>\n",
              "      <td>0.99</td>\n",
              "    </tr>\n",
              "    <tr>\n",
              "      <th>3500</th>\n",
              "      <td>3501</td>\n",
              "      <td>L'orfeo, Act 3, Sinfonia (Orchestra)</td>\n",
              "      <td>345</td>\n",
              "      <td>2</td>\n",
              "      <td>24</td>\n",
              "      <td>Claudio Monteverdi</td>\n",
              "      <td>66639</td>\n",
              "      <td>1189062</td>\n",
              "      <td>0.99</td>\n",
              "    </tr>\n",
              "    <tr>\n",
              "      <th>3501</th>\n",
              "      <td>3502</td>\n",
              "      <td>Quintet for Horn, Violin, 2 Violas, and Cello ...</td>\n",
              "      <td>346</td>\n",
              "      <td>2</td>\n",
              "      <td>24</td>\n",
              "      <td>Wolfgang Amadeus Mozart</td>\n",
              "      <td>221331</td>\n",
              "      <td>3665114</td>\n",
              "      <td>0.99</td>\n",
              "    </tr>\n",
              "    <tr>\n",
              "      <th>3502</th>\n",
              "      <td>3503</td>\n",
              "      <td>Koyaanisqatsi</td>\n",
              "      <td>347</td>\n",
              "      <td>2</td>\n",
              "      <td>10</td>\n",
              "      <td>Philip Glass</td>\n",
              "      <td>206005</td>\n",
              "      <td>3305164</td>\n",
              "      <td>0.99</td>\n",
              "    </tr>\n",
              "  </tbody>\n",
              "</table>\n",
              "<p>3503 rows × 9 columns</p>\n",
              "</div>"
            ],
            "text/plain": [
              "      TrackId                                               Name  AlbumId  \\\n",
              "0           1            For Those About To Rock (We Salute You)        1   \n",
              "1           2                                  Balls to the Wall        2   \n",
              "2           3                                    Fast As a Shark        3   \n",
              "3           4                                  Restless and Wild        3   \n",
              "4           5                               Princess of the Dawn        3   \n",
              "...       ...                                                ...      ...   \n",
              "3498     3499  Pini Di Roma (Pinien Von Rom) \\ I Pini Della V...      343   \n",
              "3499     3500  String Quartet No. 12 in C Minor, D. 703 \"Quar...      344   \n",
              "3500     3501               L'orfeo, Act 3, Sinfonia (Orchestra)      345   \n",
              "3501     3502  Quintet for Horn, Violin, 2 Violas, and Cello ...      346   \n",
              "3502     3503                                      Koyaanisqatsi      347   \n",
              "\n",
              "      MediaTypeId  GenreId                                           Composer  \\\n",
              "0               1        1          Angus Young, Malcolm Young, Brian Johnson   \n",
              "1               2        1                                               None   \n",
              "2               2        1  F. Baltes, S. Kaufman, U. Dirkscneider & W. Ho...   \n",
              "3               2        1  F. Baltes, R.A. Smith-Diesel, S. Kaufman, U. D...   \n",
              "4               2        1                         Deaffy & R.A. Smith-Diesel   \n",
              "...           ...      ...                                                ...   \n",
              "3498            2       24                                               None   \n",
              "3499            2       24                                     Franz Schubert   \n",
              "3500            2       24                                 Claudio Monteverdi   \n",
              "3501            2       24                            Wolfgang Amadeus Mozart   \n",
              "3502            2       10                                       Philip Glass   \n",
              "\n",
              "      Milliseconds     Bytes  UnitPrice  \n",
              "0           343719  11170334       0.99  \n",
              "1           342562   5510424       0.99  \n",
              "2           230619   3990994       0.99  \n",
              "3           252051   4331779       0.99  \n",
              "4           375418   6290521       0.99  \n",
              "...            ...       ...        ...  \n",
              "3498        286741   4718950       0.99  \n",
              "3499        139200   2283131       0.99  \n",
              "3500         66639   1189062       0.99  \n",
              "3501        221331   3665114       0.99  \n",
              "3502        206005   3305164       0.99  \n",
              "\n",
              "[3503 rows x 9 columns]"
            ]
          },
          "execution_count": 76,
          "metadata": {},
          "output_type": "execute_result"
        }
      ],
      "source": [
        "data_from_sql"
      ]
    },
    {
      "cell_type": "markdown",
      "id": "8e46f221-0cd5-44cc-8a66-e91c134b8462",
      "metadata": {
        "id": "8e46f221-0cd5-44cc-8a66-e91c134b8462"
      },
      "source": [
        "### Jason Files - JSON (JavaScript Object Notation) files are commonly used for semi-structured data."
      ]
    },
    {
      "cell_type": "code",
      "execution_count": null,
      "id": "3f0081b2-2894-4abb-a3a3-a03722b9acaa",
      "metadata": {
        "id": "3f0081b2-2894-4abb-a3a3-a03722b9acaa",
        "outputId": "d2329dc7-66d7-404c-8553-77ed8551fa33"
      },
      "outputs": [
        {
          "name": "stdout",
          "output_type": "stream",
          "text": [
            "DataFrame created from JSON file:\n"
          ]
        },
        {
          "data": {
            "text/html": [
              "<div>\n",
              "<style scoped>\n",
              "    .dataframe tbody tr th:only-of-type {\n",
              "        vertical-align: middle;\n",
              "    }\n",
              "\n",
              "    .dataframe tbody tr th {\n",
              "        vertical-align: top;\n",
              "    }\n",
              "\n",
              "    .dataframe thead th {\n",
              "        text-align: right;\n",
              "    }\n",
              "</style>\n",
              "<table border=\"1\" class=\"dataframe\">\n",
              "  <thead>\n",
              "    <tr style=\"text-align: right;\">\n",
              "      <th></th>\n",
              "      <th>name</th>\n",
              "      <th>language</th>\n",
              "      <th>id</th>\n",
              "      <th>bio</th>\n",
              "      <th>version</th>\n",
              "    </tr>\n",
              "  </thead>\n",
              "  <tbody>\n",
              "    <tr>\n",
              "      <th>0</th>\n",
              "      <td>Adeel Solangi</td>\n",
              "      <td>Sindhi</td>\n",
              "      <td>V59OF92YF627HFY0</td>\n",
              "      <td>Donec lobortis eleifend condimentum. Cras dict...</td>\n",
              "      <td>6.10</td>\n",
              "    </tr>\n",
              "    <tr>\n",
              "      <th>1</th>\n",
              "      <td>Afzal Ghaffar</td>\n",
              "      <td>Sindhi</td>\n",
              "      <td>ENTOCR13RSCLZ6KU</td>\n",
              "      <td>Aliquam sollicitudin ante ligula, eget malesua...</td>\n",
              "      <td>1.88</td>\n",
              "    </tr>\n",
              "    <tr>\n",
              "      <th>2</th>\n",
              "      <td>Aamir Solangi</td>\n",
              "      <td>Sindhi</td>\n",
              "      <td>IAKPO3R4761JDRVG</td>\n",
              "      <td>Vestibulum pharetra libero et velit gravida eu...</td>\n",
              "      <td>7.27</td>\n",
              "    </tr>\n",
              "    <tr>\n",
              "      <th>3</th>\n",
              "      <td>Abla Dilmurat</td>\n",
              "      <td>Uyghur</td>\n",
              "      <td>5ZVOEPMJUI4MB4EN</td>\n",
              "      <td>Donec lobortis eleifend condimentum. Morbi ac ...</td>\n",
              "      <td>2.53</td>\n",
              "    </tr>\n",
              "    <tr>\n",
              "      <th>4</th>\n",
              "      <td>Adil Eli</td>\n",
              "      <td>Uyghur</td>\n",
              "      <td>6VTI8X6LL0MMPJCC</td>\n",
              "      <td>Vivamus id faucibus velit, id posuere leo. Mor...</td>\n",
              "      <td>6.49</td>\n",
              "    </tr>\n",
              "    <tr>\n",
              "      <th>...</th>\n",
              "      <td>...</td>\n",
              "      <td>...</td>\n",
              "      <td>...</td>\n",
              "      <td>...</td>\n",
              "      <td>...</td>\n",
              "    </tr>\n",
              "    <tr>\n",
              "      <th>15835</th>\n",
              "      <td>Bhupesh Menon</td>\n",
              "      <td>Hindi</td>\n",
              "      <td>0CEPNRDV98KT3ORP</td>\n",
              "      <td>Maecenas tempus neque ut porttitor malesuada. ...</td>\n",
              "      <td>2.69</td>\n",
              "    </tr>\n",
              "    <tr>\n",
              "      <th>15836</th>\n",
              "      <td>Rohini Vasav</td>\n",
              "      <td>Hindi</td>\n",
              "      <td>UEFML43TCGS04KWM</td>\n",
              "      <td>Ut accumsan, est vel fringilla varius, purus a...</td>\n",
              "      <td>9.30</td>\n",
              "    </tr>\n",
              "    <tr>\n",
              "      <th>15837</th>\n",
              "      <td>Sunil Kapoor</td>\n",
              "      <td>Hindi</td>\n",
              "      <td>VY2A0APGVHK5NAW2</td>\n",
              "      <td>Proin tempus eu risus nec mattis. Ut dictum, l...</td>\n",
              "      <td>8.04</td>\n",
              "    </tr>\n",
              "    <tr>\n",
              "      <th>15838</th>\n",
              "      <td>Zamokuhle Zulu</td>\n",
              "      <td>isiZulu</td>\n",
              "      <td>XU7BX2F8M5PVZ1EF</td>\n",
              "      <td>Etiam congue dignissim volutpat. Phasellus tin...</td>\n",
              "      <td>8.39</td>\n",
              "    </tr>\n",
              "    <tr>\n",
              "      <th>15839</th>\n",
              "      <td>Bhupesh Menon</td>\n",
              "      <td>Hindi</td>\n",
              "      <td>0CEPNRDV98KT3ORP</td>\n",
              "      <td>Maecenas tempus neque ut porttitor malesuada. ...</td>\n",
              "      <td>2.69</td>\n",
              "    </tr>\n",
              "  </tbody>\n",
              "</table>\n",
              "<p>15840 rows × 5 columns</p>\n",
              "</div>"
            ],
            "text/plain": [
              "                 name language                id  \\\n",
              "0       Adeel Solangi   Sindhi  V59OF92YF627HFY0   \n",
              "1       Afzal Ghaffar   Sindhi  ENTOCR13RSCLZ6KU   \n",
              "2       Aamir Solangi   Sindhi  IAKPO3R4761JDRVG   \n",
              "3       Abla Dilmurat   Uyghur  5ZVOEPMJUI4MB4EN   \n",
              "4            Adil Eli   Uyghur  6VTI8X6LL0MMPJCC   \n",
              "...               ...      ...               ...   \n",
              "15835   Bhupesh Menon    Hindi  0CEPNRDV98KT3ORP   \n",
              "15836    Rohini Vasav    Hindi  UEFML43TCGS04KWM   \n",
              "15837    Sunil Kapoor    Hindi  VY2A0APGVHK5NAW2   \n",
              "15838  Zamokuhle Zulu  isiZulu  XU7BX2F8M5PVZ1EF   \n",
              "15839   Bhupesh Menon    Hindi  0CEPNRDV98KT3ORP   \n",
              "\n",
              "                                                     bio  version  \n",
              "0      Donec lobortis eleifend condimentum. Cras dict...     6.10  \n",
              "1      Aliquam sollicitudin ante ligula, eget malesua...     1.88  \n",
              "2      Vestibulum pharetra libero et velit gravida eu...     7.27  \n",
              "3      Donec lobortis eleifend condimentum. Morbi ac ...     2.53  \n",
              "4      Vivamus id faucibus velit, id posuere leo. Mor...     6.49  \n",
              "...                                                  ...      ...  \n",
              "15835  Maecenas tempus neque ut porttitor malesuada. ...     2.69  \n",
              "15836  Ut accumsan, est vel fringilla varius, purus a...     9.30  \n",
              "15837  Proin tempus eu risus nec mattis. Ut dictum, l...     8.04  \n",
              "15838  Etiam congue dignissim volutpat. Phasellus tin...     8.39  \n",
              "15839  Maecenas tempus neque ut porttitor malesuada. ...     2.69  \n",
              "\n",
              "[15840 rows x 5 columns]"
            ]
          },
          "execution_count": 5,
          "metadata": {},
          "output_type": "execute_result"
        }
      ],
      "source": [
        "import pandas as pd\n",
        "\n",
        "# Reading data from a JSON file with specified encoding\n",
        "data_from_json = pd.read_json('data.json')\n",
        "\n",
        "# Print the DataFrame\n",
        "print(\"DataFrame created from JSON file:\")\n",
        "data_from_json"
      ]
    },
    {
      "cell_type": "markdown",
      "id": "a2a228f6-ae5d-4c8b-bed2-1693bff661fd",
      "metadata": {
        "id": "a2a228f6-ae5d-4c8b-bed2-1693bff661fd"
      },
      "source": [
        "### HTML/Web Scraping: You can aslo Scrape data from HTML tables on webpages"
      ]
    },
    {
      "cell_type": "code",
      "execution_count": null,
      "id": "aa83d560-cf3d-4c9a-a087-bc557720446e",
      "metadata": {
        "id": "aa83d560-cf3d-4c9a-a087-bc557720446e",
        "outputId": "dc80edd1-a8a6-42b5-cf56-fe5a74d79c3a"
      },
      "outputs": [
        {
          "name": "stdout",
          "output_type": "stream",
          "text": [
            "Data scraped from HTML table:\n"
          ]
        },
        {
          "data": {
            "text/html": [
              "<div>\n",
              "<style scoped>\n",
              "    .dataframe tbody tr th:only-of-type {\n",
              "        vertical-align: middle;\n",
              "    }\n",
              "\n",
              "    .dataframe tbody tr th {\n",
              "        vertical-align: top;\n",
              "    }\n",
              "\n",
              "    .dataframe thead th {\n",
              "        text-align: right;\n",
              "    }\n",
              "</style>\n",
              "<table border=\"1\" class=\"dataframe\">\n",
              "  <thead>\n",
              "    <tr style=\"text-align: right;\">\n",
              "      <th></th>\n",
              "      <th>Company</th>\n",
              "      <th>Contact</th>\n",
              "      <th>Country</th>\n",
              "    </tr>\n",
              "  </thead>\n",
              "  <tbody>\n",
              "    <tr>\n",
              "      <th>0</th>\n",
              "      <td>Alfreds Futterkiste</td>\n",
              "      <td>Maria Anders</td>\n",
              "      <td>Germany</td>\n",
              "    </tr>\n",
              "    <tr>\n",
              "      <th>1</th>\n",
              "      <td>Centro comercial Moctezuma</td>\n",
              "      <td>Francisco Chang</td>\n",
              "      <td>Mexico</td>\n",
              "    </tr>\n",
              "    <tr>\n",
              "      <th>2</th>\n",
              "      <td>Ernst Handel</td>\n",
              "      <td>Roland Mendel</td>\n",
              "      <td>Austria</td>\n",
              "    </tr>\n",
              "    <tr>\n",
              "      <th>3</th>\n",
              "      <td>Island Trading</td>\n",
              "      <td>Helen Bennett</td>\n",
              "      <td>UK</td>\n",
              "    </tr>\n",
              "    <tr>\n",
              "      <th>4</th>\n",
              "      <td>Laughing Bacchus Winecellars</td>\n",
              "      <td>Yoshi Tannamuri</td>\n",
              "      <td>Canada</td>\n",
              "    </tr>\n",
              "    <tr>\n",
              "      <th>5</th>\n",
              "      <td>Magazzini Alimentari Riuniti</td>\n",
              "      <td>Giovanni Rovelli</td>\n",
              "      <td>Italy</td>\n",
              "    </tr>\n",
              "  </tbody>\n",
              "</table>\n",
              "</div>"
            ],
            "text/plain": [
              "                        Company           Contact  Country\n",
              "0           Alfreds Futterkiste      Maria Anders  Germany\n",
              "1    Centro comercial Moctezuma   Francisco Chang   Mexico\n",
              "2                  Ernst Handel     Roland Mendel  Austria\n",
              "3                Island Trading     Helen Bennett       UK\n",
              "4  Laughing Bacchus Winecellars   Yoshi Tannamuri   Canada\n",
              "5  Magazzini Alimentari Riuniti  Giovanni Rovelli    Italy"
            ]
          },
          "execution_count": 13,
          "metadata": {},
          "output_type": "execute_result"
        }
      ],
      "source": [
        "import pandas as pd\n",
        "\n",
        "# Reading tables from a webpage\n",
        "data_from_html = pd.read_html('https://www.w3schools.com/html/html_tables.asp')[0]  # Adjust index as needed\n",
        "print(\"Data scraped from HTML table:\")\n",
        "data_from_html\n"
      ]
    },
    {
      "cell_type": "code",
      "execution_count": null,
      "id": "a47e7a49-97a7-4acb-b8f3-b6963508792f",
      "metadata": {
        "id": "a47e7a49-97a7-4acb-b8f3-b6963508792f"
      },
      "outputs": [],
      "source": []
    }
  ],
  "metadata": {
    "kernelspec": {
      "display_name": "Python 3 (ipykernel)",
      "language": "python",
      "name": "python3"
    },
    "language_info": {
      "codemirror_mode": {
        "name": "ipython",
        "version": 3
      },
      "file_extension": ".py",
      "mimetype": "text/x-python",
      "name": "python",
      "nbconvert_exporter": "python",
      "pygments_lexer": "ipython3",
      "version": "3.11.7"
    },
    "colab": {
      "provenance": [],
      "include_colab_link": true
    }
  },
  "nbformat": 4,
  "nbformat_minor": 5
}