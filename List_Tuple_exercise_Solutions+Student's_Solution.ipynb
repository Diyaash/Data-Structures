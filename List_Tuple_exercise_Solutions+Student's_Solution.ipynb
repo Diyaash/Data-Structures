{
  "nbformat": 4,
  "nbformat_minor": 0,
  "metadata": {
    "colab": {
      "provenance": [],
      "include_colab_link": true
    },
    "kernelspec": {
      "name": "python3",
      "display_name": "Python 3"
    },
    "language_info": {
      "name": "python"
    }
  },
  "cells": [
    {
      "cell_type": "markdown",
      "metadata": {
        "id": "view-in-github",
        "colab_type": "text"
      },
      "source": [
        "<a href=\"https://colab.research.google.com/github/Diyaash/Data-Structures/blob/main/List_Tuple_exercise_Solutions%2BStudent's_Solution.ipynb\" target=\"_parent\"><img src=\"https://colab.research.google.com/assets/colab-badge.svg\" alt=\"Open In Colab\"/></a>"
      ]
    },
    {
      "cell_type": "markdown",
      "source": [
        "#List<br>Question 1: Analyzing Student Scores\n",
        "You are provided with a list of student scores in a class. Perform the following operations: Find and display the highest score in the class. Calculate and print the average score of the class. Identify and display the names of students who scored above a certain threshold (e.g., 80). Sort and display the student names in alphabetical order.\n",
        "\n",
        "#Question 2: Generate Squares and Cubes\n",
        "Write a program to generate two lists using list comprehension. The first list should contain the squares of numbers from 1 to 10, and the second list should contain the cubes of the same numbers.\n",
        "\n",
        "#Question 3: Filtering Positive Numbers\n",
        "Given a list of numbers, create a new list that contains only the positive numbers from the original list. Implement this using list comprehension.\n",
        "\n",
        "#Question 4: Sorting Student Names\n",
        "You have a list of student names. Implement a program to sort the names alphabetically and display the sorted list.\n",
        "\n",
        "#Below are the answers given by Karan"
      ],
      "metadata": {
        "id": "qdRgkmgxoHYq"
      }
    },
    {
      "cell_type": "code",
      "source": [
        "# List of students and their scores\n",
        "students_scores = [(\"Alice\", 85), (\"Bob\", 78), (\"Charlie\", 92), (\"David\", 88)]\n",
        "\n",
        "# Find and display the highest score\n",
        "highest_score = max(students_scores, key=lambda x: x[1])\n",
        "#print(f\"Highest Score: {highest_score[0]} with {highest_score[1]}\")\n",
        "print(\"Highest Score: {} with {}\".format(highest_score[0], highest_score[1]))\n",
        "#print('{} is my highest number'.format(number))\n",
        "\n",
        "# Calculate and print the average score\n",
        "average_score = sum(score for _, score in students_scores) / len(students_scores)\n",
        "print(f\"Average Score: {average_score:.2f}\")\n",
        "\n",
        "\n",
        "# Identify and display the names of students who scored above a certain threshold\n",
        "threshold = average_score\n",
        "above_threshold = [student for student, score in students_scores if score > threshold]\n",
        "print(f\"Students scoring above {threshold}: {', '.join(above_threshold)}\")\n",
        "\n",
        "# Sort and display the student names in alphabetical order\n",
        "sorted_students = sorted([student for student, _ in students_scores])\n",
        "print(\"Students sorted alphabetically:\")\n",
        "for _ in sorted_students:\n",
        "    print(_)"
      ],
      "metadata": {
        "colab": {
          "base_uri": "https://localhost:8080/"
        },
        "id": "z7sBbt0IoWrl",
        "outputId": "5ba279ce-b631-4d0b-f15b-f73723e2824c"
      },
      "execution_count": null,
      "outputs": [
        {
          "output_type": "stream",
          "name": "stdout",
          "text": [
            "Highest Score: Charlie with 92\n",
            "Average Score: 85.75\n",
            "Students scoring above 85.75: Charlie, David\n",
            "Students sorted alphabetically:\n",
            "Alice\n",
            "Bob\n",
            "Charlie\n",
            "David\n"
          ]
        }
      ]
    },
    {
      "cell_type": "code",
      "source": [
        "# Generate list of squares from 1 to 10\n",
        "squares = [x**2 for x in range(1, 11)]\n",
        "print(\"Squares from 1 to 10:\", squares)\n",
        "\n",
        "# Generate list of cubes from 1 to 10\n",
        "cubes = [x**3 for x in range(1, 11)]\n",
        "print(\"Cubes from 1 to 10:\", cubes)\n"
      ],
      "metadata": {
        "colab": {
          "base_uri": "https://localhost:8080/"
        },
        "id": "Q5omxcnzoX_q",
        "outputId": "5ac8f708-f305-44fb-f763-e9526985a231"
      },
      "execution_count": null,
      "outputs": [
        {
          "output_type": "stream",
          "name": "stdout",
          "text": [
            "Squares from 1 to 10: [1, 4, 9, 16, 25, 36, 49, 64, 81, 100]\n",
            "Cubes from 1 to 10: [1, 8, 27, 64, 125, 216, 343, 512, 729, 1000]\n"
          ]
        }
      ]
    },
    {
      "cell_type": "code",
      "source": [
        "# Original list of numbers\n",
        "numbers = [-10, 15, -3, 20, 0, -7, 8]\n",
        "\n",
        "# Create a new list with only positive numbers\n",
        "positive_numbers = [num for num in numbers if num > 0]\n",
        "print(\"Positive numbers:\", positive_numbers)\n"
      ],
      "metadata": {
        "colab": {
          "base_uri": "https://localhost:8080/"
        },
        "id": "5JtSoLREoaYi",
        "outputId": "f3c95a32-a5dd-4910-cecd-43e61f18fe67"
      },
      "execution_count": null,
      "outputs": [
        {
          "output_type": "stream",
          "name": "stdout",
          "text": [
            "Positive numbers: [15, 20, 8]\n"
          ]
        }
      ]
    },
    {
      "cell_type": "code",
      "source": [
        "# List of student names\n",
        "student_names = [\"Charlie\", \"Alice\", \"Bob\", \"David\"]\n",
        "\n",
        "# Sort the names alphabetically\n",
        "sorted_names = sorted(student_names)\n",
        "print(\"Sorted student names:\")\n",
        "for name in sorted_names:\n",
        "    print(name)\n"
      ],
      "metadata": {
        "colab": {
          "base_uri": "https://localhost:8080/"
        },
        "id": "OMVUkJypocls",
        "outputId": "fcbfe5db-86a2-4398-b8a7-e16472fd9ca4"
      },
      "execution_count": null,
      "outputs": [
        {
          "output_type": "stream",
          "name": "stdout",
          "text": [
            "Sorted student names:\n",
            "Alice\n",
            "Bob\n",
            "Charlie\n",
            "David\n"
          ]
        }
      ]
    },
    {
      "cell_type": "markdown",
      "source": [
        "#Below are the answers given by Students"
      ],
      "metadata": {
        "id": "_nTjbE8ko3_G"
      }
    },
    {
      "cell_type": "code",
      "source": [
        "#QUESTION1:\n",
        "# Yatharth's Answer\n",
        "\n",
        "student_name=['vineet','divakar','meena']\n",
        "kl = student_name.copy()\n",
        "student_marks=[85,68,94]\n",
        "print('Average Marks of class=',sum(student_marks)/len(student_marks))\n",
        "c=kl.sort()\n",
        "print(student_name)\n",
        "for i in student_marks:\n",
        "  if i>90:\n",
        "    print(\"Highest Marks\")\n",
        "  elif i>80:\n",
        "    print(\"This Student has passed the threshold=\",student_name[0])\n",
        "  else:\n",
        "    print(\"Not the highest marks\")\n",
        "\n"
      ],
      "metadata": {
        "colab": {
          "base_uri": "https://localhost:8080/"
        },
        "id": "PbZZxO6xo6GN",
        "outputId": "95676af2-a352-4c61-cd91-5567efcca893"
      },
      "execution_count": null,
      "outputs": [
        {
          "output_type": "stream",
          "name": "stdout",
          "text": [
            "Average Marks of class= 82.33333333333333\n",
            "['vineet', 'divakar', 'meena']\n",
            "This Student has passed the threshold= vineet\n",
            "Not the highest marks\n",
            "Highest Marks\n"
          ]
        }
      ]
    },
    {
      "cell_type": "code",
      "source": [
        "#Q1- Devangi\n",
        "\n",
        "def scores():\n",
        "  print(\"\"\"        FINAL SCORES:\n",
        "  Names      Scores\n",
        "  Varsha  :    85\n",
        "  Anushka :    92\n",
        "  Sheoli  :    67\n",
        "  Kunal   :    56\n",
        "  Sankalp :    95\n",
        "  Deepak  :    97    \"\"\")\n",
        "#sorting\n",
        "  names= [\"Varsha\", \"Anushka\", \"Sheoli\", \"Kunal\", \"Sankalp\", \"Deepak\"]\n",
        "  sorted_names= sorted(names)\n",
        "  print(\"Aphabetical order of names:\", sorted_names)\n",
        "#max score\n",
        "  scores=[85, 92, 67, 56, 95, 97]\n",
        "  max_score = max(scores)\n",
        "  max1= str(input('Do you want to know the highest score?[Y/N]'))\n",
        "  if max1.upper()== 'Y':\n",
        "    print(\"Highest score is:\", max_score)\n",
        "  #threshold\n",
        "  above90= [score for score in scores if score > 90]\n",
        "  print(\"scores above 90 i.e A+ :\", above90)\n",
        "  #average\n",
        "  average= int(sum(scores) / len(scores))\n",
        "  print(\"average of scores is:\", average)\n",
        "\n",
        "scores()\n"
      ],
      "metadata": {
        "colab": {
          "base_uri": "https://localhost:8080/"
        },
        "id": "1ACIVG6avu-G",
        "outputId": "4df0ec10-b3f2-4bcb-cce9-fc3e088db80c"
      },
      "execution_count": null,
      "outputs": [
        {
          "output_type": "stream",
          "name": "stdout",
          "text": [
            "        FINAL SCORES:\n",
            "  Names      Scores\n",
            "  Varsha  :    85\n",
            "  Anushka :    92\n",
            "  Sheoli  :    67\n",
            "  Kunal   :    56\n",
            "  Sankalp :    95\n",
            "  Deepak  :    97    \n",
            "Aphabetical order of names: ['Anushka', 'Deepak', 'Kunal', 'Sankalp', 'Sheoli', 'Varsha']\n",
            "Do you want to know the highest score?[Y/N]Y\n",
            "Highest score is: 97\n",
            "scores above 90 i.e A+ : [92, 95, 97]\n",
            "average of scores is: 82\n"
          ]
        }
      ]
    },
    {
      "cell_type": "code",
      "source": [],
      "metadata": {
        "id": "f6ZBvZ8H9ZaH"
      },
      "execution_count": null,
      "outputs": []
    },
    {
      "cell_type": "code",
      "source": [
        "#kartik's answer - Question 2\n",
        "\n",
        "my_lst = [1,2,3,4,5,6,7,8,9,10]\n",
        "\n",
        "# List comprehension to generate squares and cubes\n",
        "squares = [x**2 for x in my_lst]\n",
        "cubes = [x**3 for x in my_lst]\n",
        "\n",
        "# Displaying the lists\n",
        "print(\"Squares:\", squares)\n",
        "print(\"Cubes  :\", cubes)"
      ],
      "metadata": {
        "colab": {
          "base_uri": "https://localhost:8080/"
        },
        "id": "7YDjpTNUw8sn",
        "outputId": "3e2742b4-892f-4589-977b-af7810eedda2"
      },
      "execution_count": null,
      "outputs": [
        {
          "output_type": "stream",
          "name": "stdout",
          "text": [
            "Squares: [1, 4, 9, 16, 25, 36, 49, 64, 81, 100]\n",
            "Cubes  : [1, 8, 27, 64, 125, 216, 343, 512, 729, 1000]\n"
          ]
        }
      ]
    },
    {
      "cell_type": "code",
      "source": [
        "#Q2- Devangi\n",
        "\n",
        "a= [1,2,3,4,5,6,7,8,9,10]\n",
        "squares = [x**2 for x in a]\n",
        "cubes = [x**3 for x in a]\n",
        "print(squares)\n",
        "print(cubes)"
      ],
      "metadata": {
        "colab": {
          "base_uri": "https://localhost:8080/"
        },
        "id": "9pDvosOZxJut",
        "outputId": "0d087322-ca94-413b-ea12-ed89ac0994c4"
      },
      "execution_count": null,
      "outputs": [
        {
          "output_type": "stream",
          "name": "stdout",
          "text": [
            "[1, 4, 9, 16, 25, 36, 49, 64, 81, 100]\n",
            "[1, 8, 27, 64, 125, 216, 343, 512, 729, 1000]\n"
          ]
        }
      ]
    },
    {
      "cell_type": "code",
      "source": [
        "#Question 2 vishal\n",
        "def comprehensionLists():\n",
        "  squaredlist = [x**2  for x in range(1,11)]\n",
        "  cubelist=[x**3  for x in range(1,11)]\n",
        "  print(squaredlist)\n",
        "  print(cubelist)\n",
        "\n",
        "comprehensionLists()"
      ],
      "metadata": {
        "colab": {
          "base_uri": "https://localhost:8080/"
        },
        "id": "n1TQQuvzxTtx",
        "outputId": "b5becf8f-83e9-4617-b4e8-e4ff0db24499"
      },
      "execution_count": null,
      "outputs": [
        {
          "output_type": "stream",
          "name": "stdout",
          "text": [
            "[1, 4, 9, 16, 25, 36, 49, 64, 81, 100]\n",
            "[1, 8, 27, 64, 125, 216, 343, 512, 729, 1000]\n"
          ]
        }
      ]
    },
    {
      "cell_type": "code",
      "source": [
        "#Q3- Devangi\n",
        "import random\n",
        "nums = [random.randint(-50,50) for x in range(10)]\n",
        "positive_numbers = list(filter(lambda x: x > 0, nums))\n",
        "print(\"list of numbers:\", nums)\n",
        "print(\"positive numbers among these:\", positive_numbers)"
      ],
      "metadata": {
        "colab": {
          "base_uri": "https://localhost:8080/"
        },
        "id": "lYqVsN3gxg1G",
        "outputId": "26ee8b62-9623-41bc-c668-977383dfac01"
      },
      "execution_count": null,
      "outputs": [
        {
          "output_type": "stream",
          "name": "stdout",
          "text": [
            "list of numbers: [-14, -17, -3, -43, -31, 24, -47, -12, 9, 36]\n",
            "positive numbers among these: [24, 9, 36]\n"
          ]
        }
      ]
    },
    {
      "cell_type": "code",
      "source": [
        "# question - 3 (Digvijay)\n",
        "number = [-2, -1, 5, 6, 8]\n",
        "positive_number= [num for num in number if num >=0]\n",
        "print(\"Original Number:\",number)\n",
        "print(\"Positive Number:\",positive_number)"
      ],
      "metadata": {
        "colab": {
          "base_uri": "https://localhost:8080/"
        },
        "id": "PKxYP1scyP5n",
        "outputId": "b657b366-f3de-4921-f504-5193989e637a"
      },
      "execution_count": null,
      "outputs": [
        {
          "output_type": "stream",
          "name": "stdout",
          "text": [
            "Original Number: [-2, -1, 5, 6, 8]\n",
            "Positive Number: [5, 6, 8]\n"
          ]
        }
      ]
    },
    {
      "cell_type": "code",
      "source": [
        "# Q3 Karthik's Answer\n",
        "\n",
        "my_lst =[-58, -4, -6, -15, -2, 2, -64, -15, 94, 45, 8, 58, 1, 7, -7, -3, -9, 13, 15, 5]\n",
        "\n",
        "# List comprehension to filter positive numbers\n",
        "operation= [x for x in my_lst if x >= 0]\n",
        "\n",
        "# Displaying the filtered lists\n",
        "print(\"Positive Numbers :\" ,operation)"
      ],
      "metadata": {
        "colab": {
          "base_uri": "https://localhost:8080/"
        },
        "id": "snU4AL-Gym-d",
        "outputId": "49656481-1cf2-496a-b416-bb6ca91af450"
      },
      "execution_count": null,
      "outputs": [
        {
          "output_type": "stream",
          "name": "stdout",
          "text": [
            "Positive Numbers : [2, 94, 45, 8, 58, 1, 7, 13, 15, 5]\n"
          ]
        }
      ]
    },
    {
      "cell_type": "code",
      "source": [
        "#Question3:\n",
        "#yatharth answer - not the ideal way to do this list comphrension\n",
        "a=[1,2,3,4,5,6,7,8,9,10]\n",
        "b=[print('positive number') if x>0 else print('no is zero') if x==0 else print('Negative number') for x in a]\n",
        "# print(b)"
      ],
      "metadata": {
        "colab": {
          "base_uri": "https://localhost:8080/"
        },
        "id": "Zno4SDuRytar",
        "outputId": "474f9a93-dad7-431c-e5b5-e5381a24daf8"
      },
      "execution_count": null,
      "outputs": [
        {
          "output_type": "stream",
          "name": "stdout",
          "text": [
            "positive number\n",
            "positive number\n",
            "positive number\n",
            "positive number\n",
            "positive number\n",
            "positive number\n",
            "positive number\n",
            "positive number\n",
            "positive number\n",
            "positive number\n"
          ]
        }
      ]
    },
    {
      "cell_type": "code",
      "source": [
        "#Question 3 vishal\n",
        "mixedlist=[1,-4,11,2,-222,-6,4,-9,13]\n",
        "FinalList =  [x for x in mixedlist if x >= 0]\n",
        "print(FinalList)"
      ],
      "metadata": {
        "colab": {
          "base_uri": "https://localhost:8080/"
        },
        "id": "hChUDur2zRQd",
        "outputId": "d85a7002-4283-4c27-a3ed-2c37c6684511"
      },
      "execution_count": null,
      "outputs": [
        {
          "output_type": "stream",
          "name": "stdout",
          "text": [
            "[1, 11, 2, 4, 13]\n"
          ]
        }
      ]
    },
    {
      "cell_type": "code",
      "source": [],
      "metadata": {
        "id": "HWiU1m6XzY_w"
      },
      "execution_count": null,
      "outputs": []
    },
    {
      "cell_type": "markdown",
      "source": [
        "#Tuple <br>\n",
        "Question 1: Course Enrollment: You are managing student course enrollments, and each course has a unique identifier, a list of enrolled students, and their corresponding grades. Implement a program using advanced tuple operations to perform the following: Create a tuple for a course containing its identifier, a list of enrolled students, and their grades. Display the course information, including the average grade. Identify and display the student with the highest grade in the course. Update the grade of a specific student.<br><br>\n",
        "Question 2: Filtered Student Information: You have a list of student names, their ages, and their grades. Implement a program using tuple comprehension and filtering to perform the following: Create a list of tuples where each tuple contains a student's name, age, and grade. Display the list of student tuples. Filter and display only the information of students who are above a certain age.<br><br>\n",
        "Question 3: Employee Salary Calculation: You have a list of employees, and each employee is represented as a tuple containing their name, hourly rate, and hours worked. Implement a program using tuple unpacking and functions to perform the following: Calculate and display the total salary for each employee. Identify and display the employee with the highest total salary. Display the average total salary of all employees.<br><br>\n",
        "Question 4: Student Grade Book You have a dictionary where the keys are student names, and the values are tuples containing their scores in three different subjects. Implement a program using tuple and dictionary integration to perform the following: Display the student names and their average scores. Identify and display the student with the highest average score. Display the average scores for each subject.<br><br>\n",
        "\n",
        "#Below are the answers given by Karan"
      ],
      "metadata": {
        "id": "gMXGCQzgnuWB"
      }
    },
    {
      "cell_type": "code",
      "execution_count": null,
      "metadata": {
        "colab": {
          "base_uri": "https://localhost:8080/"
        },
        "id": "o6T1_PRFntd4",
        "outputId": "944d323e-389b-4eca-f7a3-56fc0b425407"
      },
      "outputs": [
        {
          "output_type": "stream",
          "name": "stdout",
          "text": [
            "Course ID: CS101\n",
            "Enrolled Students and Grades:\n",
            "Alice: 85\n",
            "Bob: 92\n",
            "Charlie: 78\n",
            "Average Grade: 85.00\n",
            "Top Student: Bob with Grade: 92\n",
            "Updated Students and Grades:\n",
            "Alice: 85\n",
            "Bob: 92\n",
            "Charlie: 90\n"
          ]
        }
      ],
      "source": [
        "# Initial setup for the course\n",
        "course = (\n",
        "    \"CS101\",  # Course identifier\n",
        "    [(\"Alice\", 85), (\"Bob\", 92), (\"Charlie\", 78)],  # List of enrolled students and their grades\n",
        ")\n",
        "\n",
        "# Display course information\n",
        "course_id, students_grades = course\n",
        "print(f\"Course ID: {course_id}\")\n",
        "print(\"Enrolled Students and Grades:\")\n",
        "for student, grade in students_grades:\n",
        "    print(f\"{student}: {grade}\")\n",
        "\n",
        "# Calculate and display the average grade\n",
        "average_grade = sum(grade for _, grade in students_grades) / len(students_grades)\n",
        "print(f\"Average Grade: {average_grade:.2f}\")\n",
        "\n",
        "# Identify and display the student with the highest grade\n",
        "top_student = max(students_grades, key=lambda x: x[1])\n",
        "print(f\"Top Student: {top_student[0]} with Grade: {top_student[1]}\")\n",
        "\n",
        "#max_value = []\n",
        "#for i, j in students_grades:\n",
        "#  max_value.append(j)\n",
        "#op = max(max_value)\n",
        "\n",
        "# Update the grade of a specific student\n",
        "def update_grade(course, student_name, new_grade):\n",
        "    course_id, students_grades = course\n",
        "    updated_grades = [(student, new_grade if student == student_name else grade) for student, grade in students_grades]\n",
        "    return (course_id, updated_grades)\n",
        "\n",
        "# Example: Update Charlie's grade to 88\n",
        "grade_ = 90\n",
        "course = update_grade(course, \"Charlie\", grade_)\n",
        "\n",
        "# Display updated course information\n",
        "print(\"Updated Students and Grades:\")\n",
        "for student, grade in course[1]:\n",
        "    print(f\"{student}: {grade}\")\n"
      ]
    },
    {
      "cell_type": "code",
      "source": [
        "course = (\n",
        "    \"CS101\",  # Course identifier\n",
        "    [(\"Alice\", 85), (\"Bob\", 92), (\"Charlie\", 78)],  # List of enrolled students and their grades\n",
        ")\n",
        "\n",
        "# Update the grade of a specific student\n",
        "def update_grade(course, student_name, new_grade):\n",
        "    course_id, students_grades = course\n",
        "    updated_grades = [(student, new_grade if student == student_name else grade) for student, grade in students_grades]\n",
        "    return (course_id, updated_grades)\n",
        "\n",
        "# Example: Update Charlie's grade to 90\n",
        "grade_ = 90\n",
        "name_ = 'Charlie'\n",
        "output = update_grade(course, name_, grade_)\n",
        "\n",
        "output"
      ],
      "metadata": {
        "colab": {
          "base_uri": "https://localhost:8080/"
        },
        "id": "mwgJDckd3FKK",
        "outputId": "0aea1871-ad3d-4066-96ef-b11ad0e46e8b"
      },
      "execution_count": null,
      "outputs": [
        {
          "output_type": "execute_result",
          "data": {
            "text/plain": [
              "('CS101', [('Alice', 85), ('Bob', 92), ('Charlie', 90)])"
            ]
          },
          "metadata": {},
          "execution_count": 3
        }
      ]
    },
    {
      "cell_type": "code",
      "source": [
        "# List of student data (name, age, grade)\n",
        "students = [\n",
        "    (\"Alice\", 20, 85),\n",
        "    (\"Bob\", 22, 92),\n",
        "    (\"Charlie\", 19, 78),\n",
        "    (\"David\", 21, 88)\n",
        "]\n",
        "\n",
        "# Display the list of student tuples\n",
        "print(\"Student Information:\")\n",
        "for student in students:\n",
        "    print(student)\n",
        "\n",
        "# Filter and display students above a certain age\n",
        "age_threshold = 20\n",
        "filtered_students = [student for student in students if student[1] > age_threshold]\n",
        "\n",
        "print(f\"Students older than {age_threshold}:\")\n",
        "for student in filtered_students:\n",
        "    print(student)\n"
      ],
      "metadata": {
        "colab": {
          "base_uri": "https://localhost:8080/"
        },
        "id": "GVKfjeGjn09C",
        "outputId": "36cd6766-bba8-4aed-cb45-35e87c75cc1e"
      },
      "execution_count": null,
      "outputs": [
        {
          "output_type": "stream",
          "name": "stdout",
          "text": [
            "Student Information:\n",
            "('Alice', 20, 85)\n",
            "('Bob', 22, 92)\n",
            "('Charlie', 19, 78)\n",
            "('David', 21, 88)\n",
            "Students older than 20:\n",
            "('Bob', 22, 92)\n",
            "('David', 21, 88)\n"
          ]
        }
      ]
    },
    {
      "cell_type": "code",
      "source": [
        "# List of employees (name, hourly rate, hours worked)\n",
        "employees = [\n",
        "    (\"Alice\", 20, 35),\n",
        "    (\"Bob\", 15, 40),\n",
        "    (\"Charlie\", 25, 30),\n",
        "    (\"David\", 30, 25)\n",
        "]\n",
        "\n",
        "# Calculate and display the total salary for each employee\n",
        "def calculate_salary(name, hourly_rate, hours_worked):\n",
        "    return hourly_rate * hours_worked\n",
        "\n",
        "employee_salaries = [(name, calculate_salary(name, hourly_rate, hours_worked)) for name, hourly_rate, hours_worked in employees]\n",
        "\n",
        "print(\"Employee Salaries:\")\n",
        "for name, total_salary in employee_salaries:\n",
        "    print(f\"{name}: ${total_salary:.2f}\")\n",
        "\n",
        "# Identify and display the employee with the highest total salary\n",
        "highest_salary_employee = max(employee_salaries, key=lambda x: x[1])\n",
        "print(f\"Highest Salary: {highest_salary_employee[0]} with ${highest_salary_employee[1]:.2f}\")\n",
        "\n",
        "# Display the average total salary of all employees\n",
        "average_salary = sum(salary for _, salary in employee_salaries) / len(employee_salaries)\n",
        "print(f\"Average Salary: ${average_salary:.2f}\")\n"
      ],
      "metadata": {
        "colab": {
          "base_uri": "https://localhost:8080/"
        },
        "id": "OJYP26oJn3wp",
        "outputId": "0b350113-23f7-45b5-e445-863f0a220032"
      },
      "execution_count": null,
      "outputs": [
        {
          "output_type": "stream",
          "name": "stdout",
          "text": [
            "Employee Salaries:\n",
            "Alice: $700.00\n",
            "Bob: $600.00\n",
            "Charlie: $750.00\n",
            "David: $750.00\n",
            "Highest Salary: Charlie with $750.00\n",
            "Average Salary: $700.00\n"
          ]
        }
      ]
    },
    {
      "cell_type": "code",
      "source": [
        "# Dictionary of student grades\n",
        "grade_book = {\n",
        "    \"Alice\": (85, 90, 88),\n",
        "    \"Bob\": (92, 80, 76),\n",
        "    \"Charlie\": (78, 85, 90),\n",
        "    \"David\": (88, 92, 85)\n",
        "}\n",
        "\n",
        "# Display student names and their average scores\n",
        "print(\"Student Averages:\")\n",
        "for student, grades in grade_book.items():\n",
        "    avg_score = sum(grades) / len(grades)\n",
        "    print(f\"{student}: {avg_score:.2f}\")\n",
        "\n",
        "# Identify and display the student with the highest average score\n",
        "highest_avg_student = max(grade_book.items(), key=lambda x: sum(x[1]) / len(x[1]))\n",
        "print(f\"Highest Average Score: {highest_avg_student[0]} with {sum(highest_avg_student[1]) / len(highest_avg_student[1]):.2f}\")\n",
        "\n",
        "# Display the average scores for each subject\n",
        "subject_averages = [sum(grades) / len(grades) for grades in zip(*grade_book.values())]\n",
        "print(\"Subject Averages:\")\n",
        "for i, avg in enumerate(subject_averages, start=1):\n",
        "    print(f\"Subject {i}: {avg:.2f}\")\n"
      ],
      "metadata": {
        "colab": {
          "base_uri": "https://localhost:8080/"
        },
        "id": "Oe_lcSrXn6hq",
        "outputId": "b881f730-5512-4952-a7ac-c5f17c928832"
      },
      "execution_count": null,
      "outputs": [
        {
          "output_type": "stream",
          "name": "stdout",
          "text": [
            "Student Averages:\n",
            "Alice: 87.67\n",
            "Bob: 82.67\n",
            "Charlie: 84.33\n",
            "David: 88.33\n",
            "Highest Average Score: David with 88.33\n",
            "Subject Averages:\n",
            "Subject 1: 85.75\n",
            "Subject 2: 86.75\n",
            "Subject 3: 84.75\n"
          ]
        }
      ]
    },
    {
      "cell_type": "markdown",
      "source": [
        "#Below are the answers given by Students"
      ],
      "metadata": {
        "id": "VSsu7vb2o_Mi"
      }
    },
    {
      "cell_type": "code",
      "source": [
        "#Q2  Kartik's Answer\n",
        "\n",
        "# LISTS.\n",
        "std_names  = ['Kartik','Akash', 'Robin','Prashant','Rakshit','Rohan','Mohan']\n",
        "std_ages   = [19,20,18,23,17,21,22]\n",
        "std_grades = [90,95,82,80,85,75,86]\n",
        "\n",
        "# List conversion in Tuples.\n",
        "name = tuple(std_names)\n",
        "age  = tuple(std_ages)\n",
        "grade= tuple(std_grades)\n",
        "\n",
        "# Tuple conversion in List.\n",
        "student_info = list(zip(name,age,grade))\n",
        "print(\"Listed Student Info :\", student_info )\n",
        "\n",
        "# Filtering student info as per the demand which is select student below age of 20.\n",
        "filtered_student =[(name ,age, grade) for name , age , grade in student_info if age >20 ] # name age and grades must be in parentheses\n",
        "\n",
        "print(\"Filtered Students   :\", filtered_student)"
      ],
      "metadata": {
        "colab": {
          "base_uri": "https://localhost:8080/"
        },
        "id": "ULpM7Ejxn8go",
        "outputId": "eb605493-17c1-4ecd-c058-f7ffd4906608"
      },
      "execution_count": null,
      "outputs": [
        {
          "output_type": "stream",
          "name": "stdout",
          "text": [
            "Listed Student Info : [('Kartik', 19, 90), ('Akash', 20, 95), ('Robin', 18, 82), ('Prashant', 23, 80), ('Rakshit', 17, 85), ('Rohan', 21, 75), ('Mohan', 22, 86)]\n",
            "Filtered Students   : [('Prashant', 23, 80), ('Rohan', 21, 75), ('Mohan', 22, 86)]\n"
          ]
        }
      ]
    },
    {
      "cell_type": "code",
      "source": [
        "help(zip)"
      ],
      "metadata": {
        "colab": {
          "base_uri": "https://localhost:8080/"
        },
        "id": "wSw16GU858BT",
        "outputId": "fe0183c6-9382-464a-d264-d95febc65be3"
      },
      "execution_count": null,
      "outputs": [
        {
          "output_type": "stream",
          "name": "stdout",
          "text": [
            "Help on class zip in module builtins:\n",
            "\n",
            "class zip(object)\n",
            " |  zip(*iterables, strict=False) --> Yield tuples until an input is exhausted.\n",
            " |  \n",
            " |     >>> list(zip('abcdefg', range(3), range(4)))\n",
            " |     [('a', 0, 0), ('b', 1, 1), ('c', 2, 2)]\n",
            " |  \n",
            " |  The zip object yields n-length tuples, where n is the number of iterables\n",
            " |  passed as positional arguments to zip().  The i-th element in every tuple\n",
            " |  comes from the i-th iterable argument to zip().  This continues until the\n",
            " |  shortest argument is exhausted.\n",
            " |  \n",
            " |  If strict is true and one of the arguments is exhausted before the others,\n",
            " |  raise a ValueError.\n",
            " |  \n",
            " |  Methods defined here:\n",
            " |  \n",
            " |  __getattribute__(self, name, /)\n",
            " |      Return getattr(self, name).\n",
            " |  \n",
            " |  __iter__(self, /)\n",
            " |      Implement iter(self).\n",
            " |  \n",
            " |  __next__(self, /)\n",
            " |      Implement next(self).\n",
            " |  \n",
            " |  __reduce__(...)\n",
            " |      Return state information for pickling.\n",
            " |  \n",
            " |  __setstate__(...)\n",
            " |      Set state information for unpickling.\n",
            " |  \n",
            " |  ----------------------------------------------------------------------\n",
            " |  Static methods defined here:\n",
            " |  \n",
            " |  __new__(*args, **kwargs) from builtins.type\n",
            " |      Create and return a new object.  See help(type) for accurate signature.\n",
            "\n"
          ]
        }
      ]
    },
    {
      "cell_type": "code",
      "source": [
        "#Question2:\n",
        "#yatharth answer\n",
        "student_name=('nik','dev','saroson')\n",
        "student_age = (23, 22, 21)\n",
        "student_grades = ('A', 'B', 'F')\n",
        "student_name_list = list(student_name)\n",
        "\n",
        "# Check if the string '4' is in the student name, not the integer 4\n",
        "C = [print('Age is',student_age[i]) if student_age[i]>=22 else print(len(student_name)) for i in range(len(student_name_list))]\n",
        "#print(C)"
      ],
      "metadata": {
        "colab": {
          "base_uri": "https://localhost:8080/"
        },
        "id": "_NrzgDIU6028",
        "outputId": "c4228f8e-8bba-4f08-da18-5b28eaaa2a43"
      },
      "execution_count": null,
      "outputs": [
        {
          "output_type": "stream",
          "name": "stdout",
          "text": [
            "Age is 23\n",
            "Age is 22\n",
            "3\n"
          ]
        }
      ]
    },
    {
      "cell_type": "code",
      "source": [],
      "metadata": {
        "id": "ksjA-aDs6QLT"
      },
      "execution_count": null,
      "outputs": []
    }
  ]
}